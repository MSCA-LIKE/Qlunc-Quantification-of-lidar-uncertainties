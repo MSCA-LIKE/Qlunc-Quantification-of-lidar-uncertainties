{
 "cells": [
  {
   "cell_type": "markdown",
   "metadata": {},
   "source": [
    "#### Qlunc inputs tutorial by Francisco Costa\n",
    "# Qlunc (Quantification lidar uncertainties) \n",
    "Toolbox to assess uncertainties related with lidar hardware and lidar data processing\n",
    "In this tutorial you will get "
   ]
  },
  {
   "cell_type": "code",
   "execution_count": 1,
   "metadata": {},
   "outputs": [
    {
     "ename": "ModuleNotFoundError",
     "evalue": "No module named 'request'",
     "output_type": "error",
     "traceback": [
      "\u001b[1;31m---------------------------------------------------------------------------\u001b[0m",
      "\u001b[1;31mModuleNotFoundError\u001b[0m                       Traceback (most recent call last)",
      "\u001b[1;32m<ipython-input-1-13806ae70039>\u001b[0m in \u001b[0;36m<module>\u001b[1;34m\u001b[0m\n\u001b[1;32m----> 1\u001b[1;33m \u001b[1;32mimport\u001b[0m \u001b[0mrequest\u001b[0m\u001b[1;33m\u001b[0m\u001b[1;33m\u001b[0m\u001b[0m\n\u001b[0m\u001b[0;32m      2\u001b[0m \u001b[0mrr\u001b[0m\u001b[1;33m=\u001b[0m\u001b[0mrequests\u001b[0m\u001b[1;33m.\u001b[0m\u001b[0mget\u001b[0m\u001b[1;33m(\u001b[0m\u001b[0murl\u001b[0m\u001b[1;33m=\u001b[0m\u001b[1;34m\"https://github.com/PacoCosta/Qlunc/blob/Qlunc-V0.9/TestFiles_Qlunc/Working_example_yaml_inputs_file.yml\"\u001b[0m\u001b[1;33m)\u001b[0m\u001b[1;33m\u001b[0m\u001b[1;33m\u001b[0m\u001b[0m\n",
      "\u001b[1;31mModuleNotFoundError\u001b[0m: No module named 'request'"
     ]
    }
   ],
   "source": [
    "import requests\n",
    "rr=requests.get(url=\"https://github.com/PacoCosta/Qlunc/blob/Qlunc-V0.9/TestFiles_Qlunc/Working_example_yaml_inputs_file.yml\")"
   ]
  },
  {
   "cell_type": "code",
   "execution_count": 2,
   "metadata": {},
   "outputs": [],
   "source": [
    "import pandas as pd\n",
    "import sys,inspect\n",
    "from functools import reduce\n",
    "from operator import getitem\n",
    "import yaml"
   ]
  },
  {
   "cell_type": "markdown",
   "metadata": {},
   "source": [
    "Obtain data from _.yaml_ file:"
   ]
  },
  {
   "cell_type": "code",
   "execution_count": null,
   "metadata": {},
   "outputs": [],
   "source": [
    "with open (r'../GitHub_Qlunc/TestFiles_Qlunc/Working_example_yaml_inputs_file.yml','r') as file:\n",
    "    Qlunc_yaml_inputs={}\n",
    "    docs = yaml.load_all(file, Loader=yaml.FullLoader)\n",
    "    for doc in docs:      \n",
    "        for k, v in doc.items():     \n",
    "            Qlunc_yaml_inputs.setdefault(k,v)"
   ]
  },
  {
   "cell_type": "markdown",
   "metadata": {},
   "source": [
    "We obtain a dictionary with all the data introduced in the yaml file"
   ]
  },
  {
   "cell_type": "code",
   "execution_count": null,
   "metadata": {},
   "outputs": [],
   "source": [
    "Qlunc_yaml_inputs"
   ]
  },
  {
   "cell_type": "markdown",
   "metadata": {},
   "source": [
    "We create a class called \"direct\" to gather all necessary directories:"
   ]
  },
  {
   "cell_type": "code",
   "execution_count": null,
   "metadata": {},
   "outputs": [],
   "source": [
    "#%%Directories Class:\n",
    "class direct():\n",
    "    Main_directory=Qlunc_yaml_inputs['Main_directory'] # For now all data is stored in this directory"
   ]
  },
  {
   "cell_type": "markdown",
   "metadata": {},
   "source": [
    "We will need some physic constant for further calculations. We store them inside a class called cts:"
   ]
  },
  {
   "cell_type": "code",
   "execution_count": null,
   "metadata": {},
   "outputs": [],
   "source": [
    "class cts():\n",
    "    k = 1.38064852e-23 # Boltzman constant:[m^2 kg s^-2 K^-1]\n",
    "    h = 6.6207004e-34  # Plank constant [m^2 kg s^-1]\n",
    "    e = 1.60217662e-19 # electron charge [C]\n",
    "    c = 2.99792e8      #speed of light [m s^-1]"
   ]
  },
  {
   "cell_type": "markdown",
   "metadata": {},
   "source": [
    "Now we obtain the inputs from the .yaml file:"
   ]
  },
  {
   "cell_type": "code",
   "execution_count": null,
   "metadata": {},
   "outputs": [],
   "source": [
    "# Inputs class where are stored all inputs:\n",
    "class inputs():\n",
    "    modules = Qlunc_yaml_inputs['modules']\n",
    "\n",
    "# Atmospheric inputs: Could be a time series or a single valuated paremeter\n",
    "    class atm_inp():\n",
    "        if Qlunc_yaml_inputs['TimeSeries']:\n",
    "            AtmosphericScenarios_TS = pd.read_csv(direct.Main_directory+Qlunc_yaml_inputs['Atmos_TS_FILE'],delimiter=';',decimal=',')\n",
    "            Atmospheric_inputs={'temperature' : list(AtmosphericScenarios_TS.loc[:,'T']),\n",
    "                                'humidity'    : list(AtmosphericScenarios_TS.loc[:,'H']),\n",
    "                                'rain'        : list(AtmosphericScenarios_TS.loc[:,'rain']),\n",
    "                                'fog'         : list(AtmosphericScenarios_TS.loc[:,'fog']),\n",
    "                                'time'        : list(AtmosphericScenarios_TS.loc[:,'t'])} #for rain and fog intensity intervals might be introduced [none,low, medium high]\n",
    "        else:    \n",
    "            Atmospheric_inputs=Qlunc_yaml_inputs['Atmospheric_inputs']\n",
    "\n",
    "            #%% General lidar layout inputs:\n",
    "    class lidar_inp():\n",
    "        Lidar_inputs = Qlunc_yaml_inputs['Lidar_inputs']# (wave:[m],Laser_power: [mW])\n",
    "        \n",
    "# Photonics module inputs:\n",
    "    class photonics_inp():\n",
    "        Optical_amplifier_inputs = Qlunc_yaml_inputs['Optical_amplifier_inputs']    \n",
    "        Photodetector_inputs     = Qlunc_yaml_inputs['Photodetector_inputs']['Photodetector_noise']                                      \n",
    "        TIA_inputs               = Qlunc_yaml_inputs['Photodetector_inputs']['TIA_noise']\n"
   ]
  },
  {
   "cell_type": "markdown",
   "metadata": {},
   "source": [
    "We merge all user inputs (modules, components and uncertainty methods) in list to use later:"
   ]
  },
  {
   "cell_type": "code",
   "execution_count": null,
   "metadata": {},
   "outputs": [],
   "source": [
    "class user_inputs():\n",
    "    user_imodules=list(inputs.modules.keys()) # List of modules selected by the user \n",
    "    user_icomponents=[list(reduce(getitem,[i],inputs.modules).keys()) for i in inputs.modules.keys()] #List of components selected by the user\n",
    "    user_itype_noise= [list(inputs.modules[module].get(components,{})) for module in inputs.modules.keys() for components in inputs.modules[module].keys()] # List of methods to be applied selected by the user\n"
   ]
  }
 ],
 "metadata": {
  "kernelspec": {
   "display_name": "Python 3",
   "language": "python",
   "name": "python3"
  },
  "language_info": {
   "codemirror_mode": {
    "name": "ipython",
    "version": 3
   },
   "file_extension": ".py",
   "mimetype": "text/x-python",
   "name": "python",
   "nbconvert_exporter": "python",
   "pygments_lexer": "ipython3",
   "version": "3.7.4"
  }
 },
 "nbformat": 4,
 "nbformat_minor": 4
}
