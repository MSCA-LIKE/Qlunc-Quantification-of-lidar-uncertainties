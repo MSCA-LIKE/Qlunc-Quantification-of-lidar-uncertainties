{
 "cells": [
  {
   "cell_type": "markdown",
   "metadata": {},
   "source": [
    "\n",
    "#### Qlunc tutorial by Francisco Costa\n",
    "\n",
    "# **Tutorial 2**\n",
    "## Designing two lidar devices and compare against each other"
   ]
  },
  {
   "cell_type": "markdown",
   "metadata": {},
   "source": [
    "Along [Tutorial 1](file:///C:/Users/fcosta/SWE_LOCAL/Sphinx4Qlunc/_build/Tutorial1.html) we've learnt how to create a lidar device. Let's design two lidar devices and compare them. These devices differ from each other just in the scanner head, so we will build up two optic modules by changing the scanner component."
   ]
  },
  {
   "cell_type": "code",
   "execution_count": 1,
   "metadata": {},
   "outputs": [],
   "source": [
    "import os\n",
    "os.chdir('../')\n",
    "# importing  uncertainty functions\n",
    "import UQ_Functions.UQ_Photonics_Classes as uphc,UQ_Functions.UQ_Optics_Classes as uopc, UQ_Functions.UQ_Power_Classes as upwc,UQ_Functions.UQ_Lidar_Classes as ulc\n",
    "from Utils.Qlunc_ImportModules import *"
   ]
  },
  {
   "cell_type": "markdown",
   "metadata": {},
   "source": [
    "## Reading data from yaml files\n",
    "Let's design two different lidar devices. To do so we will read data from two differet yaml files: `yaml_inputs_file_1.yml` and `yaml_inputs_file_2.yml`"
   ]
  },
  {
   "cell_type": "code",
   "execution_count": 2,
   "metadata": {},
   "outputs": [],
   "source": [
    "# Reading data from .yml files:\n",
    "\n",
    "# Reading first lidar data and store it into Qlunc_yaml_inputs_1 variable\n",
    "with open (r'./Tutorials/yaml_inputs_file_2_1.yml','r') as file:\n",
    "    Qlunc_yaml_inputs_1={}\n",
    "    docs = yaml.load_all(file, Loader=yaml.FullLoader)\n",
    "    for doc in docs:      \n",
    "        for k, v in doc.items():     \n",
    "            Qlunc_yaml_inputs_1.setdefault(k,v)\n",
    "\n",
    "# Reading second lidar data and store it into Qlunc_yaml_inputs_2 variable\n",
    "with open (r'./Tutorials/yaml_inputs_file_2_2.yml','r') as file:\n",
    "    Qlunc_yaml_inputs_2 = {}\n",
    "    docs = yaml.load_all(file, Loader=yaml.FullLoader)\n",
    "    for doc in docs:      \n",
    "        for k, v in doc.items():     \n",
    "            Qlunc_yaml_inputs_2.setdefault(k,v)"
   ]
  },
  {
   "cell_type": "markdown",
   "metadata": {},
   "source": [
    "Let's have a look to the data:"
   ]
  },
  {
   "cell_type": "code",
   "execution_count": 3,
   "metadata": {},
   "outputs": [
    {
     "data": {
      "text/plain": [
       "{'Main_directory': './Tutorials',\n",
       " 'Components': {'Scanner': {'Name': 'Scanner_Yaml2',\n",
       "   'Origin': [0, 0, 0],\n",
       "   'Pattern': 'None',\n",
       "   'Sample rate': 0,\n",
       "   'Type': 'VAD',\n",
       "   'stdv focus distance': 0,\n",
       "   'stdv Cone angle': 10,\n",
       "   'stdv Azimuth': 0,\n",
       "   'Focus distance': [30],\n",
       "   'Cone angle': [20],\n",
       "   'Azimuth': [0, 360, 8],\n",
       "   'x': [20, 20, 20],\n",
       "   'y': [0, 0, 0],\n",
       "   'z': [20, 0, -20],\n",
       "   'Uncertainty function': 'uopc.UQ_Scanner'},\n",
       "  'Optical Circulator': {'Name': 'OC_Yaml2',\n",
       "   'Insertion loss': 2.1,\n",
       "   'Uncertainty function': 'uopc.UQ_OpticalCirculator'},\n",
       "  'Optical Amplifier': {'Name': 'OA_Yaml2',\n",
       "   'Optical amplifier noise figure': '../metadata/NoiseFigure.csv',\n",
       "   'Optical amplifier gain': 30,\n",
       "   'Uncertainty function': 'uphc.UQ_Optical_amplifier'},\n",
       "  'Photodetector': {'Name': 'Photodetector_Yaml2',\n",
       "   'Photodetector BandWidth': 380000000.0,\n",
       "   'Load resistor': 50,\n",
       "   'Photodetector efficiency': 0.85,\n",
       "   'Dark current': 5e-09,\n",
       "   'Photodetector signalP': 0.001,\n",
       "   'Power interval': [0, 1000, 0.001],\n",
       "   'Gain TIA': 5000.0,\n",
       "   'V Noise TIA': 0.00016,\n",
       "   'Uncertainty function': 'uphc.UQ_Photodetector'},\n",
       "  'Lidar general inputs': {'Name': 'Lidar_gral_inputs_Yaml2',\n",
       "   'Wavelength': 1.55e-06,\n",
       "   'Yaw error': 0,\n",
       "   'Pitch error': 0,\n",
       "   'Roll error': 0}},\n",
       " 'Modules': {'Optics Module': {'Name': 'Optics_module_Yaml2',\n",
       "   'Scanner': 'Scanner2',\n",
       "   'Optical circulator': 'Optical_circulator',\n",
       "   'Laser': 'None',\n",
       "   'Uncertainty function': 'uopc.sum_unc_optics'},\n",
       "  'Photonics Module': {'Name': 'Photonics_module_Yaml',\n",
       "   'Photodetector': 'Photodetector',\n",
       "   'Optical amplifier': 'Optical_Amplifier',\n",
       "   'Uncertainty function': 'uphc.sum_unc_photonics'}},\n",
       " 'Lidar': {'Name': 'Caixa2',\n",
       "  'Photonics module': 'Photonics_Module',\n",
       "  'Optics module': 'Optics_Module2',\n",
       "  'Power module': 'None',\n",
       "  'Lidar inputs': 'Lidar_inputs',\n",
       "  'Uncertainty function': 'ulc.sum_unc_lidar'},\n",
       " 'Atmospheric_inputs': {'Name': 'Atmosphere_Yaml2',\n",
       "  'TimeSeries': False,\n",
       "  'Atmos_TS_FILE': 'AtmosphericScenarios.csv',\n",
       "  'Temperature': [300],\n",
       "  'Humidity': [12],\n",
       "  'Rain': True,\n",
       "  'Fog': False},\n",
       " 'Flags': {'Pointing accuracy uncertainty': False,\n",
       "  'Scanning Pattern': False,\n",
       "  'Photodetector noise': False,\n",
       "  'Save Scanning Coordinates': False}}"
      ]
     },
     "execution_count": 3,
     "metadata": {},
     "output_type": "execute_result"
    }
   ],
   "source": [
    "Qlunc_yaml_inputs_2"
   ]
  },
  {
   "cell_type": "code",
   "execution_count": 4,
   "metadata": {},
   "outputs": [
    {
     "data": {
      "text/plain": [
       "{'Main_directory': './Tutorials',\n",
       " 'Components': {'Scanner': {'Name': 'Scanner_Yaml',\n",
       "   'Origin': [0, 0, 0],\n",
       "   'Pattern': 'None',\n",
       "   'Sample rate': 0,\n",
       "   'Type': 'VAD',\n",
       "   'stdv focus distance': 0,\n",
       "   'stdv Cone angle': 10,\n",
       "   'stdv Azimuth': 0,\n",
       "   'Focus distance': [70],\n",
       "   'Cone angle': [20],\n",
       "   'Azimuth': [0, 360, 8],\n",
       "   'x': [20, 20, 20],\n",
       "   'y': [0, 0, 0],\n",
       "   'z': [20, 0, -20],\n",
       "   'Uncertainty function': 'uopc.UQ_Scanner'},\n",
       "  'Optical Circulator': {'Name': 'OC_Yaml',\n",
       "   'Insertion loss': 2.1,\n",
       "   'Uncertainty function': 'uopc.UQ_OpticalCirculator'},\n",
       "  'Optical Amplifier': {'Name': 'OA_Yaml',\n",
       "   'Optical amplifier noise figure': './metadata/NoiseFigure.csv',\n",
       "   'Optical amplifier gain': 30,\n",
       "   'Uncertainty function': 'uphc.UQ_Optical_amplifier'},\n",
       "  'Photodetector': {'Name': 'Photodetector_Yaml',\n",
       "   'Photodetector BandWidth': 380000000.0,\n",
       "   'Load resistor': 50,\n",
       "   'Photodetector efficiency': 0.85,\n",
       "   'Dark current': 5e-09,\n",
       "   'Photodetector signalP': 0.001,\n",
       "   'Power interval': [0, 1000, 0.001],\n",
       "   'Gain TIA': 5000.0,\n",
       "   'V Noise TIA': 0.00016,\n",
       "   'Uncertainty function': 'uphc.UQ_Photodetector'},\n",
       "  'Lidar general inputs': {'Name': 'Lidar_gral_inputs_Yaml',\n",
       "   'Wavelength': 1.55e-06,\n",
       "   'Yaw error': 0,\n",
       "   'Pitch error': 0,\n",
       "   'Roll error': 0}},\n",
       " 'Modules': {'Optics Module': {'Name': 'Optics_module_Yaml',\n",
       "   'Scanner': 'Scanner',\n",
       "   'Optical circulator': 'Optical_circulator',\n",
       "   'Laser': 'None',\n",
       "   'Uncertainty function': 'uopc.sum_unc_optics'},\n",
       "  'Photonics Module': {'Name': 'Photonics_module_Yaml',\n",
       "   'Photodetector': 'Photodetector',\n",
       "   'Optical amplifier': 'Optical_Amplifier',\n",
       "   'Uncertainty function': 'uphc.sum_unc_photonics'}},\n",
       " 'Lidar': {'Name': 'Caixa1',\n",
       "  'Photonics module': 'Photonics_Module',\n",
       "  'Optics module': 'Optics_Module',\n",
       "  'Power module': 'None',\n",
       "  'Lidar inputs': 'Lidar_inputs',\n",
       "  'Uncertainty function': 'ulc.sum_unc_lidar'},\n",
       " 'Atmospheric_inputs': {'Name': 'Atmosphere_Yaml',\n",
       "  'TimeSeries': False,\n",
       "  'Atmos_TS_FILE': 'AtmosphericScenarios.csv',\n",
       "  'Temperature': [300],\n",
       "  'Humidity': [12],\n",
       "  'Rain': True,\n",
       "  'Fog': False},\n",
       " 'Flags': {'Pointing accuracy uncertainty': False,\n",
       "  'Scanning Pattern': False,\n",
       "  'Photodetector noise': False,\n",
       "  'Save Scanning Coordinates': False}}"
      ]
     },
     "execution_count": 4,
     "metadata": {},
     "output_type": "execute_result"
    }
   ],
   "source": [
    "Qlunc_yaml_inputs_1"
   ]
  },
  {
   "cell_type": "markdown",
   "metadata": {},
   "source": [
    "## Creating python classes:\n",
    "We create the python classes by running the Qlunc Core: `Qlunc_Classes.py`. Since both `.yml` files are in the same directory just have to chose where do we want to take the `WorkingExample_Qlunc_Classes.py` path from."
   ]
  },
  {
   "cell_type": "code",
   "execution_count": 5,
   "metadata": {
    "scrolled": true
   },
   "outputs": [],
   "source": [
    "# Execute Qlunc_Classes.py (creating classes for lidar 'objects'):\n",
    "exec(open(Qlunc_yaml_inputs_2['Main_directory']+'/WorkingExample_Tutorial.py').read())  "
   ]
  },
  {
   "cell_type": "markdown",
   "metadata": {},
   "source": [
    "The main directory is taken from the yaml file, as well as the rest of the lidar parameters, including plotting flags which select what we want to plot:\n"
   ]
  },
  {
   "cell_type": "markdown",
   "metadata": {},
   "source": [
    "## Creating scanner heads:\n",
    "Then is the moment to create a scanner object for each lidar using the different input data parameters"
   ]
  },
  {
   "cell_type": "code",
   "execution_count": 6,
   "metadata": {},
   "outputs": [
    {
     "name": "stdout",
     "output_type": "stream",
     "text": [
      " Volume in drive C has no label.\n",
      " Volume Serial Number is 0C54-9785\n",
      "\n",
      " Directory of C:\\Users\\fcosta\\SWE_LOCAL\\GIT_Qlunc\n",
      "\n",
      "30.04.2021  14:55    <DIR>          .\n",
      "30.04.2021  14:55    <DIR>          ..\n",
      "30.03.2021  02:01    <DIR>          .github\n",
      "30.03.2021  02:01               217 .gitignore\n",
      "30.03.2021  02:01    <DIR>          Docs\n",
      "30.03.2021  02:01               454 environment.yml\n",
      "28.03.2021  20:25    <DIR>          JOSS\n",
      "30.03.2021  02:01             1.566 LICENSE\n",
      "30.04.2021  13:40    <DIR>          Main\n",
      "30.03.2021  02:01    <DIR>          metadata\n",
      "30.03.2021  21:00    <DIR>          Pictures_repo_\n",
      "30.04.2021  14:55             7.899 readme.md\n",
      "01.05.2021  15:18    <DIR>          Sphinx4Qlunc\n",
      "01.04.2021  09:50    <DIR>          TestFiles_Qlunc\n",
      "01.05.2021  15:19    <DIR>          Tutorials\n",
      "30.04.2021  13:36    <DIR>          UQ_Functions\n",
      "16.04.2021  22:33    <DIR>          Utils\n",
      "30.03.2021  02:01                93 __init__.py\n",
      "30.03.2021  02:01    <DIR>          __pycache__\n",
      "               5 File(s)         10.229 bytes\n",
      "              14 Dir(s)  157.203.161.088 bytes free\n"
     ]
    }
   ],
   "source": [
    "!dir"
   ]
  },
  {
   "cell_type": "code",
   "execution_count": 7,
   "metadata": {},
   "outputs": [
    {
     "name": "stdout",
     "output_type": "stream",
     "text": [
      "Created new scanner: Scanner_Yaml\n",
      "Created new scanner: Scanner_Yaml2\n"
     ]
    }
   ],
   "source": [
    "# Instantiating scanner class to create a Scanner virtual-twin:\n",
    "\n",
    "Scanner           = scanner(name            = Qlunc_yaml_inputs_1['Components']['Scanner']['Name'],           # Introduce your scanner name.\n",
    "                            scanner_type    = Qlunc_yaml_inputs_1['Components']['Scanner']['Type'],\n",
    "                            origin          = Qlunc_yaml_inputs_1['Components']['Scanner']['Origin'],         # Origin (coordinates of the lidar deployment).\n",
    "                            pattern         = Qlunc_yaml_inputs_1['Components']['Scanner']['Pattern'],\n",
    "                            sample_rate     = Qlunc_yaml_inputs_1['Components']['Scanner']['Sample rate'],    # for now introduce it in [degrees].\n",
    "                           \n",
    "                           # This values for focus distance, cone_angle and azimuth define a typical VAD scanning sequence:\n",
    "                            azimuth         = np.array(np.arange(Qlunc_yaml_inputs_1['Components']['Scanner']['Azimuth'][0],                                                  \n",
    "                                                                 Qlunc_yaml_inputs_1['Components']['Scanner']['Azimuth'][1],\n",
    "                                                                 Qlunc_yaml_inputs_1['Components']['Scanner']['Azimuth'][2])), # Azimuth angle in [degrees].\n",
    "                            focus_dist      = np.tile(Qlunc_yaml_inputs_1['Components']['Scanner']['Focus distance'],(1,len(np.arange(Qlunc_yaml_inputs_1['Components']['Scanner']['Azimuth'][0],                                                  \n",
    "                                                                 Qlunc_yaml_inputs_1['Components']['Scanner']['Azimuth'][1],\n",
    "                                                                 Qlunc_yaml_inputs_1['Components']['Scanner']['Azimuth'][2]))))[0],   # Focus distance in [meters]                                        \n",
    "                            cone_angle      = np.tile(Qlunc_yaml_inputs_1['Components']['Scanner']['Cone angle'],(1,len(np.arange(Qlunc_yaml_inputs_1['Components']['Scanner']['Azimuth'][0],                                                  \n",
    "                                                                 Qlunc_yaml_inputs_1['Components']['Scanner']['Azimuth'][1],\n",
    "                                                                 Qlunc_yaml_inputs_1['Components']['Scanner']['Azimuth'][2]))))[0],   # Cone angle in [degrees].\n",
    "                            x               = np.array(Qlunc_yaml_inputs_1['Components']['Scanner']['x']),\n",
    "                            y               = np.array(Qlunc_yaml_inputs_1['Components']['Scanner']['y']),\n",
    "                            z               = np.array(Qlunc_yaml_inputs_1['Components']['Scanner']['z']),\n",
    "                            stdv_focus_dist = Qlunc_yaml_inputs_1['Components']['Scanner']['stdv focus distance'],                 # Focus distance standard deviation in [meters].\n",
    "                            stdv_cone_angle = Qlunc_yaml_inputs_1['Components']['Scanner']['stdv Cone angle'],                 # Cone angle standard deviation in [degrees].\n",
    "                            stdv_azimuth    = Qlunc_yaml_inputs_1['Components']['Scanner']['stdv Azimuth'],                 # Azimuth angle standard deviation in [degrees].\n",
    "                            unc_func        = uopc.UQ_Scanner) #eval(Qlunc_yaml_inputs['Components']['Scanner']['Uncertainty function']) )    # here you put the function describing your scanner uncertainty. \n",
    "\n",
    "Scanner2          = scanner(name            = Qlunc_yaml_inputs_2['Components']['Scanner']['Name'],           # Introduce your scanner name.\n",
    "                            scanner_type    = Qlunc_yaml_inputs_2['Components']['Scanner']['Type'],\n",
    "                            origin          = Qlunc_yaml_inputs_2['Components']['Scanner']['Origin'],         # Origin (coordinates of the lidar deployment).\n",
    "                            pattern         = Qlunc_yaml_inputs_2['Components']['Scanner']['Pattern'],\n",
    "                            sample_rate     = Qlunc_yaml_inputs_2['Components']['Scanner']['Sample rate'],    # for now introduce it in [degrees].\n",
    "                           \n",
    "                           # This values for focus distance, cone_angle and azimuth define a typical VAD scanning sequence:\n",
    "                            azimuth         = np.array(np.arange(Qlunc_yaml_inputs_2['Components']['Scanner']['Azimuth'][0],                                                  \n",
    "                                                                 Qlunc_yaml_inputs_2['Components']['Scanner']['Azimuth'][1],\n",
    "                                                                 Qlunc_yaml_inputs_2['Components']['Scanner']['Azimuth'][2])), # Azimuth angle in [degrees].\n",
    "                            focus_dist      = np.tile(Qlunc_yaml_inputs_2['Components']['Scanner']['Focus distance'],(1,len(np.arange(Qlunc_yaml_inputs_2['Components']['Scanner']['Azimuth'][0],                                                  \n",
    "                                                                 Qlunc_yaml_inputs_2['Components']['Scanner']['Azimuth'][1],\n",
    "                                                                 Qlunc_yaml_inputs_2['Components']['Scanner']['Azimuth'][2]))))[0],   # Focus distance in [meters]                                        \n",
    "                            cone_angle      = np.tile(Qlunc_yaml_inputs_2['Components']['Scanner']['Cone angle'],(1,len(np.arange(Qlunc_yaml_inputs_2['Components']['Scanner']['Azimuth'][0],                                                  \n",
    "                                                                 Qlunc_yaml_inputs_2['Components']['Scanner']['Azimuth'][1],\n",
    "                                                                 Qlunc_yaml_inputs_2['Components']['Scanner']['Azimuth'][2]))))[0],   # Cone angle in [degrees].\n",
    "                            x               = np.array(Qlunc_yaml_inputs_2['Components']['Scanner']['x']),\n",
    "                            y               = np.array(Qlunc_yaml_inputs_2['Components']['Scanner']['y']),\n",
    "                            z               = np.array(Qlunc_yaml_inputs_2['Components']['Scanner']['z']),\n",
    "                            stdv_focus_dist = Qlunc_yaml_inputs_2['Components']['Scanner']['stdv focus distance'],                 # Focus distance standard deviation in [meters].\n",
    "                            stdv_cone_angle = Qlunc_yaml_inputs_2['Components']['Scanner']['stdv Cone angle'],                 # Cone angle standard deviation in [degrees].\n",
    "                            stdv_azimuth    = Qlunc_yaml_inputs_2['Components']['Scanner']['stdv Azimuth'],                 # Azimuth angle standard deviation in [degrees].\n",
    "                            unc_func        = uopc.UQ_Scanner) #eval(Qlunc_yaml_inputs['Components']['Scanner']['Uncertainty function']) )    # here you put the function describing your scanner uncertainty. \n",
    "\n"
   ]
  },
  {
   "cell_type": "markdown",
   "metadata": {},
   "source": [
    "## Optical circulator:\n",
    "Once we have created the different scanning heads we can create the optical circulator. Since they use the same optical circulator we just have to create one for both lidars. "
   ]
  },
  {
   "cell_type": "code",
   "execution_count": 8,
   "metadata": {},
   "outputs": [
    {
     "name": "stdout",
     "output_type": "stream",
     "text": [
      "Created new optical circulator: OC_Yaml\n"
     ]
    }
   ],
   "source": [
    "#Optical Circulator:\n",
    "\n",
    "Optical_circulator = optical_circulator (name           = Qlunc_yaml_inputs_1['Components']['Optical Circulator']['Name'],\n",
    "                                         insertion_loss = Qlunc_yaml_inputs_1['Components']['Optical Circulator']['Insertion loss'],              \n",
    "                                         unc_func       = eval(Qlunc_yaml_inputs_1['Components']['Optical Circulator']['Uncertainty function']))  "
   ]
  },
  {
   "cell_type": "markdown",
   "metadata": {},
   "source": [
    "## Optics modules:\n",
    "Create the optics modules by introducing scanners and optical circulator in them (by instantiating the optics `class`):"
   ]
  },
  {
   "cell_type": "code",
   "execution_count": 9,
   "metadata": {},
   "outputs": [
    {
     "name": "stdout",
     "output_type": "stream",
     "text": [
      "Created new optic module: Optics_module_Yaml\n",
      "Created new optic module: Optics_module_Yaml2\n"
     ]
    }
   ],
   "source": [
    "# Optics Module lidar1:\n",
    "\n",
    "Optics_Module =  optics (name               = Qlunc_yaml_inputs_1['Modules']['Optics Module']['Name'],     # Introduce your Optics Module name.\n",
    "                          scanner            = eval(Qlunc_yaml_inputs_1['Modules']['Optics Module']['Scanner']),             # Scanner instance (in this example \"Scanner\") or \"None\". \"None\" means that you don´t want to include Scanner in Optics Module, either in uncertainty calculations.\n",
    "                          optical_circulator = eval(Qlunc_yaml_inputs_1['Modules']['Optics Module']['Optical circulator']),  # Optical Circulator instance (in this example \"Optical_circulator\") or \"None\". \"None\" means that you don´t want to include Optical circulator in Optics Module, either in uncertainty calculations.\n",
    "                          laser              = eval(Qlunc_yaml_inputs_1['Modules']['Optics Module']['Laser']),\n",
    "                          unc_func           = eval(Qlunc_yaml_inputs_1['Modules']['Optics Module']['Uncertainty function']))\n",
    "# Optics Module lidar2:\n",
    "Optics_Module2 =  optics (name               = Qlunc_yaml_inputs_2['Modules']['Optics Module']['Name'],     # Introduce your Optics Module name.\n",
    "                          scanner            = eval(Qlunc_yaml_inputs_2['Modules']['Optics Module']['Scanner']),             # Scanner instance (in this example \"Scanner\") or \"None\". \"None\" means that you don´t want to include Scanner in Optics Module, either in uncertainty calculations.\n",
    "                          optical_circulator = eval(Qlunc_yaml_inputs_2['Modules']['Optics Module']['Optical circulator']),  # Optical Circulator instance (in this example \"Optical_circulator\") or \"None\". \"None\" means that you don´t want to include Optical circulator in Optics Module, either in uncertainty calculations.\n",
    "                          laser              = eval(Qlunc_yaml_inputs_2['Modules']['Optics Module']['Laser']),\n",
    "                          unc_func           = eval(Qlunc_yaml_inputs_2['Modules']['Optics Module']['Uncertainty function']))"
   ]
  },
  {
   "cell_type": "markdown",
   "metadata": {},
   "source": [
    "## Photonics:"
   ]
  },
  {
   "cell_type": "code",
   "execution_count": 10,
   "metadata": {},
   "outputs": [
    {
     "name": "stdout",
     "output_type": "stream",
     "text": [
      "Created new optical amplifier: OA_Yaml\n"
     ]
    }
   ],
   "source": [
    "# Instantiating optical amplifier:\n",
    "\n",
    "Optical_Amplifier = optical_amplifier(name     = Qlunc_yaml_inputs_1['Components']['Optical Amplifier']['Name'],        # Introduce your scanner name.\n",
    "\n",
    "                                      NoiseFig = Qlunc_yaml_inputs_1['Components']['Optical Amplifier']['Optical amplifier noise figure'],          # In [dB]. Can introduce it as a table from manufactures (in this example the data is taken from Thorlabs.com, in section EDFA\\Graps) or introduce a single well-known value\n",
    "\n",
    "                                      OA_Gain  = Qlunc_yaml_inputs_1['Components']['Optical Amplifier']['Optical amplifier gain'],                         # In [dB]. (in this example the data is taken from Thorlabs.com, in section EDFA\\Specs)\n",
    "\n",
    "                                      unc_func = eval(Qlunc_yaml_inputs_1['Components']['Optical Amplifier']['Uncertainty function']))  # Function describing Optical Amplifier uncertainty. Further informaion in \"UQ_Photonics_Classes.py\" comments.\n"
   ]
  },
  {
   "cell_type": "markdown",
   "metadata": {},
   "source": [
    "Photodetector digital twin:"
   ]
  },
  {
   "cell_type": "code",
   "execution_count": 11,
   "metadata": {},
   "outputs": [
    {
     "name": "stdout",
     "output_type": "stream",
     "text": [
      "Created new photodetector: Photodetector_Yaml\n"
     ]
    }
   ],
   "source": [
    "# Instantiating Photodetector:\n",
    "\n",
    "Photodetector    = photodetector(name             = Qlunc_yaml_inputs_1['Components']['Photodetector']['Name'],               # Introduce your photodetector name.\n",
    "\n",
    "                                 Photo_BandWidth  = Qlunc_yaml_inputs_1['Components']['Photodetector']['Photodetector BandWidth'],                  # In[]. Photodetector bandwidth\n",
    "\n",
    "                                 Load_Resistor    = Qlunc_yaml_inputs_1['Components']['Photodetector']['Load resistor'],                     # In [ohms]\n",
    "\n",
    "                                 Photo_efficiency = Qlunc_yaml_inputs_1['Components']['Photodetector']['Photodetector efficiency'],                    # Photodetector efficiency [-]\n",
    "\n",
    "                                 Dark_Current     = Qlunc_yaml_inputs_1['Components']['Photodetector']['Dark current'],                   #  In [A]. Dark current in the photodetector.\n",
    "\n",
    "                                 Photo_SignalP    = Qlunc_yaml_inputs_1['Components']['Photodetector']['Photodetector signalP'],\n",
    "\n",
    "                                 Power_interval   = np.array(np.arange(Qlunc_yaml_inputs_1['Components']['Photodetector']['Power interval'][0],\n",
    "\n",
    "                                                                       Qlunc_yaml_inputs_1['Components']['Photodetector']['Power interval'][1],\n",
    "\n",
    "                                                                       Qlunc_yaml_inputs_1['Components']['Photodetector']['Power interval'][2])),#np.arange(Qlunc_yaml_inputs['Components']['Photodetector']['Power interval']), # In [w]. Power interval for the photodetector domain in photodetector SNR plot. \n",
    "\n",
    "                                 Gain_TIA         = Qlunc_yaml_inputs_1['Components']['Photodetector']['Gain TIA'],                    # In [dB]. If there is a transimpedance amplifier.\n",
    "\n",
    "                                 V_Noise_TIA      = Qlunc_yaml_inputs_1['Components']['Photodetector']['V Noise TIA'],                 # In [V]. If there is a transimpedance amplifier.\n",
    "\n",
    "                                 unc_func         = eval(Qlunc_yaml_inputs_1['Components']['Photodetector']['Uncertainty function']))  # Function describing Photodetector uncertainty. Further informaion in \"UQ_Photonics_Classes.py\" comments."
   ]
  },
  {
   "cell_type": "markdown",
   "metadata": {},
   "source": [
    "Photonics module digital twin:\n",
    "And finally the Photonics module:\n"
   ]
  },
  {
   "cell_type": "code",
   "execution_count": 12,
   "metadata": {},
   "outputs": [
    {
     "name": "stdout",
     "output_type": "stream",
     "text": [
      "Created new photonic module: Photonics_module_Yaml\n"
     ]
    }
   ],
   "source": [
    "# Instantiating Photonics module:\n",
    "\n",
    "Photonics_Module = photonics(name              = Qlunc_yaml_inputs_1['Modules']['Photonics Module']['Name'],        # Introduce your Photonics module name\n",
    "\n",
    "                             photodetector     = eval(Qlunc_yaml_inputs_1['Modules']['Photonics Module']['Photodetector']),             # Photodetector instance (in this example \"Photodetector\") or \"None\". \"None\" means that you don´t want to include photodetector in Photonics Module, either in uncertainty calculations.\n",
    "\n",
    "                             optical_amplifier = eval(Qlunc_yaml_inputs_1['Modules']['Photonics Module']['Optical amplifier']),         # Scanner instance (in this example \"OpticalAmplifier\") or \"None\". \"None\" means that you don´t want to include Optical Amplifier in Photonics Module, either in uncertainty calculations.\n",
    "\n",
    "                             unc_func          = eval(Qlunc_yaml_inputs_1['Modules']['Photonics Module']['Uncertainty function']))"
   ]
  },
  {
   "cell_type": "markdown",
   "metadata": {},
   "source": [
    "Lidar general inputs:"
   ]
  },
  {
   "cell_type": "code",
   "execution_count": 13,
   "metadata": {},
   "outputs": [
    {
     "name": "stdout",
     "output_type": "stream",
     "text": [
      "Created new lidar general inputs: Lidar_gral_inputs_Yaml\n",
      "Created new lidar general inputs: Lidar_gral_inputs_Yaml2\n"
     ]
    }
   ],
   "source": [
    "# Instantiating lidar general inputs\n",
    "\n",
    "Lidar_inputs = lidar_gral_inp(name        = Qlunc_yaml_inputs_1['Components']['Lidar general inputs']['Name'],\n",
    "\n",
    "                              wave        = Qlunc_yaml_inputs_1['Components']['Lidar general inputs']['Wavelength'],\n",
    "\n",
    "                              yaw_error   = Qlunc_yaml_inputs_1['Components']['Lidar general inputs']['Yaw error'],                          \n",
    "\n",
    "                              pitch_error = Qlunc_yaml_inputs_1['Components']['Lidar general inputs']['Pitch error'],                          \n",
    "\n",
    "                              roll_error  = Qlunc_yaml_inputs_1['Components']['Lidar general inputs']['Roll error'],\n",
    "                              dataframe   = {})\n",
    "\n",
    "Lidar_inputs_2 = lidar_gral_inp(name        = Qlunc_yaml_inputs_2['Components']['Lidar general inputs']['Name'],\n",
    "\n",
    "                                wave        = Qlunc_yaml_inputs_2['Components']['Lidar general inputs']['Wavelength'],\n",
    "\n",
    "                                yaw_error   = Qlunc_yaml_inputs_2['Components']['Lidar general inputs']['Yaw error'],                          \n",
    "\n",
    "                                pitch_error = Qlunc_yaml_inputs_2['Components']['Lidar general inputs']['Pitch error'],                          \n",
    "\n",
    "                                roll_error  = Qlunc_yaml_inputs_2['Components']['Lidar general inputs']['Roll error'],\n",
    "                                dataframe   = {})"
   ]
  },
  {
   "cell_type": "markdown",
   "metadata": {},
   "source": [
    "Atmospheric scenarios:\n",
    "\n",
    "We can create different atmospheric scenarios under which the lidar uncertainties are assessed. Thus, single or multiple scenarios can be evaluated either including single or time-seried atmospheric variables values."
   ]
  },
  {
   "cell_type": "code",
   "execution_count": 14,
   "metadata": {},
   "outputs": [
    {
     "name": "stdout",
     "output_type": "stream",
     "text": [
      "Created new atmosphere: Atmosphere1\n"
     ]
    }
   ],
   "source": [
    "# Instantiating atmospheric scenario(s): Assuming both lidars ahve the same atmospheric \n",
    "Atmospheric_TimeSeries = Qlunc_yaml_inputs_1['Atmospheric_inputs']['TimeSeries']  \n",
    "                                                                           \n",
    "if Atmospheric_TimeSeries:\n",
    "    Atmos_TS_FILE           = '../metadata/AtmosphericData/'+Qlunc_yaml_inputs_1['Atmospheric_inputs']['Atmos_TS_FILE']\n",
    "    AtmosphericScenarios_TS = pd.read_csv(Atmos_TS_FILE,delimiter=';',decimal=',')\n",
    "    Atmospheric_inputs = {\n",
    "                          'temperature' : list(AtmosphericScenarios_TS.loc[:,'T']),    \n",
    "                          'humidity'    : list(AtmosphericScenarios_TS.loc[:,'H']),    \n",
    "                          'rain'        : list(AtmosphericScenarios_TS.loc[:,'rain']),\n",
    "                          'fog'         : list(AtmosphericScenarios_TS.loc[:,'fog']),\n",
    "                          'time'        : list(AtmosphericScenarios_TS.loc[:,'t'])     \n",
    "                          } \n",
    "    Atmospheric_Scenario = atmosphere(name        = 'Atmosphere1',\n",
    "                                      temperature = Atmospheric_inputs['temperature'])\n",
    "else:    \n",
    "\n",
    "    Atmospheric_Scenario = atmosphere(name        = 'Atmosphere1',\n",
    "                                      temperature = Qlunc_yaml_inputs_1['Atmospheric_inputs']['Temperature'])"
   ]
  },
  {
   "cell_type": "markdown",
   "metadata": {},
   "source": [
    "Now we build up the lidar devices by putting all components together:"
   ]
  },
  {
   "cell_type": "code",
   "execution_count": 15,
   "metadata": {},
   "outputs": [
    {
     "name": "stdout",
     "output_type": "stream",
     "text": [
      "Created new lidar device: Caixa1\n",
      "Created new lidar device: Caixa2\n"
     ]
    }
   ],
   "source": [
    "Lidar_1 = lidar(name         = Qlunc_yaml_inputs_1['Lidar']['Name'],                       # Introduce the name of your lidar device.\n",
    "                photonics    = eval(Qlunc_yaml_inputs_1['Lidar']['Photonics module']),     # Introduce the name of your photonics module.\n",
    "                optics       = eval(Qlunc_yaml_inputs_1['Lidar']['Optics module']),        # Introduce the name of your optics module.\n",
    "                power        = eval(Qlunc_yaml_inputs_1['Lidar']['Power module']),         # Introduce the name of your power module. NOT IMPLEMENTED YET!\n",
    "                lidar_inputs = eval(Qlunc_yaml_inputs_1['Lidar']['Lidar inputs']),         # Introduce lidar general inputs\n",
    "                unc_func     = eval(Qlunc_yaml_inputs_1['Lidar']['Uncertainty function'])) # Function estimating lidar global uncertainty\n",
    "\n",
    "Lidar_2 = lidar(name         = Qlunc_yaml_inputs_2['Lidar']['Name'],                       # Introduce the name of your lidar device.\n",
    "                photonics    = eval(Qlunc_yaml_inputs_2['Lidar']['Photonics module']),     # Introduce the name of your photonics module.\n",
    "                optics       = eval(Qlunc_yaml_inputs_2['Lidar']['Optics module']),        # Introduce the name of your optics module.\n",
    "                power        = eval(Qlunc_yaml_inputs_2['Lidar']['Power module']),         # Introduce the name of your power module. NOT IMPLEMENTED YET!\n",
    "                lidar_inputs = eval(Qlunc_yaml_inputs_2['Lidar']['Lidar inputs']),         # Introduce lidar general inputs\n",
    "                unc_func     = eval(Qlunc_yaml_inputs_2['Lidar']['Uncertainty function'])) # Function estimating lidar global uncertainty\n"
   ]
  },
  {
   "cell_type": "markdown",
   "metadata": {},
   "source": [
    "and plot both lidars together:"
   ]
  },
  {
   "cell_type": "code",
   "execution_count": 16,
   "metadata": {},
   "outputs": [],
   "source": [
    "# Plotting parameters:\n",
    "plot_param={\n",
    "            'axes_label_fontsize' : 16,\n",
    "            'textbox_fontsize'    : 14,\n",
    "            'title_fontsize'      : 18,\n",
    "            'suptitle_fontsize'   : 23,\n",
    "            'legend_fontsize'     : 12,\n",
    "            'xlim'                : [-25,25],\n",
    "            'ylim'                : [-25,25],\n",
    "            'zlim'                : [0,90],\n",
    "            'markersize'          : 5,\n",
    "            'markersize_lidar'    : 9,\n",
    "            'marker'              : '.',\n",
    "            'markerTheo'          : '.b',\n",
    "            'tick_labelrotation'  : 45,\n",
    "            'Qlunc_version'       : 'Qlunc Version - 0.9'\n",
    "           }"
   ]
  },
  {
   "cell_type": "code",
   "execution_count": 17,
   "metadata": {},
   "outputs": [],
   "source": [
    "Scanner_Data1,ScDf1 = Lidar_1.optics.scanner.Uncertainty(Lidar_1,Atmospheric_Scenario,cts,Qlunc_yaml_inputs_1) \n",
    "Scanner_Data2,ScDf2 = Lidar_2.optics.scanner.Uncertainty(Lidar_2,Atmospheric_Scenario,cts,Qlunc_yaml_inputs_2) "
   ]
  },
  {
   "cell_type": "code",
   "execution_count": 18,
   "metadata": {},
   "outputs": [
    {
     "data": {
      "text/plain": [
       "(0.0, 90.0)"
      ]
     },
     "execution_count": 18,
     "metadata": {},
     "output_type": "execute_result"
    },
    {
     "data": {
      "image/png": "[encoded data removed]",
      "text/plain": [
       "<Figure size 432x288 with 1 Axes>"
      ]
     },
     "metadata": {
      "needs_background": "light"
     },
     "output_type": "display_data"
    }
   ],
   "source": [
    "\n",
    "\n",
    "# Creating the figure and the axes\n",
    "fig,axs4 = plt.subplots()  \n",
    "axs4=plt.axes(projection='3d')\n",
    "\n",
    "# Plotting\n",
    "\n",
    "# First lidar (Lidar_1)\n",
    "axs4.plot([Lidar_1.optics.scanner.origin[0]],[Lidar_1.optics.scanner.origin[1]],[Lidar_1.optics.scanner.origin[2]],'ob',label='{} coordinates [{},{},{}]'.format(Lidar_1.LidarID,Lidar_1.optics.scanner.origin[0],Lidar_1.optics.scanner.origin[1],Lidar_1.optics.scanner.origin[2]),markersize=plot_param['markersize_lidar'])\n",
    "axs4.plot(Scanner_Data1['MeasPoint_Coordinates'][0],Scanner_Data1['MeasPoint_Coordinates'][1],Scanner_Data1['MeasPoint_Coordinates'][2],plot_param['markerTheo'],markersize=plot_param['markersize'],label='Theoretical measuring point')\n",
    "axs4.plot(Scanner_Data1['NoisyMeasPoint_Coordinates'][0],Scanner_Data1['NoisyMeasPoint_Coordinates'][1],Scanner_Data1['NoisyMeasPoint_Coordinates'][2],plot_param['marker'],markersize=plot_param['markersize'],label='Distance error [m] = {0:.3g}$\\pm${1:.3g}'.format(np.mean(Scanner_Data1['Simu_Mean_Distance']),np.mean(Scanner_Data1['STDV_Distance'])))\n",
    "# Second lidar(Lidar_2)\n",
    "axs4.plot([Lidar_2.optics.scanner.origin[0]],[Lidar_2.optics.scanner.origin[1]],[Lidar_2.optics.scanner.origin[2]],'ob',label='{} coordinates [{},{},{}]'.format(Lidar_2.LidarID,Lidar_2.optics.scanner.origin[0],Lidar_2.optics.scanner.origin[1],Lidar_2.optics.scanner.origin[2]),markersize=plot_param['markersize_lidar'])\n",
    "axs4.plot(Scanner_Data2['MeasPoint_Coordinates'][0],Scanner_Data2['MeasPoint_Coordinates'][1],Scanner_Data2['MeasPoint_Coordinates'][2],plot_param['markerTheo'],markersize=plot_param['markersize'],label='Theoretical measuring point')\n",
    "axs4.plot(Scanner_Data2['NoisyMeasPoint_Coordinates'][0],Scanner_Data2['NoisyMeasPoint_Coordinates'][1],Scanner_Data2['NoisyMeasPoint_Coordinates'][2],plot_param['marker'],markersize=plot_param['markersize'],label='Distance error [m] = {0:.3g}$\\pm${1:.3g}'.format(np.mean(Scanner_Data2['Simu_Mean_Distance']),np.mean(Scanner_Data2['STDV_Distance'])))\n",
    "\n",
    "# Setting labels, legend, title and axes limits:\n",
    "axs4.set_xlabel('x [m]',fontsize=plot_param['axes_label_fontsize'])#,orientation=plot_param['tick_labelrotation'])\n",
    "axs4.set_ylabel('y [m]',fontsize=plot_param['axes_label_fontsize'])#,orientation=plot_param['tick_labelrotation'])\n",
    "axs4.set_zlabel('z [m]',fontsize=plot_param['axes_label_fontsize'])\n",
    "axs4.set_title('Scanner Pointing accuracy',fontsize=plot_param['title_fontsize'])\n",
    "# axs4.legend()\n",
    "axs4.set_xlim3d(plot_param['xlim'][0],plot_param['xlim'][1])\n",
    "axs4.set_ylim3d(plot_param['ylim'][0],plot_param['ylim'][1])\n",
    "axs4.set_zlim3d(plot_param['zlim'][0],plot_param['zlim'][1])\n"
   ]
  },
  {
   "cell_type": "code",
   "execution_count": 19,
   "metadata": {},
   "outputs": [
    {
     "data": {
      "text/plain": [
       "(0.0, 90.0)"
      ]
     },
     "execution_count": 19,
     "metadata": {},
     "output_type": "execute_result"
    }
   ],
   "source": [
    "# Setting labels, legend, title and axes limits:\n",
    "axs4.set_xlabel('x [m]',fontsize=plot_param['axes_label_fontsize'])#,orientation=plot_param['tick_labelrotation'])\n",
    "axs4.set_ylabel('y [m]',fontsize=plot_param['axes_label_fontsize'])#,orientation=plot_param['tick_labelrotation'])\n",
    "axs4.set_zlabel('z [m]',fontsize=plot_param['axes_label_fontsize'])\n",
    "axs4.set_title('Scanner Pointing accuracy',fontsize=plot_param['title_fontsize'])\n",
    "# axs4.legend()\n",
    "axs4.set_xlim3d(plot_param['xlim'][0],plot_param['xlim'][1])\n",
    "axs4.set_ylim3d(plot_param['ylim'][0],plot_param['ylim'][1])\n",
    "axs4.set_zlim3d(plot_param['zlim'][0],plot_param['zlim'][1])"
   ]
  }
 ],
 "metadata": {
  "kernelspec": {
   "display_name": "Python 3",
   "language": "python",
   "name": "python3"
  },
  "language_info": {
   "codemirror_mode": {
    "name": "ipython",
    "version": 3
   },
   "file_extension": ".py",
   "mimetype": "text/x-python",
   "name": "python",
   "nbconvert_exporter": "python",
   "pygments_lexer": "ipython3",
   "version": "3.7.9"
  }
 },
 "nbformat": 4,
 "nbformat_minor": 4
}
