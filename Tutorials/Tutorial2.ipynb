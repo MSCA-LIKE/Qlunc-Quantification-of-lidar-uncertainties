{
 "cells": [
  {
   "cell_type": "markdown",
   "id": "colonial-charger",
   "metadata": {},
   "source": [
    "#### Qlunc tutorial by Francisco Costa\n",
    "# **Tutorial 2**\n",
    "## Calculate line of sight wind velocity ($V_{LOS}$) and horizontal wind velocity ($V_{h}$) uncertainties\n",
    "\n",
    "This tutorial aims to facilitate the use to Qlunc. \n",
    "In this tutorial will deal with the new capabilities of Qlunc, namely $V_{LOS}$ (one single lidar) and $V_{h}$ (two lidars) uncertainty estimations. To quantitatively verify the results a comparison between Montecarlo simulations and an analytical model (GUM approach) is performed.\n",
    "\n",
    "* **Some steps are not deeply explained since it is not necessary for the sake of this tutorial. The main goal of the present tutorial is to show how to calculate the uncertainty of $V_{LOS}$ and how to combine two lidars to calculate the uncertainty in $V_{h}$.**"
   ]
  },
  {
   "cell_type": "markdown",
   "id": "unavailable-short",
   "metadata": {},
   "source": [
    "First we import the necessary python packages and Qlunc functions:"
   ]
  },
  {
   "cell_type": "code",
   "execution_count": 1,
   "id": "instant-showcase",
   "metadata": {},
   "outputs": [],
   "source": [
    "import os\n",
    "os.chdir('../')\n",
    "# importing  uncertainty functions\n",
    "import UQ_Functions.UQ_Vhorizontal_Classes as uVhc, UQ_Functions.UQ_Photonics_Classes as uphc,UQ_Functions.UQ_Optics_Classes as uopc, UQ_Functions.UQ_Power_Classes as upwc,UQ_Functions.UQ_Lidar_Classes as ulc, UQ_Functions.UQ_ProbeVolume_Classes as upbc,UQ_Functions.UQ_Data_processing_Classes as uprm, UQ_Functions.UQ_SignalProcessor_Classes as uspc\n",
    "from Utils.Qlunc_ImportModules import *"
   ]
  },
  {
   "cell_type": "markdown",
   "id": "secure-relief",
   "metadata": {},
   "source": [
    "### Obtaining lidar and measuring set up parameters from the yaml inputs file\n",
    "\n",
    "A [.yml template](https://github.com/PacoCosta/Qlunc/blob/Qlunc-V0.9/Main/Template_yaml_inputs_file.yml) is included in the repository. This tutorial uses two different yaml files to create two lidars '**CaixaT1**' and '**CaixaT2**'. \n",
    "\n",
    "The code below imports the `yaml` files and stores the data in two separate dictionaries **Qlunc_yaml_inputs1** and **Qlunc_yaml_inputs2**:"
   ]
  },
  {
   "cell_type": "code",
   "execution_count": 2,
   "id": "toxic-bacteria",
   "metadata": {},
   "outputs": [],
   "source": [
    "# Read yaml files corresponding to the 1 and 2\n",
    "\n",
    "# Data for Lidar1 ('CaixaT1')\n",
    "with open (r'./Tutorials/yaml_inputs_file_2_1.yml','r') as file:\n",
    "    Qlunc_yaml_inputs1={}\n",
    "    docs = yaml.load_all(file, Loader=yaml.FullLoader)\n",
    "    for doc in docs:      \n",
    "        for k, v in doc.items():     \n",
    "            Qlunc_yaml_inputs1.setdefault(k,v)\n",
    "\n",
    "# Data for Lidar1 ('CaixaT2')\n",
    "with open (r'./Tutorials/yaml_inputs_file_2_2.yml','r') as file:\n",
    "    Qlunc_yaml_inputs2={}\n",
    "    docs = yaml.load_all(file, Loader=yaml.FullLoader)\n",
    "    for doc in docs:      \n",
    "        for k, v in doc.items():     \n",
    "            Qlunc_yaml_inputs2.setdefault(k,v)"
   ]
  },
  {
   "cell_type": "code",
   "execution_count": 3,
   "id": "electric-polyester",
   "metadata": {},
   "outputs": [
    {
     "name": "stdout",
     "output_type": "stream",
     "text": [
      "{'Main directory': '.', 'Components': {'Scanner': {'Name': 'Scanner_Yaml1', 'Origin': [1000, 1000, 0], 'Error origin': [0, 0, 0], 'Pattern time': 20, 'Single point measuring time': 5, 'N_MC': 5000, 'Lissajous parameters': [100, 50, 50, 3, 3], 'Sample rate': 0, 'Type': 'VAD', 'Pattern': 'None', 'stdv focus distance': [5], 'stdv Elevation angle': [0.1], 'stdv Azimuth': [0.1], 'correlations': [0, 0, 0, 0, 0, 0, 0], 'N_Points': 1, 'Rho': [1000], 'Theta': [45], 'Psi': [0], 'Href': 100.0, 'Uncertainty function': 'uopc.UQ_Scanner'}, 'Optical Circulator': {'Name': 'OC_Yaml1', 'Insertion loss': 0.8, 'SNR': 60, 'Uncertainty function': 'uopc.UQ_OpticalCirculator'}, 'Telescope': {'Name': 'Telescope_YAML_zr1', 'Aperture diameter': 0.02, 'Focal length': 0.5, 'Fiber-lens distance': 0.0024, 'Fiber-lens offset': 0.498, 'Effective radius telescope': 0.028, 'Output beam radius': 0.02, 'Stdv Aperture': 2e-06, 'stdv Focal length': 1e-06, 'stdv Fiber-lens distance': 1e-06, 'stdv Fiber-lens offset': 1e-06, 'stdv Effective radius telescope': 1e-06, 'Uncertainty function': 'uopc.UQ_Telescope'}, 'Optical Amplifier': {'Name': 'OA_Yaml1', 'Optical amplifier BW': 12500000000000.0, 'Optical amplifier noise figure': 3.4, 'Optical amplifier gain': 30, 'Power interval': [0, 1, 0.001], 'Uncertainty function': 'uphc.UQ_Optical_amplifier'}, 'Photodetector': {'Name': 'Photodetector_YAML1', 'Photodetector BandWidth': 1000000000.0, 'Load resistor': 50, 'Photodetector efficiency': 0.85, 'Dark current': 5e-09, 'Photodetector signalP': 0.001, 'Power interval': [1e-06, 1, 1e-05], 'Gain TIA': 5000.0, 'Active area': 1, 'V Noise TIA': 'None', 'Uncertainty function': 'uphc.UQ_Photodetector'}, 'Laser': {'Name': 'Laser_YAML1', 'Wavelength': 1.55e-06, 'stdv Wavelength': 1e-09, 'Confidence interval': 3, 'Output power': 0.0125, 'Bandwidth': 250, 'RIN': -165, 'Uncertainty function': 'uphc.UQ_Laser'}, 'AOM': {'Name': 'AOM_YAML1', 'Insertion loss': 0.5, 'Pulse shape': 2.19e-07, 'Gate length': 3.118e-07, 'stdv Pulse shape': 1e-09, 'stdv Gate length': 1e-09, 'Uncertainty function': 'uphc.UQ_AOM'}, 'ADC': {'Name': 'ADC_Yaml1', 'Number of bits': 11.3, 'Reference voltage': 3.3, 'Ground voltage': 0, 'Quantization error': 0.5, 'ADC Bandwidth': 1000000000.0, 'Uncertainty function': 'uspc.UQ_SignalProcessor_Classes'}, 'Lidar general inputs': {'Name': 'Lidar_gral_inputs_Yaml1', 'Type': 'Pulsed', 'Wavelength': 1.55e-06, 'Yaw error': 0, 'Pitch error': 0, 'Roll error': 0}}, 'Modules': {'Optics Module': {'Name': 'Optics_module_Yaml1', 'Scanner': 'Scanner', 'Optical circulator': 'Optical_circulator', 'Telescope': 'Telescope', 'Uncertainty function': 'uopc.sum_unc_optics'}, 'Photonics Module': {'Name': 'Photonics_module_Yaml1', 'Photodetector': 'Photodetector', 'Optical amplifier': 'Optical_Amplifier', 'AOM': 'AOM', 'Laser': 'Laser', 'Uncertainty function': 'uphc.sum_unc_photonics'}, 'Signal processor Module': {'Name': 'Signal_processor_module_Yaml1', 'ADC': 'ADC', 'Frequency analyser': 'Frequency_analyser'}}, 'Lidar': {'Name': 'CaixaT1', 'Photonics module': 'Photonics_Module', 'Optics module': 'Optics_Module', 'Power module': 'None', 'Signal processor module': 'Signal_processor_Module', 'Lidar inputs': 'Lidar_inputs', 'Uncertainty function': 'ulc.sum_unc_lidar'}, 'WFR model': {'Name': 'WFR_Yaml1', 'Model': 'None'}, 'Filtering method': {'Name': 'Filtering_Yaml1', 'Method': 'CNR'}, 'Atmospheric_inputs': {'Name': 'Atmosphere_Yaml1', 'TimeSeries': False, 'Atmos_TS_FILE': 'AtmosphericScenarios.csv', 'Temperature': [300], 'Humidity': [12], 'Rain': True, 'Fog': False, 'Height ground': 0, 'Power law exponent': [0.2], 'Vref': 18, 'Wind direction': [0, 359], 'Wind tilt': 180}, 'Probe Volume': {'Name': 'Probe_Yaml1', 'Extinction coeficient': 0.085}, 'Flags': {'Line of sight Velocity Uncertainty': True, 'Scanning Pattern': False, 'Photodetector noise': False, 'Save Scanning Coordinates': False, 'Probe Volume parameters': False, 'Optical_amplifier_noise': False, 'Horizontal Velocity Uncertainty': True}}\n"
     ]
    }
   ],
   "source": [
    "print(Qlunc_yaml_inputs1)\n",
    "\n",
    "# Execute Qlunc_Classes.py (creating classes for lidar 'objects'):\n",
    "#exec(open(Qlunc_yaml_inputs1['Main directory']+'/Tutorials/WorkingExample_Tutorial.py').read())"
   ]
  },
  {
   "cell_type": "markdown",
   "id": "judicial-supervision",
   "metadata": {},
   "source": [
    "### Create the first lidar (*CaixaT1*) and $V_{LOS}$ estimation"
   ]
  },
  {
   "cell_type": "markdown",
   "id": "saved-convention",
   "metadata": {},
   "source": [
    "#### CaixaT1"
   ]
  },
  {
   "cell_type": "markdown",
   "id": "intense-denmark",
   "metadata": {},
   "source": [
    "To create a lidar object we need to instantiate the python classes actually representing the lidar components. See Tutorial1 to see how to instantiate the lidar components in Qlunc. \n",
    "\n",
    "The lidar characteristics have been declared in the corresponding yaml files `yaml_inputs_file_2_1` and `yaml_inputs_file_2_2`. The code below instantiates and creates the first lidar device: "
   ]
  },
  {
   "cell_type": "code",
   "execution_count": 4,
   "id": "nonprofit-folder",
   "metadata": {},
   "outputs": [
    {
     "name": "stdout",
     "output_type": "stream",
     "text": [
      "C:\\SWE_LOCAL\\GIT_Qlunc\n",
      "C:\\SWE_LOCAL\\GIT_Qlunc\n",
      "Created new scanner: Scanner_Yaml1\n",
      "Created new optical circulator: OC_Yaml1\n",
      "Created new telescope: Telescope_YAML_zr1\n",
      "Class \"Probe volume\" created\n",
      "Created new optic module: Optics_module_Yaml1\n"
     ]
    },
    {
     "ename": "KeyError",
     "evalue": "'Pulse shape'",
     "output_type": "error",
     "traceback": [
      "\u001b[1;31m---------------------------------------------------------------------------\u001b[0m",
      "\u001b[1;31mKeyError\u001b[0m                                  Traceback (most recent call last)",
      "\u001b[1;32mC:\\SWE_LOCAL\\GIT_Qlunc\\Tutorials\\Qlunc_Instantiate_Tutorial2_file_1.py\u001b[0m in \u001b[0;36m<module>\u001b[1;34m\u001b[0m\n\u001b[0;32m    136\u001b[0m AOM = acousto_optic_modulator (name           = Qlunc_yaml_inputs1['Components']['AOM']['Name'],\n\u001b[0;32m    137\u001b[0m                                \u001b[0minsertion_loss\u001b[0m \u001b[1;33m=\u001b[0m \u001b[0mQlunc_yaml_inputs1\u001b[0m\u001b[1;33m[\u001b[0m\u001b[1;34m'Components'\u001b[0m\u001b[1;33m]\u001b[0m\u001b[1;33m[\u001b[0m\u001b[1;34m'AOM'\u001b[0m\u001b[1;33m]\u001b[0m\u001b[1;33m[\u001b[0m\u001b[1;34m'Insertion loss'\u001b[0m\u001b[1;33m]\u001b[0m\u001b[1;33m,\u001b[0m\u001b[1;33m\u001b[0m\u001b[1;33m\u001b[0m\u001b[0m\n\u001b[1;32m--> 138\u001b[1;33m                                \u001b[0mtau\u001b[0m                        \u001b[1;33m=\u001b[0m \u001b[0mQlunc_yaml_inputs1\u001b[0m\u001b[1;33m[\u001b[0m\u001b[1;34m'Components'\u001b[0m\u001b[1;33m]\u001b[0m\u001b[1;33m[\u001b[0m\u001b[1;34m'Telescope'\u001b[0m\u001b[1;33m]\u001b[0m\u001b[1;33m[\u001b[0m\u001b[1;34m'Pulse shape'\u001b[0m\u001b[1;33m]\u001b[0m\u001b[1;33m,\u001b[0m\u001b[1;33m\u001b[0m\u001b[1;33m\u001b[0m\u001b[0m\n\u001b[0m\u001b[0;32m    139\u001b[0m                                \u001b[0mtau_meas\u001b[0m                   \u001b[1;33m=\u001b[0m \u001b[0mQlunc_yaml_inputs1\u001b[0m\u001b[1;33m[\u001b[0m\u001b[1;34m'Components'\u001b[0m\u001b[1;33m]\u001b[0m\u001b[1;33m[\u001b[0m\u001b[1;34m'Telescope'\u001b[0m\u001b[1;33m]\u001b[0m\u001b[1;33m[\u001b[0m\u001b[1;34m'Gate length'\u001b[0m\u001b[1;33m]\u001b[0m\u001b[1;33m,\u001b[0m\u001b[1;33m\u001b[0m\u001b[1;33m\u001b[0m\u001b[0m\n\u001b[0;32m    140\u001b[0m                                \u001b[0mstdv_tau\u001b[0m                   \u001b[1;33m=\u001b[0m \u001b[0mQlunc_yaml_inputs1\u001b[0m\u001b[1;33m[\u001b[0m\u001b[1;34m'Components'\u001b[0m\u001b[1;33m]\u001b[0m\u001b[1;33m[\u001b[0m\u001b[1;34m'Telescope'\u001b[0m\u001b[1;33m]\u001b[0m\u001b[1;33m[\u001b[0m\u001b[1;34m'stdv Pulse shape'\u001b[0m\u001b[1;33m]\u001b[0m\u001b[1;33m,\u001b[0m\u001b[1;33m\u001b[0m\u001b[1;33m\u001b[0m\u001b[0m\n",
      "\u001b[1;31mKeyError\u001b[0m: 'Pulse shape'"
     ]
    }
   ],
   "source": [
    "%run -i ./Tutorials/Qlunc_Instantiate_Tutorial2_file_1.py"
   ]
  },
  {
   "cell_type": "markdown",
   "id": "dominican-fields",
   "metadata": {},
   "source": [
    "#### $V_{LOS}$  uncertainty estimation\n",
    "If we create one single lidar we can ask for the uncertainty in $V_{LOS}$ for a specific measurement configuration. We do this using dot notation, icluding the data from the yaml file that corresponds to the lidar with which we want to sample the wind. In the case of the first lidar we will be using the data extracted from `Qlunc_yaml_inputs1`."
   ]
  },
  {
   "cell_type": "code",
   "execution_count": 5,
   "id": "boring-picking",
   "metadata": {},
   "outputs": [
    {
     "ename": "NameError",
     "evalue": "name 'Lidar' is not defined",
     "output_type": "error",
     "traceback": [
      "\u001b[1;31m---------------------------------------------------------------------------\u001b[0m",
      "\u001b[1;31mNameError\u001b[0m                                 Traceback (most recent call last)",
      "\u001b[1;32mC:\\SWE_LOCAL\\GIT_Qlunc\\Tutorials\\Qlunc_Instantiate_Tutorial2_file_1.py\u001b[0m in \u001b[0;36m<module>\u001b[1;34m\u001b[0m\n\u001b[1;32m----> 1\u001b[1;33m \u001b[0mLidar\u001b[0m\u001b[1;33m.\u001b[0m\u001b[0mUncertainty\u001b[0m\u001b[1;33m(\u001b[0m\u001b[0mLidar\u001b[0m\u001b[1;33m,\u001b[0m \u001b[0mAtmospheric_Scenario\u001b[0m\u001b[1;33m,\u001b[0m\u001b[0mcts\u001b[0m\u001b[1;33m,\u001b[0m\u001b[0mQlunc_yaml_inputs1\u001b[0m\u001b[1;33m)\u001b[0m\u001b[1;33m\u001b[0m\u001b[1;33m\u001b[0m\u001b[0m\n\u001b[0m",
      "\u001b[1;31mNameError\u001b[0m: name 'Lidar' is not defined"
     ]
    }
   ],
   "source": [
    "Lidar.Uncertainty(Lidar, Atmospheric_Scenario,cts,Qlunc_yaml_inputs1)"
   ]
  },
  {
   "cell_type": "markdown",
   "id": "coordinate-contrast",
   "metadata": {},
   "source": [
    "Now we will see how to create a second lidar and estimate the uncertainty in the horizontal wind speed."
   ]
  },
  {
   "cell_type": "markdown",
   "id": "stock-michael",
   "metadata": {},
   "source": [
    "### Create the second lidar (*CaixaT2*) and $V_{h}$  uncertainty estimation"
   ]
  },
  {
   "cell_type": "markdown",
   "id": "proud-pulse",
   "metadata": {},
   "source": [
    "When creating a lidar its parameters are stored as a python dictionary in the folder `Projects`, in the local repository, with the name provided by the user in the yaml file. In the case of this Tutorial2 we will create two lidars with names '**CaixaT1**' and '**CaixaT2**'. Different lidars can be saved at the same location. \n",
    "\n",
    "**Warning**: Be aware of the characteristics of each lidar and their measuring setup, when creating them. For example, if different correlation terms are used whe instantiating the lidars we want to compare or we change the scanning pattern, the framework will rise missleading results.\n",
    "\n",
    "#### CaixaT2\n",
    "Repeating the steps above we create a second lidar:"
   ]
  },
  {
   "cell_type": "code",
   "execution_count": null,
   "id": "regulated-camcorder",
   "metadata": {},
   "outputs": [],
   "source": [
    "%run -i ./Tutorials/Qlunc_Instantiate_Tutorial2_file_2.py\n",
    "Lidar.Uncertainty(Lidar, Atmospheric_Scenario,cts,Qlunc_yaml_inputs2)"
   ]
  },
  {
   "cell_type": "markdown",
   "id": "valuable-prison",
   "metadata": {},
   "source": [
    "#### $V_{h}$  uncertainty estimation"
   ]
  },
  {
   "cell_type": "markdown",
   "id": "frozen-swedish",
   "metadata": {},
   "source": [
    "Once we have created the two lidars needed to measure the u and v components to calculate the horizontal wind speed we can estimate the uncertaintainty in $V_{h}$. Following the given notation below we can obtain the uncertainty in the horizontal velocity:"
   ]
  },
  {
   "cell_type": "code",
   "execution_count": null,
   "id": "established-temperature",
   "metadata": {},
   "outputs": [],
   "source": [
    "Lidar.Uncertainty_Vh(Lidar, Atmospheric_Scenario,cts,Qlunc_yaml_inputs2,['CaixaT1','CaixaT2'])"
   ]
  },
  {
   "cell_type": "code",
   "execution_count": null,
   "id": "respective-fighter",
   "metadata": {},
   "outputs": [],
   "source": []
  }
 ],
 "metadata": {
  "kernelspec": {
   "display_name": "Python 3",
   "language": "python",
   "name": "python3"
  },
  "language_info": {
   "codemirror_mode": {
    "name": "ipython",
    "version": 3
   },
   "file_extension": ".py",
   "mimetype": "text/x-python",
   "name": "python",
   "nbconvert_exporter": "python",
   "pygments_lexer": "ipython3",
   "version": "3.7.9"
  }
 },
 "nbformat": 4,
 "nbformat_minor": 5
}
