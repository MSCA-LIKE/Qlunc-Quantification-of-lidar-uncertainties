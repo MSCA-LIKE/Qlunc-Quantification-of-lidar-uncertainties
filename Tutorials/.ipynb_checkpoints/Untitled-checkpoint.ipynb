{
 "cells": [
  {
   "cell_type": "markdown",
   "id": "necessary-turning",
   "metadata": {},
   "source": [
    "#### Qlunc tutorial by Francisco Costa\n",
    "# **Tutorial 2**\n",
    "## Calculate line of sight velocity ($V_{LOS}$) and horizontal velocity ($V_{h}$)\n",
    "\n",
    "This tutorial aims to facilitate the use to Qlunc. \n",
    "In this tutorial will deal with the new capabilities of Qlunc, namely $V_{LOS}$ (one single lidar) and $V_{h}$ (two lidars) estimations. To verify the results of the model a comparison between Montecarlo simulations and the analytical model itself is performed.\n",
    "\n",
    "* **Some steps are not deeply explained since it is not necessary for the sake of this tutorial. The main goal of the tutorial is to show how the lidar digital twin is built and the interaction between different modules.**"
   ]
  },
  {
   "cell_type": "code",
   "execution_count": 2,
   "id": "extreme-north",
   "metadata": {},
   "outputs": [],
   "source": [
    "import os\n",
    "os.chdir('../')\n",
    "# importing  uncertainty functions\n",
    "import Utils.Qlunc_Help_standAlone as SA, UQ_Functions.UQ_Photonics_Classes as uphc,UQ_Functions.UQ_Optics_Classes as uopc, UQ_Functions.UQ_Power_Classes as upwc,UQ_Functions.UQ_Lidar_Classes as ulc, UQ_Functions.UQ_ProbeVolume_Classes as upbc,UQ_Functions.UQ_Data_processing_Classes as uprm\n",
    "from Utils.Qlunc_ImportModules import *"
   ]
  },
  {
   "cell_type": "markdown",
   "id": "twelve-disco",
   "metadata": {},
   "source": [
    "A [.yml template](https://github.com/PacoCosta/Qlunc/blob/Qlunc-V0.9/Main/Template_yaml_inputs_file.yml) is included in the repository. This tutorial uses two different yaml files to create two lidars 'Caixa1' and 'Caixa2'. \n",
    "\n",
    "The code below imports the `yaml` file."
   ]
  },
  {
   "cell_type": "code",
   "execution_count": null,
   "id": "extraordinary-saying",
   "metadata": {},
   "outputs": [],
   "source": []
  }
 ],
 "metadata": {
  "kernelspec": {
   "display_name": "Python 3",
   "language": "python",
   "name": "python3"
  },
  "language_info": {
   "codemirror_mode": {
    "name": "ipython",
    "version": 3
   },
   "file_extension": ".py",
   "mimetype": "text/x-python",
   "name": "python",
   "nbconvert_exporter": "python",
   "pygments_lexer": "ipython3",
   "version": "3.7.9"
  }
 },
 "nbformat": 4,
 "nbformat_minor": 5
}
