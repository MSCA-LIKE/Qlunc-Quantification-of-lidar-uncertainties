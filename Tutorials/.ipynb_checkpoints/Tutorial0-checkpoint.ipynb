{
 "cells": [
  {
   "cell_type": "markdown",
   "id": "specialized-chosen",
   "metadata": {},
   "source": [
    "# Qlunc's presentation"
   ]
  },
  {
   "cell_type": "markdown",
   "id": "informal-webcam",
   "metadata": {},
   "source": [
    "Qlunc stands for **Q**uantification of **l**idar **unc**ertainty. It is stored as a public SWE [repository](https://github.com/SWE-UniStuttgart/Qlunc)."
   ]
  },
  {
   "cell_type": "markdown",
   "id": "ordered-execution",
   "metadata": {},
   "source": [
    "1. Install [anaconda](https://anaconda.org/anaconda/conda)"
   ]
  },
  {
   "cell_type": "markdown",
   "id": "continued-dressing",
   "metadata": {},
   "source": [
    "2. Download or [clone](https://github.com/SWE-UniStuttgart/Qlunc.git) Qlunc´s repository"
   ]
  },
  {
   "cell_type": "markdown",
   "id": "touched-folder",
   "metadata": {},
   "source": [
    "3. Create an environment and install dependencies\n",
    "\n",
    "Anaconda prompt:\n",
    "\n",
    "> conda env create -f environment.yml\n",
    "\n",
    "> conda activate <environment name> (by default Qlunc_Env)\n",
    "    \n",
    "\n",
    "    "
   ]
  },
  {
   "cell_type": "markdown",
   "id": "auburn-extraction",
   "metadata": {},
   "source": [
    "## Creating objects as python classes (*Qlunc_Classes.py*)"
   ]
  },
  {
   "cell_type": "markdown",
   "id": "molecular-latitude",
   "metadata": {},
   "source": [
    "The goal is to create a lidar digital twin to assess the uncertainty of an actual one, before it is built. First we create the lidar components by using python classes. We give some parameter values to these classes, characterizing the components, inculding a function (`uncertainty`), which computes the uncertainty of each \"object\" . For instance, you might want to create three components with some characteristics defining them and a fucntion describing each one's uncertainty:"
   ]
  },
  {
   "cell_type": "code",
   "execution_count": 1,
   "id": "indirect-balloon",
   "metadata": {},
   "outputs": [],
   "source": [
    "# Component 1:\n",
    "class component1():\n",
    "    def __init__(self, name, param1, param2, comp1_uncertainty):\n",
    "        self.name              = name\n",
    "        self.param1            = param1\n",
    "        self.param2            = param2\n",
    "        self.uncertainty       = comp1_uncertainty # python module computing uncertainty of componentA. Defined by the user.\n",
    "\n",
    "# Component 2:\n",
    "class component2():\n",
    "    def __init__(self, name, param1, param2, comp2_uncertainty):\n",
    "        self.name              = name\n",
    "        self.param1            = param1\n",
    "        self.param2            = param2\n",
    "        self.uncertainty       = comp2_uncertainty # python module computing uncertainty of componentB. Defined by the user.\n",
    "\n",
    "# Component 3:\n",
    "class component3():\n",
    "    def __init__(self, name, param1, param2,param3 ,comp3_uncertainty):\n",
    "        self.name              = name\n",
    "        self.param1            = param1\n",
    "        self.param2            = param2\n",
    "        self.param3            = param3\n",
    "        self.uncertainty       = comp3_uncertainty # python module computing uncertainty of componentC. Defined by the user."
   ]
  },
  {
   "cell_type": "markdown",
   "id": "sought-slovak",
   "metadata": {},
   "source": [
    "Then, this \"virtual objects\", representing the actual lidar components, are encapsulated into another python class representing the actual lidar module. So, having the components we can create 2 different modules; `module1` and `module2`, each of them containing two and one of the components created above, respectively. They also contain a uncertainty function which computes uncertainty expansion among the lidar components we include in the module.\n"
   ]
  },
  {
   "cell_type": "code",
   "execution_count": 2,
   "id": "painted-talent",
   "metadata": {},
   "outputs": [],
   "source": [
    "# Module 1:\n",
    "class module1():\n",
    "    def __init__(self,name,component1,component2,mod1_uncertainty):\n",
    "        self.name             = name\n",
    "        self.component1       = Component1 # here should have the name of the component instance\n",
    "        self.component2       = Component2 # here should have the name of the component instance\n",
    "        self.uncertainty      = mod1_uncertainty # python module computing uncertainty of module1. Defined by the user.\n",
    "\n",
    "# Module 2:\n",
    "class module2():\n",
    "    def __init__(self,name,component1,mod2_uncertainty):\n",
    "        self.name             = name\n",
    "        self.component1       = Component3 # here should have the name of the component instance\n",
    "        self.uncertainty      = mod2_uncertainty # python module computing uncertainty of module2. Defined by the user. GUM"
   ]
  },
  {
   "cell_type": "markdown",
   "id": "final-terrorist",
   "metadata": {},
   "source": [
    "Finally, once the modules are built up, we can encapsulate them into the lidar class, representing the lidar device:"
   ]
  },
  {
   "cell_type": "code",
   "execution_count": 3,
   "id": "revolutionary-minutes",
   "metadata": {},
   "outputs": [],
   "source": [
    "# Lidar object:\n",
    "class lidar():\n",
    "    def __init__(self, name,module1, module2, lidar_uncertainty):\n",
    "        self.name        = name\n",
    "        self.module1     = module1 # here should have the name of the module instance\n",
    "        self.module2     = module2 # here should have the name of the module instance\n",
    "        self.uncertainty = lidar_uncertainty # python module computing uncertainty of lidar device. Defined by the user. GUM"
   ]
  },
  {
   "cell_type": "markdown",
   "id": "enclosed-throat",
   "metadata": {},
   "source": [
    "## Instantianting process (*Qlunc_Instantiate.py*):\n",
    "Once we have virtually created the main structure of our lidar object, we instantiate the classes to create the digital objects representing our actual lidar.\n",
    "All component parameters are inputted through a yaml file (*Qlunc_inputs.yml*). We do this manually here to show the process:\n",
    "### Components"
   ]
  },
  {
   "cell_type": "code",
   "execution_count": 4,
   "id": "spiritual-nightlife",
   "metadata": {},
   "outputs": [],
   "source": [
    "Component1=component1(name              = 'Comp1',\n",
    "                      param1            = 'parameter1_Comp1',\n",
    "                      param2            = 'parameter2_Comp1',\n",
    "                      comp1_uncertainty = 'unc_func_Comp1')\n",
    "\n",
    "Component2=component2(name              = 'Comp2',\n",
    "                      param1            = 'parameter1_Comp2',\n",
    "                      param2            = 'parameter2_Comp2',\n",
    "                      comp2_uncertainty = 'unc_func_Comp2')\n",
    "\n",
    "Component3=component3(name              = 'Comp3',\n",
    "                      param1            = 'parameter1_Comp3',\n",
    "                      param2            = 'parameter2_Comp3',\n",
    "                      param3            = 'parameter3_Comp3',\n",
    "                      comp3_uncertainty = 'unc_func_Comp3')"
   ]
  },
  {
   "cell_type": "code",
   "execution_count": 5,
   "id": "outer-berry",
   "metadata": {},
   "outputs": [
    {
     "name": "stdout",
     "output_type": "stream",
     "text": [
      "Comp1\n",
      "parameter1_Comp1\n",
      "parameter2_Comp2\n",
      "unc_func_Comp3\n"
     ]
    }
   ],
   "source": [
    "print(Component1.name)\n",
    "print(Component1.param1)\n",
    "print(Component2.param2)\n",
    "print(Component3.uncertainty)\n"
   ]
  },
  {
   "cell_type": "markdown",
   "id": "mysterious-adult",
   "metadata": {},
   "source": [
    "### Modules"
   ]
  },
  {
   "cell_type": "code",
   "execution_count": 6,
   "id": "specific-usage",
   "metadata": {},
   "outputs": [],
   "source": [
    "Module1 = module1(name             = 'Mod1',\n",
    "                  component1       = Component1,\n",
    "                  component2       = Component2,\n",
    "                  mod1_uncertainty ='unc_func_Mod1')\n",
    "Module2 = module2(name             = 'Mod2',\n",
    "                component1         = Component3,\n",
    "                mod2_uncertainty   = 'unc_func_Mod2')"
   ]
  },
  {
   "cell_type": "code",
   "execution_count": 7,
   "id": "cognitive-creek",
   "metadata": {},
   "outputs": [
    {
     "name": "stdout",
     "output_type": "stream",
     "text": [
      "parameter1_Comp1\n",
      "parameter3_Comp3\n"
     ]
    }
   ],
   "source": [
    "print(Module1.component1.param1)\n",
    "print(Module2.component1.param3)"
   ]
  },
  {
   "cell_type": "markdown",
   "id": "honest-child",
   "metadata": {},
   "source": [
    "### Lidar"
   ]
  },
  {
   "cell_type": "code",
   "execution_count": 8,
   "id": "breathing-eclipse",
   "metadata": {},
   "outputs": [],
   "source": [
    "Lidar= lidar(name='Caixa1', module1=Module1,module2=Module2,lidar_uncertainty='Lidar_unc_func')"
   ]
  },
  {
   "cell_type": "code",
   "execution_count": 9,
   "id": "medieval-knight",
   "metadata": {},
   "outputs": [
    {
     "name": "stdout",
     "output_type": "stream",
     "text": [
      "Lidar_unc_func\n"
     ]
    }
   ],
   "source": [
    "print(Lidar.uncertainty)"
   ]
  },
  {
   "cell_type": "code",
   "execution_count": null,
   "id": "polyphonic-raising",
   "metadata": {},
   "outputs": [],
   "source": []
  }
 ],
 "metadata": {
  "kernelspec": {
   "display_name": "Python 3",
   "language": "python",
   "name": "python3"
  },
  "language_info": {
   "codemirror_mode": {
    "name": "ipython",
    "version": 3
   },
   "file_extension": ".py",
   "mimetype": "text/x-python",
   "name": "python",
   "nbconvert_exporter": "python",
   "pygments_lexer": "ipython3",
   "version": "3.7.9"
  }
 },
 "nbformat": 4,
 "nbformat_minor": 5
}
