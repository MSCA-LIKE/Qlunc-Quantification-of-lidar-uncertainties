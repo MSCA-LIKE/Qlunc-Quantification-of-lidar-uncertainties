{
 "cells": [
  {
   "cell_type": "markdown",
   "metadata": {},
   "source": [
    "\n",
    "#### Qlunc tutorial by Francisco Costa\n",
    "\n",
    "# **Tutorial 2**\n",
    "## Designing two lidar devices and compare against each other"
   ]
  },
  {
   "cell_type": "markdown",
   "metadata": {},
   "source": [
    "Along [Tutorial 1](file:///C:/Users/fcosta/SWE_LOCAL/Sphinx4Qlunc/_build/Tutorial1.html) we've learnt how to create a lidar device. Let's design two lidar devices and compare them. These devices differ from each other just in the scanner head, so we will build up two optic modules by changing the scanner component."
   ]
  },
  {
   "cell_type": "code",
   "execution_count": 1,
   "metadata": {},
   "outputs": [],
   "source": [
    "import os\n",
    "os.chdir('../')\n",
    "# importing  uncertainty functions\n",
    "import Utils.Qlunc_Help_standAlone as SA, UQ_Functions.UQ_Photonics_Classes as uphc,UQ_Functions.UQ_Optics_Classes as uopc, UQ_Functions.UQ_Power_Classes as upwc,UQ_Functions.UQ_Lidar_Classes as ulc, UQ_Functions.UQ_ProbeVolume_Classes as upbc,UQ_Functions.UQ_Data_processing_Classes as uprm\n",
    "from Utils.Qlunc_ImportModules import *"
   ]
  },
  {
   "cell_type": "markdown",
   "metadata": {},
   "source": [
    "## Reading data from yaml files\n",
    "Let's design two different lidar devices. To do so we will read data from two differet yaml files: `yaml_inputs_file_2_1.yml` and `yaml_inputs_file_2_2.yml`"
   ]
  },
  {
   "cell_type": "code",
   "execution_count": 2,
   "metadata": {},
   "outputs": [],
   "source": [
    "# Reading data from .yml files:\n",
    "\n",
    "# Reading first lidar data and store it into Qlunc_yaml_inputs_1 variable\n",
    "with open (r'./Tutorials/yaml_inputs_file_2_1.yml','r') as file:\n",
    "    Qlunc_yaml_inputs_1 = {}\n",
    "    docs = yaml.load_all(file, Loader=yaml.FullLoader)\n",
    "    for doc in docs:      \n",
    "        for k, v in doc.items():     \n",
    "            Qlunc_yaml_inputs_1.setdefault(k,v)\n",
    "\n",
    "# Reading second lidar data and store it into Qlunc_yaml_inputs_2 variable\n",
    "with open (r'./Tutorials/yaml_inputs_file_2_2.yml','r') as file:\n",
    "    Qlunc_yaml_inputs_2 = {}\n",
    "    docs = yaml.load_all(file, Loader=yaml.FullLoader)\n",
    "    for doc in docs:      \n",
    "        for k, v in doc.items():     \n",
    "            Qlunc_yaml_inputs_2.setdefault(k,v)"
   ]
  },
  {
   "cell_type": "markdown",
   "metadata": {},
   "source": [
    "Let's have a look to the data:"
   ]
  },
  {
   "cell_type": "code",
   "execution_count": 3,
   "metadata": {},
   "outputs": [
    {
     "data": {
      "text/plain": [
       "{'Main_directory': './Tutorials',\n",
       " 'Project': 'Gandia_2',\n",
       " 'Components': {'Scanner': {'Name': 'Scanner_Yaml_2',\n",
       "   'Origin': [0, 0, 0],\n",
       "   'Pattern time': 20,\n",
       "   'Single point measuring time': 2,\n",
       "   'Lissajous parameters': [100, 50, 50, 3, 3],\n",
       "   'Sample rate': 0,\n",
       "   'Type': 'VAD',\n",
       "   'Pattern': 'None',\n",
       "   'stdv focus distance': 1,\n",
       "   'stdv Cone angle': 2,\n",
       "   'stdv Azimuth': 3,\n",
       "   'Focus distance': [30],\n",
       "   'Cone angle': [15],\n",
       "   'Azimuth': [0, 360],\n",
       "   'x': [160, 160, 160, 160],\n",
       "   'y': [50, -50, -50, 50],\n",
       "   'z': [46.21070722778538, 46.21070722778538, -46.21070722778537, -85],\n",
       "   'Uncertainty function': 'uopc.UQ_Scanner'},\n",
       "  'Optical Circulator': {'Name': 'OC_Yaml_2',\n",
       "   'Insertion loss': 0.8,\n",
       "   'SNR': 60,\n",
       "   'Uncertainty function': 'uopc.UQ_OpticalCirculator'},\n",
       "  'Telescope': {'Name': 'Telescope_YAML_2',\n",
       "   'Aperture': 0.02,\n",
       "   'Focal length': 0.5,\n",
       "   'Fiber-lens distance': 0.0024,\n",
       "   'Fiber-lens offset': 0.498,\n",
       "   'Effective radius telescope': 0.0166,\n",
       "   'Output beam radius': 0.02,\n",
       "   'Pulse shape': 1.65e-07,\n",
       "   'Gate length': 2.65e-07,\n",
       "   'Stdv Aperture': 2e-06,\n",
       "   'stdv Focal length': 1e-06,\n",
       "   'stdv Fiber-lens distance': 1e-06,\n",
       "   'stdv Fiber-lens offset': 1e-06,\n",
       "   'stdv Effective radius telescope': 1e-06,\n",
       "   'Uncertainty function': 'uopc.UQ_Telescope'},\n",
       "  'Optical Amplifier': {'Name': 'OA_Yaml_2',\n",
       "   'Optical amplifier BW': 12500000000000.0,\n",
       "   'Optical amplifier noise figure': 'metadata/NoiseFigure.csv',\n",
       "   'Optical amplifier gain': 30,\n",
       "   'Power interval': [0, 1, 0.001],\n",
       "   'Uncertainty function': 'uphc.UQ_Optical_amplifier'},\n",
       "  'Photodetector': {'Name': 'Photodetector_YAML_2',\n",
       "   'Photodetector BandWidth': 1000000000.0,\n",
       "   'Load resistor': 50,\n",
       "   'Photodetector efficiency': 0.85,\n",
       "   'Dark current': 5e-09,\n",
       "   'Photodetector signalP': 0.001,\n",
       "   'Power interval': [1e-06, 1, 1e-05],\n",
       "   'Gain TIA': 5000.0,\n",
       "   'Active Surface': 1,\n",
       "   'V Noise TIA': 'None',\n",
       "   'Uncertainty function': 'uphc.UQ_Photodetector'},\n",
       "  'Laser': {'Name': 'Laser_YAML_2',\n",
       "   'Wavelength': 1.55e-06,\n",
       "   'stdv Wavelength': 1e-09,\n",
       "   'Confidence interval': 3,\n",
       "   'Output power': 0.0125,\n",
       "   'Bandwidth': 250,\n",
       "   'RIN': -165,\n",
       "   'Uncertainty function': 'uphc.UQ_Laser'},\n",
       "  'AOM': {'Name': 'AOM_YAML_2', 'Insertion loss': 0.5},\n",
       "  'Lidar general inputs': {'Name': 'Lidar_gral_inputs_Yaml_2',\n",
       "   'Type': 'CW',\n",
       "   'Wavelength': 1.55e-06,\n",
       "   'Yaw error': 0,\n",
       "   'Pitch error': 0,\n",
       "   'Roll error': 0}},\n",
       " 'Modules': {'Optics Module': {'Name': 'Optics_module_Yaml_2',\n",
       "   'Scanner': 'Scanner',\n",
       "   'Optical circulator': 'Optical_circulator',\n",
       "   'Telescope': 'Telescope',\n",
       "   'Uncertainty function': 'uopc.sum_unc_optics'},\n",
       "  'Photonics Module': {'Name': 'Photonics_module_Yaml_2',\n",
       "   'Photodetector': 'Photodetector',\n",
       "   'Optical amplifier': 'Optical_Amplifier',\n",
       "   'Laser': 'Laser',\n",
       "   'Uncertainty function': 'uphc.sum_unc_photonics'}},\n",
       " 'Lidar': {'Name': 'Caixa1_2',\n",
       "  'Photonics module': 'Photonics_Module',\n",
       "  'Optics module': 'Optics_Module',\n",
       "  'Power module': 'None',\n",
       "  'Lidar inputs': 'Lidar_inputs',\n",
       "  'Uncertainty function': 'ulc.sum_unc_lidar'},\n",
       " 'WFR model': {'Name': 'WFR_Yaml_2', 'Model': 'None'},\n",
       " 'Filtering method': {'Name': 'Filtering_Yaml_2', 'Method': 'CNR'},\n",
       " 'Atmospheric_inputs': {'Name': 'Atmosphere_Yaml_2',\n",
       "  'TimeSeries': False,\n",
       "  'Atmos_TS_FILE': 'AtmosphericScenarios.csv',\n",
       "  'Temperature': [300],\n",
       "  'Humidity': [12],\n",
       "  'Rain': True,\n",
       "  'Fog': False},\n",
       " 'Probe Volume': {'Name': 'Probe_Yaml_2', 'Extinction coeficient': 0.085},\n",
       " 'Flags': {'Pointing accuracy uncertainty': False,\n",
       "  'Scanning Pattern': False,\n",
       "  'Photodetector noise': False,\n",
       "  'Save Scanning Coordinates': False,\n",
       "  'Probe Volume parameters': False,\n",
       "  'Optical_amplifier_noise': False}}"
      ]
     },
     "execution_count": 3,
     "metadata": {},
     "output_type": "execute_result"
    }
   ],
   "source": [
    "Qlunc_yaml_inputs_2"
   ]
  },
  {
   "cell_type": "code",
   "execution_count": 4,
   "metadata": {},
   "outputs": [
    {
     "data": {
      "text/plain": [
       "{'Main_directory': './Tutorials',\n",
       " 'Project': 'Gandia',\n",
       " 'Components': {'Scanner': {'Name': 'Scanner_Yaml_1',\n",
       "   'Origin': [0, 0, 0],\n",
       "   'Pattern time': 20,\n",
       "   'Single point measuring time': 2,\n",
       "   'Lissajous parameters': [100, 50, 50, 3, 3],\n",
       "   'Sample rate': 0,\n",
       "   'Type': 'VAD',\n",
       "   'Pattern': 'None',\n",
       "   'stdv focus distance': 1,\n",
       "   'stdv Cone angle': 2,\n",
       "   'stdv Azimuth': 3,\n",
       "   'Focus distance': [50],\n",
       "   'Cone angle': [15],\n",
       "   'Azimuth': [0, 360],\n",
       "   'x': [160, 160, 160, 160],\n",
       "   'y': [50, -50, -50, 50],\n",
       "   'z': [46.21070722778538, 46.21070722778538, -46.21070722778537, -85],\n",
       "   'Uncertainty function': 'uopc.UQ_Scanner'},\n",
       "  'Optical Circulator': {'Name': 'OC_Yaml_1',\n",
       "   'Insertion loss': 0.8,\n",
       "   'SNR': 60,\n",
       "   'Uncertainty function': 'uopc.UQ_OpticalCirculator'},\n",
       "  'Telescope': {'Name': 'Telescope_YAML_1',\n",
       "   'Aperture': 0.02,\n",
       "   'Focal length': 0.5,\n",
       "   'Fiber-lens distance': 0.0024,\n",
       "   'Fiber-lens offset': 0.498,\n",
       "   'Effective radius telescope': 0.0166,\n",
       "   'Output beam radius': 0.02,\n",
       "   'Pulse shape': 1.65e-07,\n",
       "   'Gate length': 2.65e-07,\n",
       "   'Stdv Aperture': 2e-06,\n",
       "   'stdv Focal length': 1e-06,\n",
       "   'stdv Fiber-lens distance': 1e-06,\n",
       "   'stdv Fiber-lens offset': 1e-06,\n",
       "   'stdv Effective radius telescope': 1e-06,\n",
       "   'Uncertainty function': 'uopc.UQ_Telescope'},\n",
       "  'Optical Amplifier': {'Name': 'OA_Yaml_1',\n",
       "   'Optical amplifier BW': 12500000000000.0,\n",
       "   'Optical amplifier noise figure': 'metadata/NoiseFigure.csv',\n",
       "   'Optical amplifier gain': 30,\n",
       "   'Power interval': [0, 1, 0.001],\n",
       "   'Uncertainty function': 'uphc.UQ_Optical_amplifier'},\n",
       "  'Photodetector': {'Name': 'Photodetector_YAML_1',\n",
       "   'Photodetector BandWidth': 1000000000.0,\n",
       "   'Load resistor': 50,\n",
       "   'Photodetector efficiency': 0.85,\n",
       "   'Dark current': 5e-09,\n",
       "   'Photodetector signalP': 0.001,\n",
       "   'Power interval': [1e-06, 1, 1e-05],\n",
       "   'Gain TIA': 5000.0,\n",
       "   'Active Surface': 1,\n",
       "   'V Noise TIA': 'None',\n",
       "   'Uncertainty function': 'uphc.UQ_Photodetector'},\n",
       "  'Laser': {'Name': 'Laser_YAML_1',\n",
       "   'Wavelength': 1.55e-06,\n",
       "   'stdv Wavelength': 1e-09,\n",
       "   'Confidence interval': 3,\n",
       "   'Output power': 0.0125,\n",
       "   'Bandwidth': 250,\n",
       "   'RIN': -165,\n",
       "   'Uncertainty function': 'uphc.UQ_Laser'},\n",
       "  'AOM': {'Name': 'AOM_YAML_1', 'Insertion loss': 0.5},\n",
       "  'Lidar general inputs': {'Name': 'Lidar_gral_inputs_Yaml_1',\n",
       "   'Type': 'CW',\n",
       "   'Wavelength': 1.55e-06,\n",
       "   'Yaw error': 0,\n",
       "   'Pitch error': 0,\n",
       "   'Roll error': 0}},\n",
       " 'Modules': {'Optics Module': {'Name': 'Optics_module_Yaml_1',\n",
       "   'Scanner': 'Scanner',\n",
       "   'Optical circulator': 'Optical_circulator',\n",
       "   'Telescope': 'Telescope',\n",
       "   'Uncertainty function': 'uopc.sum_unc_optics'},\n",
       "  'Photonics Module': {'Name': 'Photonics_module_Yaml_1',\n",
       "   'Photodetector': 'Photodetector',\n",
       "   'Optical amplifier': 'Optical_Amplifier',\n",
       "   'Laser': 'Laser',\n",
       "   'Uncertainty function': 'uphc.sum_unc_photonics'}},\n",
       " 'Lidar': {'Name': 'Caixa1_1',\n",
       "  'Photonics module': 'Photonics_Module',\n",
       "  'Optics module': 'Optics_Module',\n",
       "  'Power module': 'None',\n",
       "  'Lidar inputs': 'Lidar_inputs',\n",
       "  'Uncertainty function': 'ulc.sum_unc_lidar'},\n",
       " 'WFR model': {'Name': 'WFR_Yaml_1', 'Model': 'None'},\n",
       " 'Filtering method': {'Name': 'Filtering_Yaml_1', 'Method': 'CNR'},\n",
       " 'Atmospheric_inputs': {'Name': 'Atmosphere_Yaml_1',\n",
       "  'TimeSeries': False,\n",
       "  'Atmos_TS_FILE': 'AtmosphericScenarios.csv',\n",
       "  'Temperature': [300],\n",
       "  'Humidity': [12],\n",
       "  'Rain': True,\n",
       "  'Fog': False},\n",
       " 'Probe Volume': {'Name': 'Probe_Yaml_1', 'Extinction coeficient': 0.085},\n",
       " 'Flags': {'Pointing accuracy uncertainty': False,\n",
       "  'Scanning Pattern': False,\n",
       "  'Photodetector noise': False,\n",
       "  'Save Scanning Coordinates': False,\n",
       "  'Probe Volume parameters': False,\n",
       "  'Optical_amplifier_noise': False}}"
      ]
     },
     "execution_count": 4,
     "metadata": {},
     "output_type": "execute_result"
    }
   ],
   "source": [
    "Qlunc_yaml_inputs_1"
   ]
  },
  {
   "cell_type": "markdown",
   "metadata": {},
   "source": [
    "## Creating python classes:\n",
    "We create the python classes by running the Qlunc Core: `Qlunc_Classes.py`. Since both `.yml` files are in the same directory just have to chose where do we want to take the `WorkingExample_Qlunc_Classes.py` path from."
   ]
  },
  {
   "cell_type": "code",
   "execution_count": 5,
   "metadata": {
    "scrolled": true
   },
   "outputs": [],
   "source": [
    "# Execute Qlunc_Classes.py (creating classes for lidar 'objects'):\n",
    "exec(open(Qlunc_yaml_inputs_2['Main_directory']+'/WorkingExample_Tutorial.py').read())  "
   ]
  },
  {
   "cell_type": "markdown",
   "metadata": {},
   "source": [
    "The main directory is taken from the yaml file, as well as the rest of the lidar parameters, including plotting flags which select what we want to plot:\n"
   ]
  },
  {
   "cell_type": "markdown",
   "metadata": {},
   "source": [
    "## Creating scanner heads:\n",
    "Then is the moment to create a scanner object for each lidar using the different input data parameters"
   ]
  },
  {
   "cell_type": "code",
   "execution_count": 7,
   "metadata": {},
   "outputs": [
    {
     "name": "stdout",
     "output_type": "stream",
     "text": [
      "Created new scanner: Scanner_Yaml_1\n",
      "Created new scanner: Scanner_Yaml_2\n"
     ]
    }
   ],
   "source": [
    "# Instantiating scanner class to create a Scanner virtual-twin:\n",
    "\n",
    "Scanner_1           = scanner(name            = Qlunc_yaml_inputs_1['Components']['Scanner']['Name'],           # Introduce your scanner name.\n",
    "                            scanner_type    = Qlunc_yaml_inputs_1['Components']['Scanner']['Type'],\n",
    "                            origin          = Qlunc_yaml_inputs_1['Components']['Scanner']['Origin'],         # Origin (coordinates of the lidar deployment).\n",
    "                            pattern         = Qlunc_yaml_inputs_1['Components']['Scanner']['Pattern'],\n",
    "                            lissajous_param = Qlunc_yaml_inputs_1['Components']['Scanner']['Lissajous parameters'],\n",
    "                            sample_rate     = Qlunc_yaml_inputs_1['Components']['Scanner']['Sample rate'],    # for now introduce it in [degrees].\n",
    "                            time_pattern    = Qlunc_yaml_inputs_1['Components']['Scanner']['Pattern time'],\n",
    "                            time_point      = Qlunc_yaml_inputs_1['Components']['Scanner']['Single point measuring time'],      \n",
    "                            azimuth         = np.array(np.arange(Qlunc_yaml_inputs_1['Components']['Scanner']['Azimuth'][0],                                                  \n",
    "                                                                  Qlunc_yaml_inputs_1['Components']['Scanner']['Azimuth'][1],\n",
    "                                                                  math.floor((Qlunc_yaml_inputs_1['Components']['Scanner']['Azimuth'][1]-Qlunc_yaml_inputs_1['Components']['Scanner']['Azimuth'][0])/(Qlunc_yaml_inputs_1['Components']['Scanner']['Pattern time']/Qlunc_yaml_inputs_1['Components']['Scanner']['Single point measuring time'])))), # Azimuth angle in [degrees].\n",
    "                           focus_dist      = np.tile(Qlunc_yaml_inputs_1['Components']['Scanner']['Focus distance'],(1,len(np.linspace(Qlunc_yaml_inputs_1['Components']['Scanner']['Azimuth'][0],                                                  \n",
    "                                                                   Qlunc_yaml_inputs_1['Components']['Scanner']['Azimuth'][1],\n",
    "                                                                   math.floor(Qlunc_yaml_inputs_1['Components']['Scanner']['Pattern time']/Qlunc_yaml_inputs_1['Components']['Scanner']['Single point measuring time'])))))[0],   # Focus distance in [meters]                                                                                                \n",
    "                            cone_angle      = np.tile(Qlunc_yaml_inputs_1['Components']['Scanner']['Cone angle'],(1,len(np.linspace(Qlunc_yaml_inputs_1['Components']['Scanner']['Azimuth'][0],                                                  \n",
    "                                                                   Qlunc_yaml_inputs_1['Components']['Scanner']['Azimuth'][1],\n",
    "                                                                   math.floor(Qlunc_yaml_inputs_1['Components']['Scanner']['Pattern time']/Qlunc_yaml_inputs_1['Components']['Scanner']['Single point measuring time'])))))[0],   # Cone angle in [degrees].\n",
    "                            x               = np.array(Qlunc_yaml_inputs_1['Components']['Scanner']['x']),\n",
    "                            y               = np.array(Qlunc_yaml_inputs_1['Components']['Scanner']['y']),\n",
    "                            z               = np.array(Qlunc_yaml_inputs_1['Components']['Scanner']['z']),\n",
    "                            stdv_focus_dist = Qlunc_yaml_inputs_1['Components']['Scanner']['stdv focus distance'],                 # Focus distance standard deviation in [meters].\n",
    "                            stdv_cone_angle = Qlunc_yaml_inputs_1['Components']['Scanner']['stdv Cone angle'],                 # Cone angle standard deviation in [degrees].\n",
    "                            stdv_azimuth    = Qlunc_yaml_inputs_1['Components']['Scanner']['stdv Azimuth'],                 # Azimuth angle standard deviation in [degrees].\n",
    "                            unc_func        = uopc.UQ_Scanner) #eval(Qlunc_yaml_inputs['Components']['Scanner']['Uncertainty function']) )    # here you put the function describing your scanner uncertainty. \n",
    "\n",
    "Scanner_2           = scanner(name            = Qlunc_yaml_inputs_2['Components']['Scanner']['Name'],           # Introduce your scanner name.\n",
    "                            scanner_type    = Qlunc_yaml_inputs_2['Components']['Scanner']['Type'],\n",
    "                            origin          = Qlunc_yaml_inputs_2['Components']['Scanner']['Origin'],         # Origin (coordinates of the lidar deployment).\n",
    "                            pattern         = Qlunc_yaml_inputs_2['Components']['Scanner']['Pattern'],\n",
    "                            lissajous_param = Qlunc_yaml_inputs_2['Components']['Scanner']['Lissajous parameters'],\n",
    "                            sample_rate     = Qlunc_yaml_inputs_2['Components']['Scanner']['Sample rate'],    # for now introduce it in [degrees].\n",
    "                            time_pattern    = Qlunc_yaml_inputs_2['Components']['Scanner']['Pattern time'],\n",
    "                            time_point      = Qlunc_yaml_inputs_2['Components']['Scanner']['Single point measuring time'],      \n",
    "                            azimuth         = np.array(np.arange(Qlunc_yaml_inputs_2['Components']['Scanner']['Azimuth'][0],                                                  \n",
    "                                                                  Qlunc_yaml_inputs_2['Components']['Scanner']['Azimuth'][1],\n",
    "                                                                  math.floor((Qlunc_yaml_inputs_2['Components']['Scanner']['Azimuth'][1]-Qlunc_yaml_inputs_2['Components']['Scanner']['Azimuth'][0])/(Qlunc_yaml_inputs_2['Components']['Scanner']['Pattern time']/Qlunc_yaml_inputs_2['Components']['Scanner']['Single point measuring time'])))), # Azimuth angle in [degrees].                          \n",
    "                                                                  math.floor(Qlunc_yaml_inputs['Components']['Scanner']['Pattern time']/Qlunc_yaml_inputs['Components']['Scanner']['Single point measuring time']))), # Azimuth angle in [degrees].                                  \n",
    "                            focus_dist      = np.tile(Qlunc_yaml_inputs_2['Components']['Scanner']['Focus distance'],(1,len(np.linspace(Qlunc_yaml_inputs_2['Components']['Scanner']['Azimuth'][0],                                                  \n",
    "                                                                   Qlunc_yaml_inputs_2['Components']['Scanner']['Azimuth'][1],\n",
    "                                                                   math.floor(Qlunc_yaml_inputs_2['Components']['Scanner']['Pattern time']/Qlunc_yaml_inputs_2['Components']['Scanner']['Single point measuring time'])))))[0],   # Focus distance in [meters]                                                                                                \n",
    "                            cone_angle      = np.tile(Qlunc_yaml_inputs_2['Components']['Scanner']['Cone angle'],(1,len(np.linspace(Qlunc_yaml_inputs_2['Components']['Scanner']['Azimuth'][0],                                                  \n",
    "                                                                   Qlunc_yaml_inputs_2['Components']['Scanner']['Azimuth'][1],\n",
    "                                                                   math.floor(Qlunc_yaml_inputs_2['Components']['Scanner']['Pattern time']/Qlunc_yaml_inputs_2['Components']['Scanner']['Single point measuring time'])))))[0],   # Cone angle in [degrees].\n",
    "                            x               = np.array(Qlunc_yaml_inputs_2['Components']['Scanner']['x']),\n",
    "                            y               = np.array(Qlunc_yaml_inputs_2['Components']['Scanner']['y']),\n",
    "                            z               = np.array(Qlunc_yaml_inputs_2['Components']['Scanner']['z']),\n",
    "                            stdv_focus_dist = Qlunc_yaml_inputs_2['Components']['Scanner']['stdv focus distance'],                 # Focus distance standard deviation in [meters].\n",
    "                            stdv_cone_angle = Qlunc_yaml_inputs_2['Components']['Scanner']['stdv Cone angle'],                 # Cone angle standard deviation in [degrees].\n",
    "                            stdv_azimuth    = Qlunc_yaml_inputs_2['Components']['Scanner']['stdv Azimuth'],                 # Azimuth angle standard deviation in [degrees].\n",
    "                            unc_func        = uopc.UQ_Scanner) #eval(Qlunc_yaml_inputs['Components']['Scanner']['Uncertainty function']) )    # here you put the function describing your scanner uncertainty. \n"
   ]
  },
  {
   "cell_type": "markdown",
   "metadata": {},
   "source": [
    "## Optical circulator:\n",
    "Once we have created the different scanning heads we can create the optical circulator. Since they use the same optical circulator we just have to create one for both lidars. "
   ]
  },
  {
   "cell_type": "code",
   "execution_count": 8,
   "metadata": {},
   "outputs": [
    {
     "name": "stdout",
     "output_type": "stream",
     "text": [
      "Created new optical circulator: OC_Yaml_1\n"
     ]
    }
   ],
   "source": [
    "#Optical Circulator:\n",
    "\n",
    "Optical_circulator = optical_circulator (name           = Qlunc_yaml_inputs_1['Components']['Optical Circulator']['Name'],       # Introduce your Optical circulator name.\n",
    "                                         insertion_loss = Qlunc_yaml_inputs_1['Components']['Optical Circulator']['Insertion loss'],                        # In [dB]. Insertion loss parameters.\n",
    "                                         SNR            = Qlunc_yaml_inputs_1['Components']['Optical Circulator']['SNR'], # [dB] SNR optical circulator\n",
    "                                         unc_func       = uopc.UQ_OpticalCirculator) #eval(Qlunc_yaml_inputs['Components']['Optical Circulator']['Uncertainty function']))  # Function describing your scanner uncertainty.  Further informaion in \"UQ_Optics_Classes.py\" comments.\n"
   ]
  },
  {
   "cell_type": "markdown",
   "metadata": {},
   "source": [
    "## Optics modules:\n",
    "Create the optics modules by introducing scanners and optical circulator in them (by instantiating the optics `class`):"
   ]
  },
  {
   "cell_type": "code",
   "execution_count": 9,
   "metadata": {},
   "outputs": [
    {
     "name": "stdout",
     "output_type": "stream",
     "text": [
      "Created new optic module: Optics_module_Yaml_1\n",
      "Created new optic module: Optics_module_Yaml_2\n"
     ]
    }
   ],
   "source": [
    "# Optics Module lidar1:\n",
    "\n",
    "Optics_Module_1 =  optics (name               = Qlunc_yaml_inputs_1['Modules']['Optics Module']['Name'],     # Introduce your Optics Module name.\n",
    "                         scanner            = Scanner_1,# Scanner instance (in this example \"Scanner\") or \"None\". \"None\" means that you don´t want to include Scanner in Optics Module, either in uncertainty calculations.\n",
    "                         optical_circulator = Optical_circulator,# Optical Circulator instance (in this example \"Optical_circulator\") or \"None\". \"None\" means that you don´t want to include Optical circulator in Optics Module, either in uncertainty calculations.\n",
    "                         telescope          = None, #Telescope\n",
    "                         unc_func           = uopc.sum_unc_optics) #eval(Qlunc_yaml_inputs['Modules']['Optics Module']['Uncertainty function']))\n",
    "# Optics Module lidar2:\n",
    "Optics_Module_2 =  optics (name               = Qlunc_yaml_inputs_2['Modules']['Optics Module']['Name'],     # Introduce your Optics Module name.\n",
    "                         scanner            = Scanner_2, # Scanner instance (in this example \"Scanner\") or \"None\". \"None\" means that you don´t want to include Scanner in Optics Module, either in uncertainty calculations.\n",
    "                         optical_circulator = Optical_circulator, # Optical Circulator instance (in this example \"Optical_circulator\") or \"None\". \"None\" means that you don´t want to include Optical circulator in Optics Module, either in uncertainty calculations.\n",
    "                         telescope          = None,  #Telescope\n",
    "                         unc_func           = uopc.sum_unc_optics)\n"
   ]
  },
  {
   "cell_type": "markdown",
   "metadata": {},
   "source": [
    "## Photonics:"
   ]
  },
  {
   "cell_type": "code",
   "execution_count": 10,
   "metadata": {},
   "outputs": [
    {
     "name": "stdout",
     "output_type": "stream",
     "text": [
      "Created new optical amplifier: OA_Yaml_1\n"
     ]
    }
   ],
   "source": [
    "# Instantiating optical amplifier:\n",
    "\n",
    "Optical_Amplifier = optical_amplifier(name             = Qlunc_yaml_inputs_1['Components']['Optical Amplifier']['Name'],        # Introduce your scanner name.\n",
    "                                      NoiseFig         = Qlunc_yaml_inputs_1['Components']['Optical Amplifier']['Optical amplifier noise figure'],          # In [dB]. Can introduce it as a table from manufactures (in this example the data is taken from Thorlabs.com, in section EDFA\\Graps) or introduce a single well-known value\n",
    "                                      OA_Gain          = Qlunc_yaml_inputs_1['Components']['Optical Amplifier']['Optical amplifier gain'],                         # In [dB]. (in this example the data is taken from Thorlabs.com, in section EDFA\\Specs)\n",
    "                                      OA_BW            = Qlunc_yaml_inputs_1['Components']['Optical Amplifier']['Optical amplifier BW'],\n",
    "                                      Power_interval   = np.array(np.arange(Qlunc_yaml_inputs_1['Components']['Optical Amplifier']['Power interval'][0],\n",
    "                                                                            Qlunc_yaml_inputs_1['Components']['Optical Amplifier']['Power interval'][1],\n",
    "                                                                            Qlunc_yaml_inputs_1['Components']['Optical Amplifier']['Power interval'][2])),\n",
    "                                      unc_func         = uphc.UQ_Optical_amplifier) # Function describing Optical Amplifier uncertainty. Further informaion in \"UQ_Photonics_Classes.py\" comments.\n"
   ]
  },
  {
   "cell_type": "markdown",
   "metadata": {},
   "source": [
    "Photodetector digital twin:"
   ]
  },
  {
   "cell_type": "code",
   "execution_count": 11,
   "metadata": {},
   "outputs": [
    {
     "name": "stdout",
     "output_type": "stream",
     "text": [
      "Created new photodetector: Photodetector_YAML_1\n"
     ]
    }
   ],
   "source": [
    "# Instantiating Photodetector:\n",
    "\n",
    "Photodetector    = photodetector(name             = Qlunc_yaml_inputs_1['Components']['Photodetector']['Name'],                           # Introduce your photodetector name.\n",
    "                                 Photo_BandWidth  = Qlunc_yaml_inputs_1['Components']['Photodetector']['Photodetector BandWidth'],        # Photodetector bandwidth\n",
    "                                 Load_Resistor    = Qlunc_yaml_inputs_1['Components']['Photodetector']['Load resistor'],                  # [ohms]\n",
    "                                 Photo_efficiency = Qlunc_yaml_inputs_1['Components']['Photodetector']['Photodetector efficiency'],       # Photodetector efficiency [-]\n",
    "                                 Dark_Current     = Qlunc_yaml_inputs_1['Components']['Photodetector']['Dark current'],                   # [A]. Dark current in the photodetector.\n",
    "                                 Photo_SignalP    = Qlunc_yaml_inputs_1['Components']['Photodetector']['Photodetector signalP'],\n",
    "                                 Power_interval   = np.array(np.arange(Qlunc_yaml_inputs_1['Components']['Photodetector']['Power interval'][0],\n",
    "                                                                       Qlunc_yaml_inputs_1['Components']['Photodetector']['Power interval'][1],\n",
    "                                                                       Qlunc_yaml_inputs_1['Components']['Photodetector']['Power interval'][2])),# [w]. Power interval for the photodetector domain in photodetector SNR plot. \n",
    "                                 Active_Surf      = Qlunc_yaml_inputs_1['Components']['Photodetector']['Active Surface'],\n",
    "                                 Gain_TIA         = Qlunc_yaml_inputs_1['Components']['Photodetector']['Gain TIA'],                    # [dB]. If there is a transimpedance amplifier.\n",
    "                                 V_Noise_TIA      = Qlunc_yaml_inputs_1['Components']['Photodetector']['V Noise TIA'],                 # [V]. If there is a transimpedance amplifier.\n",
    "                                 \n",
    "                                 unc_func         = uphc.UQ_Photodetector) #Function describing Photodetector uncertainty. Further informaion in \"UQ_Photonics_Classes.py\" comments.\n"
   ]
  },
  {
   "cell_type": "markdown",
   "metadata": {},
   "source": [
    "Photonics module digital twin:\n",
    "And finally the Photonics module:\n"
   ]
  },
  {
   "cell_type": "code",
   "execution_count": 12,
   "metadata": {},
   "outputs": [
    {
     "name": "stdout",
     "output_type": "stream",
     "text": [
      "Created new photonic module: Photonics_module_Yaml_1\n"
     ]
    }
   ],
   "source": [
    "# Instantiating Photonics module:\n",
    "\n",
    "Photonics_Module = photonics(name                    = Qlunc_yaml_inputs_1['Modules']['Photonics Module']['Name'],        # Introduce your Photonics module name\n",
    "                             photodetector           = Photodetector,# Photodetector instance (in this example \"Photodetector\") or \"None\". \"None\" means that you don´t want to include photodetector in Photonics Module, either in uncertainty calculations.\n",
    "                             optical_amplifier       = Optical_Amplifier,# Optical amplifier instance (in this example \"OpticalAmplifier\") or \"None\". \"None\" means that you don´t want to include Optical Amplifier in Photonics Module, either in uncertainty calculations.\n",
    "                             laser                   = 'None', \n",
    "                             acousto_optic_modulator = 'None', \n",
    "                             unc_func                = uphc.sum_unc_photonics)\n"
   ]
  },
  {
   "cell_type": "markdown",
   "metadata": {},
   "source": [
    "Lidar general inputs:"
   ]
  },
  {
   "cell_type": "code",
   "execution_count": 13,
   "metadata": {},
   "outputs": [
    {
     "name": "stdout",
     "output_type": "stream",
     "text": [
      "Created new lidar general inputs: Lidar_gral_inputs_Yaml_1\n",
      "Created new lidar general inputs: Lidar_gral_inputs_Yaml_2\n"
     ]
    }
   ],
   "source": [
    "# Instantiating lidar general inputs\n",
    "\n",
    "Lidar_inputs     = lidar_gral_inp(name        = Qlunc_yaml_inputs_1['Components']['Lidar general inputs']['Name'],      # Introduce the name of your lidar data folder.\n",
    "                                  wave        = Qlunc_yaml_inputs_1['Components']['Lidar general inputs']['Wavelength'],                    # In [m]. Lidar wavelength.\n",
    "                                  ltype       = Qlunc_yaml_inputs_1['Components']['Lidar general inputs']['Type'],\n",
    "                                  yaw_error   = Qlunc_yaml_inputs_1['Components']['Lidar general inputs']['Yaw error'],                          # In [°]. Degrees of rotation around z axis because of inclinometer errors\n",
    "                                  pitch_error = Qlunc_yaml_inputs_1['Components']['Lidar general inputs']['Pitch error'],                          # In [°]. Degrees of rotation around y axis\n",
    "                                  roll_error  = Qlunc_yaml_inputs_1['Components']['Lidar general inputs']['Roll error'],                        # In [°]. Degrees of rotation around z axis.\n",
    "                                  dataframe   = { })  # Final dataframe\n",
    "\n",
    "\n",
    "Lidar_inputs_2   = lidar_gral_inp(name        = Qlunc_yaml_inputs_2['Components']['Lidar general inputs']['Name'],      # Introduce the name of your lidar data folder.\n",
    "                                  wave        = Qlunc_yaml_inputs_2['Components']['Lidar general inputs']['Wavelength'],                    # In [m]. Lidar wavelength.\n",
    "                                  ltype       = Qlunc_yaml_inputs_2['Components']['Lidar general inputs']['Type'],\n",
    "                                  yaw_error   = Qlunc_yaml_inputs_2['Components']['Lidar general inputs']['Yaw error'],                          # In [°]. Degrees of rotation around z axis because of inclinometer errors\n",
    "                                  pitch_error = Qlunc_yaml_inputs_2['Components']['Lidar general inputs']['Pitch error'],                          # In [°]. Degrees of rotation around y axis\n",
    "                                  roll_error  = Qlunc_yaml_inputs_2['Components']['Lidar general inputs']['Roll error'],                        # In [°]. Degrees of rotation around z axis.\n",
    "                                  dataframe   = { })  # Final dataframe\n",
    "\n"
   ]
  },
  {
   "cell_type": "markdown",
   "metadata": {},
   "source": [
    "Atmospheric scenarios:\n",
    "\n",
    "We can create different atmospheric scenarios under which the lidar uncertainties are assessed. Thus, single or multiple scenarios can be evaluated either including single or time-seried atmospheric variables values."
   ]
  },
  {
   "cell_type": "code",
   "execution_count": 14,
   "metadata": {},
   "outputs": [
    {
     "name": "stdout",
     "output_type": "stream",
     "text": [
      "Created new atmosphere: Atmosphere1\n"
     ]
    }
   ],
   "source": [
    "# Instantiating atmospheric scenario(s): Assuming both lidars ahve the same atmospheric \n",
    "Atmospheric_TimeSeries = Qlunc_yaml_inputs_1['Atmospheric_inputs']['TimeSeries']  \n",
    "                                                                           \n",
    "if Atmospheric_TimeSeries:\n",
    "    Atmos_TS_FILE           = '../metadata/AtmosphericData/'+Qlunc_yaml_inputs_1['Atmospheric_inputs']['Atmos_TS_FILE']\n",
    "    AtmosphericScenarios_TS = pd.read_csv(Atmos_TS_FILE,delimiter=';',decimal=',')\n",
    "    Atmospheric_inputs = {\n",
    "                          'temperature' : list(AtmosphericScenarios_TS.loc[:,'T']),    \n",
    "                          'humidity'    : list(AtmosphericScenarios_TS.loc[:,'H']),    \n",
    "                          'rain'        : list(AtmosphericScenarios_TS.loc[:,'rain']),\n",
    "                          'fog'         : list(AtmosphericScenarios_TS.loc[:,'fog']),\n",
    "                          'time'        : list(AtmosphericScenarios_TS.loc[:,'t'])     \n",
    "                          } \n",
    "    Atmospheric_Scenario = atmosphere(name        = 'Atmosphere1',\n",
    "                                      temperature = Atmospheric_inputs['temperature'])\n",
    "else:    \n",
    "\n",
    "    Atmospheric_Scenario = atmosphere(name        = 'Atmosphere1',\n",
    "                                      temperature = Qlunc_yaml_inputs_1['Atmospheric_inputs']['Temperature'])"
   ]
  },
  {
   "cell_type": "code",
   "execution_count": 15,
   "metadata": {},
   "outputs": [
    {
     "name": "stdout",
     "output_type": "stream",
     "text": [
      "Selected wfr model: None terrain\n",
      "Selected filtering model: CNR \n",
      "Class \"Probe volume\" created\n"
     ]
    }
   ],
   "source": [
    "#%% Data processing methods\n",
    "\n",
    "# Wind field reconstruction model\n",
    "WFR_M = wfr (name                 = Qlunc_yaml_inputs_1['WFR model']['Name'],\n",
    "             reconstruction_model = Qlunc_yaml_inputs_1['WFR model']['Model'],\n",
    "             unc_func             = uprm.UQ_WFR)\n",
    "\n",
    "# Data filtering method\n",
    "Filt_M = filtering_method (name        = Qlunc_yaml_inputs_1['Filtering method']['Name'],\n",
    "                           filt_method = Qlunc_yaml_inputs_1['Filtering method']['Method'],\n",
    "                           unc_func    = 'uprm.UQ_WFR')\n",
    "Probe_Volume = probe_volume (name                       = Qlunc_yaml_inputs_1['Probe Volume']['Name'],\n",
    "                             extinction_coef            = Qlunc_yaml_inputs_1['Probe Volume']['Extinction coeficient'],\n",
    "                             unc_func                   = upbc.UQ_Probe_volume)\n"
   ]
  },
  {
   "cell_type": "markdown",
   "metadata": {},
   "source": [
    "Now we build up the lidar devices by putting all components together:"
   ]
  },
  {
   "cell_type": "code",
   "execution_count": 16,
   "metadata": {},
   "outputs": [
    {
     "name": "stdout",
     "output_type": "stream",
     "text": [
      "Created new lidar device: Caixa1_1\n",
      "Created new lidar device: Caixa1_2\n"
     ]
    }
   ],
   "source": [
    "Lidar_1 = lidar(name         = Qlunc_yaml_inputs_1['Lidar']['Name'], # Introduce the name of your lidar device.\n",
    "                photonics    = Photonics_Module,# Introduce the name of your photonics module.\n",
    "                optics       = Optics_Module_1,# Introduce the name of your optics module.\n",
    "                power        = None, # Introduce the name of your power module. NOT IMPLEMENTED YET!\n",
    "                wfr_model    = None,\n",
    "                filt_method  = None,\n",
    "                probe_volume = None, \n",
    "                lidar_inputs = Lidar_inputs,# Introduce lidar general inputs\n",
    "                unc_func     = ulc.UQ_Lidar_Classes )#eval(Qlunc_yaml_inputs_1['Lidar']['Uncertainty function'])) # Function estimating lidar global uncertainty\n",
    "\n",
    "Lidar_2 = lidar(name         = Qlunc_yaml_inputs_2['Lidar']['Name'],                       # Introduce the name of your lidar device.\n",
    "                photonics    = Photonics_Module,# Introduce the name of your photonics module.\n",
    "                optics       = Optics_Module_2,# Introduce the name of your optics module.\n",
    "                power        = None,         # Introduce the name of your power module. NOT IMPLEMENTED YET!\n",
    "                wfr_model    = None,\n",
    "                filt_method  = None,\n",
    "                probe_volume = None, \n",
    "                lidar_inputs = Lidar_inputs_2,# Introduce lidar general inputs\n",
    "                unc_func     = ulc.UQ_Lidar_Classes )#eval(Qlunc_yaml_inputs_2['Lidar']['Uncertainty function'])) # Function estimating lidar global uncertainty\n"
   ]
  },
  {
   "cell_type": "markdown",
   "metadata": {},
   "source": [
    "### Asking for the scanner uncertainties and plot the results"
   ]
  },
  {
   "cell_type": "code",
   "execution_count": 18,
   "metadata": {
    "scrolled": true
   },
   "outputs": [],
   "source": [
    "os.chdir('C:\\SWE_LOCAL\\GIT_Qlunc')"
   ]
  },
  {
   "cell_type": "code",
   "execution_count": 19,
   "metadata": {
    "scrolled": true
   },
   "outputs": [],
   "source": [
    "Scanner_Data1,ScDf1 = Lidar_1.optics.scanner.Uncertainty(Lidar_1,Atmospheric_Scenario,cts,Qlunc_yaml_inputs_1)\n",
    "Scanner_Data2,ScDf2 = Lidar_2.optics.scanner.Uncertainty(Lidar_2,Atmospheric_Scenario,cts,Qlunc_yaml_inputs_2) "
   ]
  },
  {
   "cell_type": "code",
   "execution_count": 17,
   "metadata": {},
   "outputs": [],
   "source": [
    "# Plotting parameters:\n",
    "plot_param={\n",
    "            'axes_label_fontsize' : 16,\n",
    "            'textbox_fontsize'    : 14,\n",
    "            'title_fontsize'      : 18,\n",
    "            'suptitle_fontsize'   : 23,\n",
    "            'legend_fontsize'     : 12,\n",
    "            'xlim'                : [-25,25],\n",
    "            'ylim'                : [-25,25],\n",
    "            'zlim'                : [0,90],\n",
    "            'markersize'          : 5,\n",
    "            'markersize_lidar'    : 9,\n",
    "            'marker'              : '.',\n",
    "            'markerTheo'          : '.b',\n",
    "            'tick_labelrotation'  : 45,\n",
    "            'Qlunc_version'       : 'Qlunc Version - 0.9'\n",
    "           }"
   ]
  },
  {
   "cell_type": "code",
   "execution_count": 20,
   "metadata": {
    "slideshow": {
     "slide_type": ""
    }
   },
   "outputs": [
    {
     "name": "stdout",
     "output_type": "stream",
     "text": [
      "{'Scanner': [1.9021432568211114]}\n"
     ]
    },
    {
     "data": {
      "text/plain": [
       "(0.0, 90.0)"
      ]
     },
     "execution_count": 20,
     "metadata": {},
     "output_type": "execute_result"
    },
    {
     "data": {
      "image/png": "[encoded data removed]",
      "text/plain": [
       "<Figure size 432x288 with 1 Axes>"
      ]
     },
     "metadata": {
      "needs_background": "light"
     },
     "output_type": "display_data"
    }
   ],
   "source": [
    "# Creating the figure and the axes\n",
    "fig,axs4 = plt.subplots()  \n",
    "axs4=plt.axes(projection='3d')\n",
    "\n",
    "# Plotting\n",
    "\n",
    "# First lidar (Lidar_1)\n",
    "axs4.plot([Lidar_1.optics.scanner.origin[0]],[Lidar_1.optics.scanner.origin[1]],[Lidar_1.optics.scanner.origin[2]],'ob',label='{} coordinates [{},{},{}]'.format(Lidar_1.LidarID,Lidar_1.optics.scanner.origin[0],Lidar_1.optics.scanner.origin[1],Lidar_1.optics.scanner.origin[2]),markersize=plot_param['markersize_lidar'])\n",
    "axs4.plot(Scanner_Data1['MeasPoint_Coordinates'][0],Scanner_Data1['MeasPoint_Coordinates'][1],Scanner_Data1['MeasPoint_Coordinates'][2],plot_param['markerTheo'],markersize=plot_param['markersize'],label='Theoretical measuring point')\n",
    "axs4.plot(Scanner_Data1['NoisyMeasPoint_Coordinates'][0],Scanner_Data1['NoisyMeasPoint_Coordinates'][1],Scanner_Data1['NoisyMeasPoint_Coordinates'][2],plot_param['marker'],markersize=plot_param['markersize'],label='Distance error [m] = {0:.3g}$\\pm${1:.3g}'.format(np.mean(Scanner_Data1['Simu_Mean_Distance_Error']),np.mean(Scanner_Data1['STDV_Distance'])))\n",
    "\n",
    "# Second lidar(Lidar_2)\n",
    "axs4.plot([Lidar_2.optics.scanner.origin[0]],[Lidar_2.optics.scanner.origin[1]],[Lidar_2.optics.scanner.origin[2]],'ob',label='{} coordinates [{},{},{}]'.format(Lidar_2.LidarID,Lidar_2.optics.scanner.origin[0],Lidar_2.optics.scanner.origin[1],Lidar_2.optics.scanner.origin[2]),markersize=plot_param['markersize_lidar'])\n",
    "axs4.plot(Scanner_Data2['MeasPoint_Coordinates'][0],Scanner_Data2['MeasPoint_Coordinates'][1],Scanner_Data2['MeasPoint_Coordinates'][2],plot_param['markerTheo'],markersize=plot_param['markersize'],label='Theoretical measuring point')\n",
    "axs4.plot(Scanner_Data2['NoisyMeasPoint_Coordinates'][0],Scanner_Data2['NoisyMeasPoint_Coordinates'][1],Scanner_Data2['NoisyMeasPoint_Coordinates'][2],plot_param['marker'],markersize=plot_param['markersize'],label='Distance error [m] = {0:.3g}$\\pm${1:.3g}'.format(np.mean(Scanner_Data2['Simu_Mean_Distance_Error']),np.mean(Scanner_Data2['STDV_Distance'])))\n",
    "\n",
    "# Setting labels, legend, title and axes limits:\n",
    "axs4.set_xlabel('x [m]',fontsize=plot_param['axes_label_fontsize'])#,orientation=plot_param['tick_labelrotation'])\n",
    "axs4.set_ylabel('y [m]',fontsize=plot_param['axes_label_fontsize'])#,orientation=plot_param['tick_labelrotation'])\n",
    "axs4.set_zlabel('z [m]',fontsize=plot_param['axes_label_fontsize'])\n",
    "axs4.set_title('Scanner Pointing accuracy',fontsize=plot_param['title_fontsize'])\n",
    "# axs4.legend()\n",
    "axs4.set_xlim3d(plot_param['xlim'][0],plot_param['xlim'][1])\n",
    "axs4.set_ylim3d(plot_param['ylim'][0],plot_param['ylim'][1])\n",
    "axs4.set_zlim3d(plot_param['zlim'][0],plot_param['zlim'][1])"
   ]
  },
  {
   "cell_type": "code",
   "execution_count": 21,
   "metadata": {},
   "outputs": [
    {
     "data": {
      "text/plain": [
       "(0.0, 90.0)"
      ]
     },
     "execution_count": 21,
     "metadata": {},
     "output_type": "execute_result"
    }
   ],
   "source": [
    "# Setting labels, legend, title and axes limits:\n",
    "axs4.set_xlabel('x [m]',fontsize=plot_param['axes_label_fontsize'])#,orientation=plot_param['tick_labelrotation'])\n",
    "axs4.set_ylabel('y [m]',fontsize=plot_param['axes_label_fontsize'])#,orientation=plot_param['tick_labelrotation'])\n",
    "axs4.set_zlabel('z [m]',fontsize=plot_param['axes_label_fontsize'])\n",
    "axs4.set_title('Scanner Pointing accuracy',fontsize=plot_param['title_fontsize'])\n",
    "# axs4.legend()\n",
    "axs4.set_xlim3d(plot_param['xlim'][0],plot_param['xlim'][1])\n",
    "axs4.set_ylim3d(plot_param['ylim'][0],plot_param['ylim'][1])\n",
    "axs4.set_zlim3d(plot_param['zlim'][0],plot_param['zlim'][1])"
   ]
  }
 ],
 "metadata": {
  "kernelspec": {
   "display_name": "Python 3",
   "language": "python",
   "name": "python3"
  },
  "language_info": {
   "codemirror_mode": {
    "name": "ipython",
    "version": 3
   },
   "file_extension": ".py",
   "mimetype": "text/x-python",
   "name": "python",
   "nbconvert_exporter": "python",
   "pygments_lexer": "ipython3",
   "version": "3.7.9"
  }
 },
 "nbformat": 4,
 "nbformat_minor": 4
}
