{
 "cells": [
  {
   "cell_type": "markdown",
   "id": "colonial-charger",
   "metadata": {},
   "source": [
    "#### Qlunc tutorial by Francisco Costa\n",
    "# **Tutorial 2**\n",
    "## Calculate line of sight wind velocity ($V_{LOS}$) and horizontal wind velocity ($V_{h}$) uncertainties\n",
    "\n",
    "This tutorial aims to facilitate the use to Qlunc. \n",
    "In this tutorial will deal with the new capabilities of Qlunc, namely $V_{LOS}$ (one single lidar) and $V_{h}$ (two lidars) estimations. To quantitatively verify the results a comparison between Montecarlo simulations and the analytical model (GUM approach) is performed.\n",
    "\n",
    "* **Some steps are not deeply explained since it is not necessary for the sake of this tutorial. The main goal of the tutorial is to show how the lidar digital twin is built and the interaction between different modules.**"
   ]
  },
  {
   "cell_type": "code",
   "execution_count": 1,
   "id": "instant-showcase",
   "metadata": {},
   "outputs": [],
   "source": [
    "import os\n",
    "os.chdir('../')\n",
    "# importing  uncertainty functions\n",
    "import UQ_Functions.UQ_Vhorizontal_Classes as uVhc, UQ_Functions.UQ_Photonics_Classes as uphc,UQ_Functions.UQ_Optics_Classes as uopc, UQ_Functions.UQ_Power_Classes as upwc,UQ_Functions.UQ_Lidar_Classes as ulc, UQ_Functions.UQ_ProbeVolume_Classes as upbc,UQ_Functions.UQ_Data_processing_Classes as uprm, UQ_Functions.UQ_SignalProcessor_Classes as uspc\n",
    "from Utils.Qlunc_ImportModules import *"
   ]
  },
  {
   "cell_type": "markdown",
   "id": "secure-relief",
   "metadata": {},
   "source": [
    "A [.yml template](https://github.com/PacoCosta/Qlunc/blob/Qlunc-V0.9/Main/Template_yaml_inputs_file.yml) is included in the repository. This tutorial uses two different yaml files to create two lidars 'Caixa1' and 'Caixa2'. \n",
    "\n",
    "The code below imports the `yaml` file."
   ]
  },
  {
   "cell_type": "code",
   "execution_count": 2,
   "id": "toxic-bacteria",
   "metadata": {},
   "outputs": [],
   "source": [
    "# Read yaml files 1 and 2\n",
    "# Obtain data from .yaml file:\n",
    "with open (r'./Tutorials/yaml_inputs_file_2_1.yml','r') as file:\n",
    "    Qlunc_yaml_inputs1={}\n",
    "    docs = yaml.load_all(file, Loader=yaml.FullLoader)\n",
    "    for doc in docs:      \n",
    "        for k, v in doc.items():     \n",
    "            Qlunc_yaml_inputs1.setdefault(k,v)\n",
    "# Obtain data from .yaml file:\n",
    "with open (r'./Tutorials/yaml_inputs_file_2_2.yml','r') as file:\n",
    "    Qlunc_yaml_inputs2={}\n",
    "    docs = yaml.load_all(file, Loader=yaml.FullLoader)\n",
    "    for doc in docs:      \n",
    "        for k, v in doc.items():     \n",
    "            Qlunc_yaml_inputs2.setdefault(k,v)"
   ]
  },
  {
   "cell_type": "code",
   "execution_count": 3,
   "id": "electric-polyester",
   "metadata": {},
   "outputs": [],
   "source": [
    "# Execute Qlunc_Classes.py (creating classes for lidar 'objects'):\n",
    "#exec(open(Qlunc_yaml_inputs1['Main directory']+'/Tutorials/WorkingExample_Tutorial.py').read())"
   ]
  },
  {
   "cell_type": "code",
   "execution_count": 4,
   "id": "seasonal-trader",
   "metadata": {},
   "outputs": [
    {
     "name": "stderr",
     "output_type": "stream",
     "text": [
      "File Not Found\n"
     ]
    },
    {
     "name": "stdout",
     "output_type": "stream",
     "text": [
      " Volume in drive C has no label.\n",
      " Volume Serial Number is 0C54-9785\n",
      "\n",
      " Directory of C:\\SWE_LOCAL\\GIT_Qlunc\n",
      "\n"
     ]
    }
   ],
   "source": [
    "!dir #print(Qlunc_yaml_inputs1)"
   ]
  },
  {
   "cell_type": "markdown",
   "id": "intense-denmark",
   "metadata": {},
   "source": [
    "Bla bla bla ..."
   ]
  },
  {
   "cell_type": "code",
   "execution_count": 5,
   "id": "nonprofit-folder",
   "metadata": {},
   "outputs": [
    {
     "name": "stdout",
     "output_type": "stream",
     "text": [
      "C:\\SWE_LOCAL\\GIT_Qlunc\n",
      "C:\\SWE_LOCAL\\GIT_Qlunc\n",
      "Created new scanner: Scanner_Yaml\n",
      "Created new optical circulator: OC_Yaml\n",
      "Created new telescope: Telescope_YAML_zr\n",
      "Class \"Probe volume\" created\n",
      "Created new optic module: Optics_module_Yaml\n",
      "Created new AOM: AOM_YAML\n",
      "Created new optical amplifier: OA_Yaml\n",
      "Created new photodetector: Photodetector_YAML\n",
      "Created new laser: Laser_YAML\n",
      "Created new photonic module: Photonics_module_Yaml\n"
     ]
    },
    {
     "ename": "NameError",
     "evalue": "name 'uspc' is not defined",
     "output_type": "error",
     "traceback": [
      "\u001b[1;31m---------------------------------------------------------------------------\u001b[0m",
      "\u001b[1;31mNameError\u001b[0m                                 Traceback (most recent call last)",
      "\u001b[1;32mC:\\SWE_LOCAL\\GIT_Qlunc\\Tutorials\\Qlunc_Instantiate_Tutorial2_file_2_2.py\u001b[0m in \u001b[0;36m<module>\u001b[1;34m\u001b[0m\n\u001b[0;32m    190\u001b[0m                                 \u001b[0mq_error\u001b[0m  \u001b[1;33m=\u001b[0m \u001b[0mQlunc_yaml_inputs2\u001b[0m\u001b[1;33m[\u001b[0m\u001b[1;34m'Components'\u001b[0m\u001b[1;33m]\u001b[0m\u001b[1;33m[\u001b[0m\u001b[1;34m'ADC'\u001b[0m\u001b[1;33m]\u001b[0m\u001b[1;33m[\u001b[0m\u001b[1;34m'Quantization error'\u001b[0m\u001b[1;33m]\u001b[0m\u001b[1;33m,\u001b[0m\u001b[1;33m\u001b[0m\u001b[1;33m\u001b[0m\u001b[0m\n\u001b[0;32m    191\u001b[0m                                 \u001b[0mADC_bandwidth\u001b[0m \u001b[1;33m=\u001b[0m \u001b[0mQlunc_yaml_inputs2\u001b[0m\u001b[1;33m[\u001b[0m\u001b[1;34m'Components'\u001b[0m\u001b[1;33m]\u001b[0m\u001b[1;33m[\u001b[0m\u001b[1;34m'ADC'\u001b[0m\u001b[1;33m]\u001b[0m\u001b[1;33m[\u001b[0m\u001b[1;34m'ADC Bandwidth'\u001b[0m\u001b[1;33m]\u001b[0m\u001b[1;33m,\u001b[0m\u001b[1;33m\u001b[0m\u001b[1;33m\u001b[0m\u001b[0m\n\u001b[1;32m--> 192\u001b[1;33m                                 unc_func = uspc.UQ_ADC)\n\u001b[0m\u001b[0;32m    193\u001b[0m \u001b[1;33m\u001b[0m\u001b[0m\n\u001b[0;32m    194\u001b[0m Signal_processor_Module = signal_processor(name                     = Qlunc_yaml_inputs2['Modules']['Signal processor Module']['Name'],\n",
      "\u001b[1;31mNameError\u001b[0m: name 'uspc' is not defined"
     ]
    }
   ],
   "source": [
    "%run -i ./Tutorials/Qlunc_Instantiate_Tutorial2_file_2_2.py"
   ]
  },
  {
   "cell_type": "code",
   "execution_count": null,
   "id": "involved-numbers",
   "metadata": {},
   "outputs": [],
   "source": []
  }
 ],
 "metadata": {
  "kernelspec": {
   "display_name": "Python 3",
   "language": "python",
   "name": "python3"
  },
  "language_info": {
   "codemirror_mode": {
    "name": "ipython",
    "version": 3
   },
   "file_extension": ".py",
   "mimetype": "text/x-python",
   "name": "python",
   "nbconvert_exporter": "python",
   "pygments_lexer": "ipython3",
   "version": "3.7.9"
  }
 },
 "nbformat": 4,
 "nbformat_minor": 5
}
