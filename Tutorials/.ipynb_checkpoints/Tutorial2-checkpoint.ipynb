{
 "cells": [
  {
   "cell_type": "markdown",
   "id": "colonial-charger",
   "metadata": {},
   "source": [
    "#### Qlunc tutorial by Francisco Costa\n",
    "# **Tutorial 2**\n",
    "## Calculate line of sight wind velocity ($V_{LOS}$) and horizontal wind velocity ($V_{h}$) uncertainties\n",
    "\n",
    "This tutorial aims to facilitate the use to Qlunc. \n",
    "In this tutorial will deal with the new capabilities of Qlunc, namely $V_{LOS}$ (one single lidar) and $V_{h}$ (two lidars) uncertainty estimations. To quantitatively verify the results a comparison between Montecarlo simulations and an analytical model (GUM approach) is performed.\n",
    "\n",
    "* **Some steps are not deeply explained since it is not necessary for the sake of this tutorial. The main goal of the present tutorial is to show how to calculate the uncertainty of $V_{LOS}$ and how to combine two lidars to calculate the uncertainty in $V_{h}$.**"
   ]
  },
  {
   "cell_type": "markdown",
   "id": "neither-initial",
   "metadata": {},
   "source": [
    "First we import the necessary python packages and Qlunc functions:"
   ]
  },
  {
   "cell_type": "code",
   "execution_count": 1,
   "id": "instant-showcase",
   "metadata": {},
   "outputs": [],
   "source": [
    "import os\n",
    "os.chdir('../')\n",
    "# importing  uncertainty functions\n",
    "import UQ_Functions.UQ_Vhorizontal_Classes as uVhc, UQ_Functions.UQ_Photonics_Classes as uphc,UQ_Functions.UQ_Optics_Classes as uopc, UQ_Functions.UQ_Power_Classes as upwc,UQ_Functions.UQ_Lidar_Classes as ulc, UQ_Functions.UQ_ProbeVolume_Classes as upbc,UQ_Functions.UQ_Data_processing_Classes as uprm, UQ_Functions.UQ_SignalProcessor_Classes as uspc\n",
    "from Utils.Qlunc_ImportModules import *"
   ]
  },
  {
   "cell_type": "markdown",
   "id": "secure-relief",
   "metadata": {},
   "source": [
    "### Obtaining lidar and measuring set up parameters from the yaml inputs file\n",
    "\n",
    "A [.yml template](https://github.com/PacoCosta/Qlunc/blob/Qlunc-V0.9/Main/Template_yaml_inputs_file.yml) is included in the repository. This tutorial uses two different yaml files to create two lidars '**CaixaT1**' and '**CaixaT2**'. \n",
    "\n",
    "The code below imports the `yaml` files:"
   ]
  },
  {
   "cell_type": "code",
   "execution_count": 2,
   "id": "toxic-bacteria",
   "metadata": {},
   "outputs": [],
   "source": [
    "# Read yaml files corresponding to the 1 and 2\n",
    "\n",
    "# Data for Lidar1 ('CaixaT1')\n",
    "with open (r'./Tutorials/yaml_inputs_file_2_1.yml','r') as file:\n",
    "    Qlunc_yaml_inputs1={}\n",
    "    docs = yaml.load_all(file, Loader=yaml.FullLoader)\n",
    "    for doc in docs:      \n",
    "        for k, v in doc.items():     \n",
    "            Qlunc_yaml_inputs1.setdefault(k,v)\n",
    "\n",
    "# Data for Lidar1 ('CaixaT2')\n",
    "with open (r'./Tutorials/yaml_inputs_file_2_2.yml','r') as file:\n",
    "    Qlunc_yaml_inputs2={}\n",
    "    docs = yaml.load_all(file, Loader=yaml.FullLoader)\n",
    "    for doc in docs:      \n",
    "        for k, v in doc.items():     \n",
    "            Qlunc_yaml_inputs2.setdefault(k,v)"
   ]
  },
  {
   "cell_type": "code",
   "execution_count": 3,
   "id": "electric-polyester",
   "metadata": {},
   "outputs": [],
   "source": [
    "# Execute Qlunc_Classes.py (creating classes for lidar 'objects'):\n",
    "#exec(open(Qlunc_yaml_inputs1['Main directory']+'/Tutorials/WorkingExample_Tutorial.py').read())"
   ]
  },
  {
   "cell_type": "markdown",
   "id": "important-supplier",
   "metadata": {},
   "source": [
    "### Create the lidar objects"
   ]
  },
  {
   "cell_type": "markdown",
   "id": "intense-denmark",
   "metadata": {},
   "source": [
    "To create the lidar objects we need to instantiate the python classes actually representing the lidar components. See Tutorial1 to see how to instantiate the lidar components in Qlunc. \n",
    "\n",
    "The lidar characteristics have been declared in the corresponding yaml files `yaml_inputs_file_2_1` and `yaml_inputs_file_2_2`. The code below instantiates and creates the lidar devices: "
   ]
  },
  {
   "cell_type": "code",
   "execution_count": 4,
   "id": "nonprofit-folder",
   "metadata": {},
   "outputs": [
    {
     "name": "stdout",
     "output_type": "stream",
     "text": [
      "C:\\SWE_LOCAL\\GIT_Qlunc\n",
      "C:\\SWE_LOCAL\\GIT_Qlunc\n"
     ]
    },
    {
     "ename": "NameError",
     "evalue": "name 'Qlunc_yaml_inputs' is not defined",
     "output_type": "error",
     "traceback": [
      "\u001b[1;31m---------------------------------------------------------------------------\u001b[0m",
      "\u001b[1;31mNameError\u001b[0m                                 Traceback (most recent call last)",
      "\u001b[1;32mC:\\SWE_LOCAL\\GIT_Qlunc\\Tutorials\\Qlunc_Instantiate_Tutorial2_file_1.py\u001b[0m in \u001b[0;36m<module>\u001b[1;34m\u001b[0m\n\u001b[0;32m     80\u001b[0m                             \u001b[1;31m#                                        math.floor(Qlunc_yaml_inputs1['Components']['Scanner']['Pattern time']/Qlunc_yaml_inputs1['Components']['Scanner']['Single point measuring time'])))))[0],   # Cone angle in [degrees].\u001b[0m\u001b[1;33m\u001b[0m\u001b[1;33m\u001b[0m\u001b[1;33m\u001b[0m\u001b[0m\n\u001b[0;32m     81\u001b[0m \u001b[1;33m\u001b[0m\u001b[0m\n\u001b[1;32m---> 82\u001b[1;33m                             \u001b[0mazimuth\u001b[0m         \u001b[1;33m=\u001b[0m \u001b[0mQlunc_yaml_inputs\u001b[0m\u001b[1;33m[\u001b[0m\u001b[1;34m'Components'\u001b[0m\u001b[1;33m]\u001b[0m\u001b[1;33m[\u001b[0m\u001b[1;34m'Scanner'\u001b[0m\u001b[1;33m]\u001b[0m\u001b[1;33m[\u001b[0m\u001b[1;34m'Psi'\u001b[0m\u001b[1;33m]\u001b[0m\u001b[1;33m,\u001b[0m   \u001b[1;31m# Azimuth in [degrees]\u001b[0m\u001b[1;33m\u001b[0m\u001b[1;33m\u001b[0m\u001b[0m\n\u001b[0m\u001b[0;32m     83\u001b[0m                             \u001b[0mfocus_dist\u001b[0m      \u001b[1;33m=\u001b[0m \u001b[0mQlunc_yaml_inputs\u001b[0m\u001b[1;33m[\u001b[0m\u001b[1;34m'Components'\u001b[0m\u001b[1;33m]\u001b[0m\u001b[1;33m[\u001b[0m\u001b[1;34m'Scanner'\u001b[0m\u001b[1;33m]\u001b[0m\u001b[1;33m[\u001b[0m\u001b[1;34m'Rho'\u001b[0m\u001b[1;33m]\u001b[0m\u001b[1;33m,\u001b[0m   \u001b[1;31m# Focus distance in [meters]\u001b[0m\u001b[1;33m\u001b[0m\u001b[1;33m\u001b[0m\u001b[0m\n\u001b[0;32m     84\u001b[0m                             \u001b[0mcone_angle\u001b[0m      \u001b[1;33m=\u001b[0m \u001b[0mQlunc_yaml_inputs\u001b[0m\u001b[1;33m[\u001b[0m\u001b[1;34m'Components'\u001b[0m\u001b[1;33m]\u001b[0m\u001b[1;33m[\u001b[0m\u001b[1;34m'Scanner'\u001b[0m\u001b[1;33m]\u001b[0m\u001b[1;33m[\u001b[0m\u001b[1;34m'Theta'\u001b[0m\u001b[1;33m]\u001b[0m\u001b[1;33m,\u001b[0m \u001b[1;31m# Elevation angle in [degrees]\u001b[0m\u001b[1;33m\u001b[0m\u001b[1;33m\u001b[0m\u001b[0m\n",
      "\u001b[1;31mNameError\u001b[0m: name 'Qlunc_yaml_inputs' is not defined"
     ]
    },
    {
     "name": "stdout",
     "output_type": "stream",
     "text": [
      "C:\\SWE_LOCAL\\GIT_Qlunc\n",
      "C:\\SWE_LOCAL\\GIT_Qlunc\n"
     ]
    },
    {
     "ename": "NameError",
     "evalue": "name 'Qlunc_yaml_inputs' is not defined",
     "output_type": "error",
     "traceback": [
      "\u001b[1;31m---------------------------------------------------------------------------\u001b[0m",
      "\u001b[1;31mNameError\u001b[0m                                 Traceback (most recent call last)",
      "\u001b[1;32mC:\\SWE_LOCAL\\GIT_Qlunc\\Tutorials\\Qlunc_Instantiate_Tutorial2_file_2.py\u001b[0m in \u001b[0;36m<module>\u001b[1;34m\u001b[0m\n\u001b[0;32m     80\u001b[0m                             \u001b[1;31m#                                        math.floor(Qlunc_yaml_inputs2['Components']['Scanner']['Pattern time']/Qlunc_yaml_inputs2['Components']['Scanner']['Single point measuring time'])))))[0],   # Cone angle in [degrees].\u001b[0m\u001b[1;33m\u001b[0m\u001b[1;33m\u001b[0m\u001b[1;33m\u001b[0m\u001b[0m\n\u001b[0;32m     81\u001b[0m \u001b[1;33m\u001b[0m\u001b[0m\n\u001b[1;32m---> 82\u001b[1;33m                             \u001b[0mazimuth\u001b[0m         \u001b[1;33m=\u001b[0m \u001b[0mQlunc_yaml_inputs\u001b[0m\u001b[1;33m[\u001b[0m\u001b[1;34m'Components'\u001b[0m\u001b[1;33m]\u001b[0m\u001b[1;33m[\u001b[0m\u001b[1;34m'Scanner'\u001b[0m\u001b[1;33m]\u001b[0m\u001b[1;33m[\u001b[0m\u001b[1;34m'Psi'\u001b[0m\u001b[1;33m]\u001b[0m\u001b[1;33m,\u001b[0m   \u001b[1;31m# Azimuth in [degrees]\u001b[0m\u001b[1;33m\u001b[0m\u001b[1;33m\u001b[0m\u001b[0m\n\u001b[0m\u001b[0;32m     83\u001b[0m                             \u001b[0mfocus_dist\u001b[0m      \u001b[1;33m=\u001b[0m \u001b[0mQlunc_yaml_inputs\u001b[0m\u001b[1;33m[\u001b[0m\u001b[1;34m'Components'\u001b[0m\u001b[1;33m]\u001b[0m\u001b[1;33m[\u001b[0m\u001b[1;34m'Scanner'\u001b[0m\u001b[1;33m]\u001b[0m\u001b[1;33m[\u001b[0m\u001b[1;34m'Rho'\u001b[0m\u001b[1;33m]\u001b[0m\u001b[1;33m,\u001b[0m   \u001b[1;31m# Focus distance in [meters]\u001b[0m\u001b[1;33m\u001b[0m\u001b[1;33m\u001b[0m\u001b[0m\n\u001b[0;32m     84\u001b[0m                             \u001b[0mcone_angle\u001b[0m      \u001b[1;33m=\u001b[0m \u001b[0mQlunc_yaml_inputs\u001b[0m\u001b[1;33m[\u001b[0m\u001b[1;34m'Components'\u001b[0m\u001b[1;33m]\u001b[0m\u001b[1;33m[\u001b[0m\u001b[1;34m'Scanner'\u001b[0m\u001b[1;33m]\u001b[0m\u001b[1;33m[\u001b[0m\u001b[1;34m'Theta'\u001b[0m\u001b[1;33m]\u001b[0m\u001b[1;33m,\u001b[0m \u001b[1;31m# Elevation angle in [degrees]\u001b[0m\u001b[1;33m\u001b[0m\u001b[1;33m\u001b[0m\u001b[0m\n",
      "\u001b[1;31mNameError\u001b[0m: name 'Qlunc_yaml_inputs' is not defined"
     ]
    }
   ],
   "source": [
    "%run -i ./Tutorials/Qlunc_Instantiate_Tutorial2_file_1.py\n",
    "%run -i ./Tutorials/Qlunc_Instantiate_Tutorial2_file_2.py"
   ]
  },
  {
   "cell_type": "markdown",
   "id": "deadly-briefs",
   "metadata": {},
   "source": [
    "### $V_{LOS}$  uncertainty estimation"
   ]
  },
  {
   "cell_type": "markdown",
   "id": "official-miracle",
   "metadata": {},
   "source": [
    "If we create one single lidar we can ask for the uncertainty in $V_{LOS}$ when using a specific measurement configuration. We do this using dot notation, icluding the data from the yaml file that corresponds to the lidar with which we want to sample the wind."
   ]
  },
  {
   "cell_type": "code",
   "execution_count": 5,
   "id": "comic-matrix",
   "metadata": {
    "scrolled": false
   },
   "outputs": [
    {
     "ename": "NameError",
     "evalue": "name 'Lidar' is not defined",
     "output_type": "error",
     "traceback": [
      "\u001b[1;31m---------------------------------------------------------------------------\u001b[0m",
      "\u001b[1;31mNameError\u001b[0m                                 Traceback (most recent call last)",
      "\u001b[1;32mC:\\SWE_LOCAL\\GIT_Qlunc\\Tutorials\\Qlunc_Instantiate_Tutorial2_file_2.py\u001b[0m in \u001b[0;36m<module>\u001b[1;34m\u001b[0m\n\u001b[1;32m----> 1\u001b[1;33m \u001b[0mU_VLOS_Caixa1\u001b[0m\u001b[1;33m=\u001b[0m\u001b[0mLidar\u001b[0m\u001b[1;33m.\u001b[0m\u001b[0mUncertainty\u001b[0m\u001b[1;33m(\u001b[0m\u001b[0mLidar\u001b[0m\u001b[1;33m,\u001b[0m \u001b[0mAtmospheric_Scenario\u001b[0m\u001b[1;33m,\u001b[0m\u001b[0mcts\u001b[0m\u001b[1;33m,\u001b[0m\u001b[0mQlunc_yaml_inputs1\u001b[0m\u001b[1;33m)\u001b[0m\u001b[1;33m\u001b[0m\u001b[1;33m\u001b[0m\u001b[0m\n\u001b[0m",
      "\u001b[1;31mNameError\u001b[0m: name 'Lidar' is not defined"
     ]
    }
   ],
   "source": [
    "U_VLOS_Caixa1=Lidar.Uncertainty(Lidar, Atmospheric_Scenario,cts,Qlunc_yaml_inputs1)\n"
   ]
  },
  {
   "cell_type": "code",
   "execution_count": null,
   "id": "rapid-murder",
   "metadata": {
    "scrolled": false
   },
   "outputs": [],
   "source": [
    "U_VLOS_Caixa2=Lidar.Uncertainty(Lidar, Atmospheric_Scenario,cts,Qlunc_yaml_inputs2)"
   ]
  },
  {
   "cell_type": "markdown",
   "id": "filled-liverpool",
   "metadata": {},
   "source": [
    "### $V_{h}$  uncertainty estimation"
   ]
  },
  {
   "cell_type": "markdown",
   "id": "adopted-still",
   "metadata": {},
   "source": [
    "When creating a lidar it is stored in the folder `Projects`, in the local repository, with the name provided by the user in the yaml file. In the case of this Tutorial we have created two lidars with names '**CaixaT1**' and '**CaixaT2**'. Different lidars can be saved at the same location. \n",
    "\n",
    "**Warning**: Be aware of the characteristics of each lidar and their measuring setup, when creating them. For example, if different correlation terms are used whe instantiating the lidars we want to compare or we change the scanning pattern, the framework will rise missleading results.\n",
    "\n",
    "Following the given notation below we can obtain the uncertainty in the horizontal velocity:"
   ]
  },
  {
   "cell_type": "code",
   "execution_count": null,
   "id": "established-temperature",
   "metadata": {},
   "outputs": [],
   "source": [
    "U_VH_Caixa1_Caixa2=Lidar.Uncertainty_Vh(Lidar, Atmospheric_Scenario,cts,Qlunc_yaml_inputs2,['CaixaT1','CaixaT2'])"
   ]
  },
  {
   "cell_type": "code",
   "execution_count": null,
   "id": "annual-latest",
   "metadata": {},
   "outputs": [],
   "source": []
  }
 ],
 "metadata": {
  "kernelspec": {
   "display_name": "Python 3",
   "language": "python",
   "name": "python3"
  },
  "language_info": {
   "codemirror_mode": {
    "name": "ipython",
    "version": 3
   },
   "file_extension": ".py",
   "mimetype": "text/x-python",
   "name": "python",
   "nbconvert_exporter": "python",
   "pygments_lexer": "ipython3",
   "version": "3.7.9"
  }
 },
 "nbformat": 4,
 "nbformat_minor": 5
}
