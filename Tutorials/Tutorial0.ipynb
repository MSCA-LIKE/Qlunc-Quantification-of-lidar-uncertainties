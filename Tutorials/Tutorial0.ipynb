{
 "cells": [
  {
   "cell_type": "markdown",
   "id": "contained-republic",
   "metadata": {
    "slideshow": {
     "slide_type": "slide"
    }
   },
   "source": [
    "# Qlunc's presentation"
   ]
  },
  {
   "cell_type": "markdown",
   "id": "expected-audio",
   "metadata": {
    "slideshow": {
     "slide_type": "slide"
    }
   },
   "source": [
    "Qlunc stands for **Q**uantification of **l**idar **unc**ertainty. It is stored as a public SWE [repository](https://github.com/SWE-UniStuttgart/Qlunc)\n",
    "\n",
    "Main Qlunc's structure:\n",
    "![Qlunc basic structure image](Tutorial_Images/Qlunc_GralStructure.JPG)"
   ]
  },
  {
   "cell_type": "markdown",
   "id": "expressed-equation",
   "metadata": {
    "slideshow": {
     "slide_type": "subslide"
    }
   },
   "source": [
    "## Installation\n",
    "\n",
    "1. Install [anaconda](https://anaconda.org/anaconda/conda)"
   ]
  },
  {
   "cell_type": "markdown",
   "id": "downtown-coaching",
   "metadata": {
    "slideshow": {
     "slide_type": "fragment"
    }
   },
   "source": [
    "2. Download or [clone](https://github.com/SWE-UniStuttgart/Qlunc.git) Qlunc´s repository"
   ]
  },
  {
   "cell_type": "markdown",
   "id": "broadband-grain",
   "metadata": {
    "slideshow": {
     "slide_type": "fragment"
    }
   },
   "source": [
    "3. Create an environment and install dependencies. Dependencies list is in the repository. Environment yaml.\n",
    "\n",
    "Anaconda prompt:\n",
    "\n",
    "> conda env create -f environment.yml\n",
    "\n",
    "> conda activate <environment name> (by default Qlunc_Env)\n",
    "    \n",
    "\n",
    "    "
   ]
  },
  {
   "cell_type": "markdown",
   "id": "blind-columbus",
   "metadata": {
    "slideshow": {
     "slide_type": "slide"
    }
   },
   "source": [
    "## Creating objects as python classes (*Qlunc_Classes.py*)\n",
    "The goal is to create a lidar digital twin to assess the uncertainty of an actual one, before it is built. First we create the lidar components by using python classes. We give some parameter values to these classes, characterizing the components, inculding a function (`uncertainty`), which computes the uncertainty of each \"object\" . For instance, you might want to create three components with some characteristics defining them and a fucntion describing each one's uncertainty:"
   ]
  },
  {
   "cell_type": "code",
   "execution_count": 1,
   "id": "eleven-identification",
   "metadata": {
    "slideshow": {
     "slide_type": "fragment"
    }
   },
   "outputs": [],
   "source": [
    "# Component 1:\n",
    "class component1():\n",
    "    def __init__(self, name, param1, param2, comp1_uncertainty):\n",
    "        self.name              = name\n",
    "        self.param1            = param1\n",
    "        self.param2            = param2\n",
    "        self.uncertainty       = comp1_uncertainty # python module computing uncertainty of componentA. Defined by the user.\n",
    "\n",
    "# Component 2:\n",
    "class component2():\n",
    "    def __init__(self, name, param1, param2, comp2_uncertainty):\n",
    "        self.name              = name\n",
    "        self.param1            = param1\n",
    "        self.param2            = param2\n",
    "        self.uncertainty       = comp2_uncertainty # python module computing uncertainty of componentB. Defined by the user.\n",
    "\n",
    "# Component 3:\n",
    "class component3():\n",
    "    def __init__(self, name, param1, param2,param3 ,comp3_uncertainty):\n",
    "        self.name              = name\n",
    "        self.param1            = param1\n",
    "        self.param2            = param2\n",
    "        self.param3            = param3\n",
    "        self.uncertainty       = comp3_uncertainty # python module computing uncertainty of componentC. Defined by the user."
   ]
  },
  {
   "cell_type": "markdown",
   "id": "satellite-powell",
   "metadata": {
    "slideshow": {
     "slide_type": "fragment"
    }
   },
   "source": [
    "Then, this \"virtual objects\", representing the actual lidar components, are encapsulated into another python class representing the actual lidar module. So, having the components we can create 2 different modules; `module1` and `module2`, each of them containing two and one of the components created above, respectively. They also contain a uncertainty function which computes uncertainty expansion among the lidar components we include in the module.\n"
   ]
  },
  {
   "cell_type": "code",
   "execution_count": 2,
   "id": "touched-processing",
   "metadata": {
    "slideshow": {
     "slide_type": "fragment"
    }
   },
   "outputs": [],
   "source": [
    "# Module 1:\n",
    "class module1():\n",
    "    def __init__(self,name,component1,component2,mod1_uncertainty):\n",
    "        self.name             = name\n",
    "        self.component1       = Component1 # here should have the name of the component instance\n",
    "        self.component2       = Component2 # here should have the name of the component instance\n",
    "        self.uncertainty      = mod1_uncertainty # python module computing uncertainty of module1. Defined by the user.\n",
    "\n",
    "# Module 2:\n",
    "class module2():\n",
    "    def __init__(self,name,component1,mod2_uncertainty):\n",
    "        self.name             = name\n",
    "        self.component1       = Component3 # here should have the name of the component instance\n",
    "        self.uncertainty      = mod2_uncertainty # python module computing uncertainty of module2. Defined by the user. GUM"
   ]
  },
  {
   "cell_type": "markdown",
   "id": "prepared-voluntary",
   "metadata": {
    "slideshow": {
     "slide_type": "subslide"
    }
   },
   "source": [
    "Once the modules are built up, we can encapsulate them into the lidar class, representing the lidar device:"
   ]
  },
  {
   "cell_type": "code",
   "execution_count": 3,
   "id": "other-porter",
   "metadata": {
    "slideshow": {
     "slide_type": "subslide"
    }
   },
   "outputs": [],
   "source": [
    "# Lidar object:\n",
    "class lidar():\n",
    "    def __init__(self, name,module1, module2, lidar_uncertainty):\n",
    "        self.name        = name\n",
    "        self.module1     = module1 # here should have the name of the module instance\n",
    "        self.module2     = module2 # here should have the name of the module instance\n",
    "        self.uncertainty = lidar_uncertainty # python module computing uncertainty of lidar device. Defined by the user. GUM"
   ]
  },
  {
   "cell_type": "markdown",
   "id": "genetic-wilderness",
   "metadata": {
    "slideshow": {
     "slide_type": "slide"
    }
   },
   "source": [
    "## **Instantianting process (*Qlunc_Instantiate.py*)\n",
    "We've created so far an empty structure of a lidar. Now we fill in the components, modules and the lidar itself by giving values to the variables and instantiating the corresponding classes.\n",
    "\n",
    "All the parameters values are inputted through a yaml file (*Qlunc_inputs.yml*). We do this manually here to show the process:\n",
    "### Components\n",
    "We create 3 lidar components with different amount of parameters each and their corresponding uncertainty functions."
   ]
  },
  {
   "cell_type": "code",
   "execution_count": 4,
   "id": "expressed-rolling",
   "metadata": {
    "slideshow": {
     "slide_type": "subslide"
    }
   },
   "outputs": [],
   "source": [
    "Component1 = component1(name              = 'Comp1',\n",
    "                        param1            = 'Comp1_parameter1',\n",
    "                        param2            = 'Comp1_parameter2',\n",
    "                        comp1_uncertainty = 'Comp1_unc_func')\n",
    "\n",
    "Component2 = component2(name              = 'Comp2',\n",
    "                        param1            = 'Comp2_parameter1',\n",
    "                        param2            = 'Comp2_parameter2',\n",
    "                        comp2_uncertainty = 'unc_func_Comp2')\n",
    "\n",
    "Component3 = component3(name              = 'Comp3',\n",
    "                        param1            = 'Comp3_parameter1',\n",
    "                        param2            = 'Comp3_parameter2',\n",
    "                        param3            = 'Comp3_parameter3',\n",
    "                        comp3_uncertainty = 'Comp3_unc_func')"
   ]
  },
  {
   "cell_type": "markdown",
   "id": "fossil-presentation",
   "metadata": {},
   "source": [
    "We can access components characteristics by using dot notation"
   ]
  },
  {
   "cell_type": "code",
   "execution_count": 5,
   "id": "casual-template",
   "metadata": {
    "slideshow": {
     "slide_type": "subslide"
    }
   },
   "outputs": [
    {
     "name": "stdout",
     "output_type": "stream",
     "text": [
      "Comp1\n",
      "Comp1_parameter1\n",
      "Comp2_parameter2\n",
      "Comp3_unc_func\n"
     ]
    }
   ],
   "source": [
    "print(Component1.name)\n",
    "print(Component1.param1)\n",
    "print(Component2.param2)\n",
    "print(Component3.uncertainty)\n"
   ]
  },
  {
   "cell_type": "markdown",
   "id": "continued-modem",
   "metadata": {
    "slideshow": {
     "slide_type": "subslide"
    }
   },
   "source": [
    "### Modules\n",
    "Now we gather the components in their corresponding modules. Here `Component1` and `Component2` correspond to `Module1`, and `Component3` is part of the `Module2`:"
   ]
  },
  {
   "cell_type": "code",
   "execution_count": 6,
   "id": "bronze-adoption",
   "metadata": {
    "slideshow": {
     "slide_type": "subslide"
    }
   },
   "outputs": [],
   "source": [
    "Module1 = module1(name             = 'Mod1',\n",
    "                  component1       = Component1,\n",
    "                  component2       = Component2,\n",
    "                  mod1_uncertainty ='Mod1_unc_func')\n",
    "Module2 = module2(name             = 'Mod2',\n",
    "                component1         = Component3,\n",
    "                mod2_uncertainty   = 'Mod2_unc_func')"
   ]
  },
  {
   "cell_type": "code",
   "execution_count": 7,
   "id": "through-electricity",
   "metadata": {
    "slideshow": {
     "slide_type": "fragment"
    }
   },
   "outputs": [
    {
     "name": "stdout",
     "output_type": "stream",
     "text": [
      "Comp1_parameter1\n",
      "Comp3_parameter3\n"
     ]
    }
   ],
   "source": [
    "print(Module1.component1.param1)\n",
    "print(Module2.component1.param3)"
   ]
  },
  {
   "cell_type": "markdown",
   "id": "gorgeous-minute",
   "metadata": {
    "slideshow": {
     "slide_type": "subslide"
    }
   },
   "source": [
    "### Lidar"
   ]
  },
  {
   "cell_type": "code",
   "execution_count": 8,
   "id": "corresponding-repository",
   "metadata": {
    "slideshow": {
     "slide_type": "subslide"
    }
   },
   "outputs": [],
   "source": [
    "Lidar= lidar(name='Caixa1',module1=Module1,module2=Module2,lidar_uncertainty='Lidar_unc_func')"
   ]
  },
  {
   "cell_type": "code",
   "execution_count": 9,
   "id": "approximate-requirement",
   "metadata": {
    "slideshow": {
     "slide_type": "subslide"
    }
   },
   "outputs": [
    {
     "name": "stdout",
     "output_type": "stream",
     "text": [
      "Lidar_unc_func\n"
     ]
    }
   ],
   "source": [
    "print(Lidar.uncertainty)"
   ]
  },
  {
   "cell_type": "markdown",
   "id": "recent-crystal",
   "metadata": {
    "slideshow": {
     "slide_type": "slide"
    }
   },
   "source": [
    "## **How do we compute uncertainties**\n",
    "For each lidar component, a research through literature has provide the methods leading to noise in the signal added by the different processes in the photodetector. Resources about applied methods can be found in the metadata. \n",
    "The model applies a MC to calculate the error in pointing accuracy due to uncertatinty in the parameters of the scanning system. These uncertainties are provided by the manufacture in terms of standars deviations."
   ]
  },
  {
   "cell_type": "markdown",
   "id": "primary-colonial",
   "metadata": {
    "slideshow": {
     "slide_type": "subslide"
    }
   },
   "source": [
    "![Uncertainty chain](Tutorial_Images/FlowChartUnc.JPG)"
   ]
  },
  {
   "cell_type": "markdown",
   "id": "continued-liberia",
   "metadata": {
    "slideshow": {
     "slide_type": "subslide"
    }
   },
   "source": [
    "Qlunc contains a python module to specifically import the needed packages and python libraries"
   ]
  },
  {
   "cell_type": "code",
   "execution_count": 10,
   "id": "thousand-blond",
   "metadata": {
    "slideshow": {
     "slide_type": "fragment"
    }
   },
   "outputs": [],
   "source": [
    "import os\n",
    "# Importmodules\n",
    "os.chdir('../Utils')\n",
    "from Qlunc_ImportModules import *"
   ]
  },
  {
   "cell_type": "markdown",
   "id": "worse-method",
   "metadata": {
    "slideshow": {
     "slide_type": "subslide"
    }
   },
   "source": [
    "### **Scanner  (VAD)**\n",
    "The method to calculate the distance error in pointing accuracy is based on a MonteCaro simulation. The method applies a zero mean gaussian noise over each point in the pattern, with stdv specified by the user (`stdv_focus_dist`,`stdv_cone_angle` and `stdv_azimuth`). The method also accounts for inclinometers error.\n",
    "\n",
    "#### Scanner parameters"
   ]
  },
  {
   "cell_type": "code",
   "execution_count": 11,
   "id": "persistent-supervision",
   "metadata": {
    "slideshow": {
     "slide_type": "subslide"
    }
   },
   "outputs": [],
   "source": [
    "Lidar_origin=[0,0,0]\n",
    "sample_rate_count=0\n",
    "azimuth=np.linspace(1,360,15)\n",
    "focus_dist=[40]*len(azimuth)\n",
    "cone_angle=[20]*len(azimuth)"
   ]
  },
  {
   "cell_type": "markdown",
   "id": "prostate-eagle",
   "metadata": {
    "slideshow": {
     "slide_type": "subslide"
    }
   },
   "source": [
    "#### Standard deviation values"
   ]
  },
  {
   "cell_type": "code",
   "execution_count": 12,
   "id": "imported-above",
   "metadata": {
    "slideshow": {
     "slide_type": "subslide"
    }
   },
   "outputs": [],
   "source": [
    "stdv_azimuth    = 0.4\n",
    "stdv_cone_angle = 0.5\n",
    "stdv_focus_dist = 0.8"
   ]
  },
  {
   "cell_type": "markdown",
   "id": "gothic-correspondence",
   "metadata": {
    "slideshow": {
     "slide_type": "subslide"
    }
   },
   "source": [
    "#### Initial definitions"
   ]
  },
  {
   "cell_type": "code",
   "execution_count": 13,
   "id": "guilty-graph",
   "metadata": {
    "slideshow": {
     "slide_type": "subslide"
    }
   },
   "outputs": [],
   "source": [
    "Distance      = []\n",
    "X             = []\n",
    "Y             = []\n",
    "Z             = []\n",
    "X0            = []\n",
    "Y0            = []\n",
    "Z0            = []\n",
    "NoisyX        = []\n",
    "NoisyY        = []\n",
    "NoisyZ        = []\n",
    "Mean_Distance = []\n",
    "Stdv_Distance = []"
   ]
  },
  {
   "cell_type": "markdown",
   "id": "chief-jewelry",
   "metadata": {
    "slideshow": {
     "slide_type": "subslide"
    }
   },
   "source": [
    "#### Adding noise to the theoretical position:\n",
    "To perform the MonteCarlo simulation the method uses 10.000 samples. For each point in the pattern 10.000 combinations are computed and stored in the variable `Distance`"
   ]
  },
  {
   "cell_type": "code",
   "execution_count": 14,
   "id": "intimate-conservative",
   "metadata": {
    "slideshow": {
     "slide_type": "subslide"
    }
   },
   "outputs": [
    {
     "data": {
      "text/plain": [
       "15"
      ]
     },
     "execution_count": 14,
     "metadata": {},
     "output_type": "execute_result"
    }
   ],
   "source": [
    "n=10000 # Number of cases to combine\n",
    "counter=0 # Counter --> for each point in the pattern\n",
    "for focus_dist_or,cone_angle_or,azimuth_or in zip(focus_dist,cone_angle,azimuth):\n",
    "    \n",
    "    # Create the noise based on the standard deviation of the pointing accuracy parameters of the scanner.\n",
    "    del_focus_dist = np.array(np.random.normal(0,stdv_focus_dist,n)) \n",
    "    del_cone_angle = np.array(np.random.normal(0,stdv_cone_angle,n))\n",
    "    del_azimuth= np.array(np.random.normal(0,stdv_azimuth,n))\n",
    "    \n",
    "    # Add noise to te coordinates separately\n",
    "    noisy_focus_dist = focus_dist_or + del_focus_dist\n",
    "    noisy_cone_angle = cone_angle_or + del_cone_angle \n",
    "    noisy_azimuth    = azimuth_or    + del_azimuth\n",
    "    \n",
    "    # Transform to euclidean.\n",
    "    \n",
    "    # Euclidean coordinates of the theoretical measuring points\n",
    "    x0 = (focus_dist_or)*np.cos(np.deg2rad(azimuth_or))*np.sin(np.deg2rad(cone_angle_or)) + Lidar_origin[0]\n",
    "    y0 = (focus_dist_or)*np.sin(np.deg2rad(azimuth_or))*np.sin(np.deg2rad(cone_angle_or)) + Lidar_origin[1]\n",
    "    z0 = (focus_dist_or)*np.cos(np.deg2rad(cone_angle_or))+ Lidar_origin[2] + sample_rate_count\n",
    "\n",
    "    \n",
    "    # Euclidean coordinates of the noisy points:            \n",
    "    x = noisy_focus_dist*np.cos(np.deg2rad(noisy_azimuth))*np.sin(np.deg2rad(noisy_cone_angle))\n",
    "    y = noisy_focus_dist*np.sin(np.deg2rad(noisy_azimuth))*np.sin(np.deg2rad(noisy_cone_angle) )\n",
    "    z = noisy_focus_dist*np.cos(np.deg2rad(noisy_cone_angle))+ sample_rate_count\n",
    "\n",
    "    # Distance between theoretical and actual mesuring points.\n",
    "    Distance.append(np.sqrt((x-x0)**2+(y-y0)**2)+(z-z0)**2)\n",
    "    Mean_Distance.append(np.mean(Distance))\n",
    "    Stdv_Distance.append(np.std(Distance))\n",
    "    \n",
    "    # Storing coordinates:\n",
    "    X0.append(x0)\n",
    "    Y0.append(y0)\n",
    "    Z0.append(z0)\n",
    "    X.append(x)\n",
    "    Y.append(y)\n",
    "    Z.append(z)\n",
    "    NoisyX.append(X[counter][0])\n",
    "    NoisyY.append(Y[counter][0])\n",
    "    NoisyZ.append(Z[counter][0])\n",
    "    counter+=1\n",
    "\n",
    "Noisy_Coord=[NoisyX,NoisyY,NoisyZ]\n",
    "Coord=[X0,Y0,Z0]\n",
    "len(Mean_Distance)"
   ]
  },
  {
   "cell_type": "code",
   "execution_count": 15,
   "id": "alien-channel",
   "metadata": {
    "slideshow": {
     "slide_type": "subslide"
    }
   },
   "outputs": [
    {
     "name": "stdout",
     "output_type": "stream",
     "text": [
      "Mean Distance[m] = [0.9466924949295903, 0.9514359348551963, 0.9501362060444498, 0.950442762531699, 0.9508139113044449, 0.9475849984533701, 0.9465512031898705, 0.946408172691232, 0.9443335997520083, 0.9435989572992122, 0.9438259802022694, 0.9434350313408358, 0.944589870167603, 0.9449523070247534, 0.9444088703909325]\n"
     ]
    }
   ],
   "source": [
    "print('Mean Distance[m] = ' + str(Mean_Distance))"
   ]
  },
  {
   "cell_type": "code",
   "execution_count": 16,
   "id": "apart-initial",
   "metadata": {
    "slideshow": {
     "slide_type": "subslide"
    }
   },
   "outputs": [
    {
     "name": "stdout",
     "output_type": "stream",
     "text": [
      "STDV Distance[m] = [0.9245281617881584, 0.928113069706381, 0.925445837562192, 0.9251560504154879, 0.924915660821271, 0.9214792292136292, 0.9174893422040239, 0.9166053996594344, 0.91285968459256, 0.9122237916745203, 0.9114811608220535, 0.9118014261164015, 0.9128810901390628, 0.9143161629860619, 0.9130610485917631]\n"
     ]
    }
   ],
   "source": [
    "print('STDV Distance[m] = ' +str(Stdv_Distance))"
   ]
  },
  {
   "cell_type": "code",
   "execution_count": 17,
   "id": "likely-insert",
   "metadata": {
    "slideshow": {
     "slide_type": "subslide"
    }
   },
   "outputs": [
    {
     "data": {
      "text/plain": [
       "<matplotlib.legend.Legend at 0x22a64e18308>"
      ]
     },
     "execution_count": 17,
     "metadata": {},
     "output_type": "execute_result"
    },
    {
     "data": {
      "image/png": "[encoded data removed]",
      "text/plain": [
       "<Figure size 576x576 with 1 Axes>"
      ]
     },
     "metadata": {
      "needs_background": "light"
     },
     "output_type": "display_data"
    }
   ],
   "source": [
    "## Ploting:\n",
    "fig,axs4 = plt.subplots(figsize=(8,8))  \n",
    "axs4=plt.axes(projection='3d')\n",
    "axs4.plot(Lidar_origin[0],Lidar_origin[1],Lidar_origin[2],'go',markersize=15,label='{} coordinates [{},{},{}]'.format('Lidar',Lidar_origin[0],Lidar_origin[1],Lidar_origin[2]))\n",
    "axs4.plot(X0,Y0,Z0,'bo',label='Theoretical measuring point')\n",
    "axs4.plot(NoisyX,NoisyY,NoisyZ,'ro',label='Actual measuring point')\n",
    "axs4.set_xlim3d(-35,35)\n",
    "axs4.set_ylim3d(-35,35)\n",
    "axs4.set_zlim3d(-5,45)\n",
    "\n",
    "axs4.set_xlabel('x [m]',fontsize=34)#,orientation=plot_param['tick_labelrotation'])\n",
    "axs4.set_ylabel('y [m]',fontsize=34)#,orientation=plot_param['tick_labelrotation'])\n",
    "axs4.set_zlabel('z [m]',fontsize=34)        \n",
    "axs4.set_title('Lidar pointing accuracy (VAD)',fontsize=45)\n",
    "axs4.legend()"
   ]
  },
  {
   "cell_type": "code",
   "execution_count": 18,
   "id": "opposite-french",
   "metadata": {
    "scrolled": true,
    "slideshow": {
     "slide_type": "subslide"
    }
   },
   "outputs": [
    {
     "name": "stdout",
     "output_type": "stream",
     "text": [
      "[13.678722080049138, 12.228164971172232, 8.368881298364348, 2.861079901001844, -3.210302309615872, -8.649313230702365, -12.384566426270109, -13.680284809864768, -12.281235376591823, -8.463005472722905, -2.9777170902598216, 3.0941275148326746, 8.556485156448856, 12.333370518388746, 13.680805733026748]\n",
      "15\n",
      "[array([13.57618315, 13.46890249, 13.51140512, ..., 13.10779   ,\n",
      "       13.14238412, 14.37549293]), array([12.43053507, 11.97504253, 12.00452388, ..., 12.11149191,\n",
      "       12.39150095, 11.97067535]), array([7.98899232, 7.63325406, 8.10969784, ..., 7.95696029, 8.51285489,\n",
      "       8.14206523]), array([2.76247744, 2.81386423, 2.6604731 , ..., 2.74113058, 3.00128506,\n",
      "       2.86344524]), array([-3.27872345, -3.32960063, -3.49419454, ..., -3.29326772,\n",
      "       -2.93024048, -3.28593703]), array([-8.40709481, -9.26666285, -8.90368178, ..., -9.12698298,\n",
      "       -8.68894013, -8.7134088 ]), array([-12.87294229, -12.51626477, -12.17742365, ..., -11.72409879,\n",
      "       -13.08896096, -12.93277672]), array([-14.00073608, -14.47071628, -13.6650286 , ..., -13.81629367,\n",
      "       -13.39174458, -13.7692177 ]), array([-12.18011714, -12.13590241, -12.57454232, ..., -12.10526065,\n",
      "       -12.12280701, -11.9510737 ]), array([-8.10314558, -8.83523605, -8.70911366, ..., -9.07762931,\n",
      "       -8.39366195, -8.64765219]), array([-2.84508331, -2.82584726, -2.97038716, ..., -2.89396486,\n",
      "       -3.17085907, -3.01002857]), array([3.13888922, 3.13646178, 3.02676722, ..., 3.24937548, 3.04951216,\n",
      "       3.16156681]), array([8.36132597, 8.58435932, 8.71895755, ..., 8.44511339, 8.85584936,\n",
      "       8.51816506]), array([12.6995143 , 12.54727246, 12.31834761, ..., 11.7118643 ,\n",
      "       12.01766333, 12.3796044 ]), array([13.95390706, 13.67175267, 13.70264043, ..., 13.68174452,\n",
      "       13.75401174, 13.35215641])]\n",
      "10000\n"
     ]
    }
   ],
   "source": [
    "print(X0)\n",
    "print(len(X0))\n",
    "print(X)\n",
    "print(len(X[0]))"
   ]
  },
  {
   "cell_type": "markdown",
   "id": "nutritional-porter",
   "metadata": {
    "slideshow": {
     "slide_type": "subslide"
    }
   },
   "source": [
    "### **Photodetector**\n",
    "\n",
    "#### Input parameters"
   ]
  },
  {
   "cell_type": "code",
   "execution_count": 19,
   "id": "institutional-spanish",
   "metadata": {
    "slideshow": {
     "slide_type": "subslide"
    }
   },
   "outputs": [],
   "source": [
    "# Physical constants:\n",
    "k = 1.38064852e-23 # Boltzman constant:[m^2 kg s^-2 K^-1]\n",
    "h = 6.6207004e-34 # Plank constant [m^2 kg s^-1]\n",
    "e = 1.60217662e-19 # electron charge [C]\n",
    "c = 2.99792e8 #speed of light [m s^-1]\n",
    "# Atmospheric temperature\n",
    "Temperature=300\n",
    "\n",
    "# Photodetector parameters\n",
    "name             = 'Photodetector1'  # Introduce your photodetector name.\n",
    "Wavelength       = 1550.e-9          # Lidar woking wavelength\n",
    "Photo_BandWidth  = 380.e+9           # Photodetector bandwidth\n",
    "Load_Resistor    = 50                # [ohms]\n",
    "Photo_efficiency = .85               # Photodetector efficiency [-]\n",
    "Dark_Current     = 5e-9              # [A]. Dark current in the photodetector.\n",
    "Photo_SignalP    = 1e-6\n",
    "Power_interval   = np.linspace(0,1000,100000) # In [w]. Power interval for the photodetector domain in photodetector SNR plot. \n",
    "\n",
    "#unc_func         = uphc.UQ_Photodetector # Function describing Photodetector uncertainty. Further informaion in \"UQ_Photonics_Classes.py\" comments.\n",
    "\n",
    "# Responsivity [A/W]\n",
    "R = Photo_efficiency*e*Wavelength/(h*c)\n"
   ]
  },
  {
   "cell_type": "markdown",
   "id": "south-cricket",
   "metadata": {
    "slideshow": {
     "slide_type": "subslide"
    }
   },
   "source": [
    "#### Thermal noise"
   ]
  },
  {
   "cell_type": "code",
   "execution_count": 20,
   "id": "forced-berry",
   "metadata": {
    "slideshow": {
     "slide_type": "subslide"
    }
   },
   "outputs": [
    {
     "name": "stdout",
     "output_type": "stream",
     "text": [
      "Thermal_noise[w] = 1.2591514502399997e-10\n",
      "Thermal_noise[dB] = -98.99922029981319\n"
     ]
    },
    {
     "name": "stderr",
     "output_type": "stream",
     "text": [
      "C:\\Users\\fcosta\\AppData\\Local\\Continuum\\anaconda3\\envs\\QluncEnv\\lib\\site-packages\\ipykernel_launcher.py:3: RuntimeWarning: divide by zero encountered in log10\n",
      "  This is separate from the ipykernel package so we can avoid doing imports until\n"
     ]
    }
   ],
   "source": [
    "# SNR \n",
    "SNR_thermal_w      = [((R**2)/(4*k*Temperature*Photo_BandWidth/Load_Resistor))*(Power_interval/1000)**2] # SNR  watts\n",
    "SNR_thermal     = [10*np.log10(SNR_thermal_w)][0]# SNR  dB\n",
    "# Noise\n",
    "Thermal_noise_w=4*k*Temperature*Photo_BandWidth/Load_Resistor\n",
    "Thermal_noise_dB=10*np.log10(Thermal_noise_w)\n",
    "\n",
    "print('Thermal_noise[w] = '+ str(Thermal_noise_w))\n",
    "print('Thermal_noise[dB] = '+ str(Thermal_noise_dB))"
   ]
  },
  {
   "cell_type": "markdown",
   "id": "desperate-causing",
   "metadata": {
    "slideshow": {
     "slide_type": "subslide"
    }
   },
   "source": [
    "#### Shot noise"
   ]
  },
  {
   "cell_type": "code",
   "execution_count": 21,
   "id": "grand-hello",
   "metadata": {
    "slideshow": {
     "slide_type": "subslide"
    }
   },
   "outputs": [
    {
     "name": "stdout",
     "output_type": "stream",
     "text": [
      "Shot_noise[w] = 6.088271156e-16\n",
      "Shot_noise[dB] = -152.15506013443118\n"
     ]
    },
    {
     "name": "stderr",
     "output_type": "stream",
     "text": [
      "C:\\Users\\fcosta\\AppData\\Local\\Continuum\\anaconda3\\envs\\QluncEnv\\lib\\site-packages\\ipykernel_launcher.py:3: RuntimeWarning: divide by zero encountered in log10\n",
      "  This is separate from the ipykernel package so we can avoid doing imports until\n"
     ]
    }
   ],
   "source": [
    "#SNR\n",
    "SNR_shot_w  = [((R**2)/(2*e*R*Photo_BandWidth))*(Power_interval)/1000]\n",
    "SNR_shot    = [10*np.log10(SNR_shot_w )][0]\n",
    "\n",
    "#Noise\n",
    "Shot_noise_w = 2*e*Dark_Current*Photo_BandWidth\n",
    "Shot_noise_dB = 10*np.log10(Shot_noise_w)\n",
    "\n",
    "print('Shot_noise[w] = '+ str(Shot_noise_w))\n",
    "print('Shot_noise[dB] = '+ str(Shot_noise_dB))"
   ]
  },
  {
   "cell_type": "markdown",
   "id": "authentic-highlight",
   "metadata": {
    "slideshow": {
     "slide_type": "subslide"
    }
   },
   "source": [
    "#### Dark Current noise"
   ]
  },
  {
   "cell_type": "code",
   "execution_count": 22,
   "id": "arabic-relationship",
   "metadata": {
    "scrolled": true,
    "slideshow": {
     "slide_type": "subslide"
    }
   },
   "outputs": [
    {
     "name": "stdout",
     "output_type": "stream",
     "text": [
      "DarkCurrent_Noise[w] = 6.088271156e-16\n",
      "DarkCurrent_Noise[dB] = -152.15506013443118\n"
     ]
    },
    {
     "name": "stderr",
     "output_type": "stream",
     "text": [
      "C:\\Users\\fcosta\\AppData\\Local\\Continuum\\anaconda3\\envs\\QluncEnv\\lib\\site-packages\\ipykernel_launcher.py:3: RuntimeWarning: divide by zero encountered in log10\n",
      "  This is separate from the ipykernel package so we can avoid doing imports until\n"
     ]
    }
   ],
   "source": [
    "#SNR\n",
    "SNR_DarkCurrent_w  = [((R**2)/(2*e*Dark_Current*Photo_BandWidth))*(Power_interval/1000)**2]\n",
    "SNR_DarkCurrent = [10*np.log10(SNR_DarkCurrent_w)][0]\n",
    "\n",
    "#Noise\n",
    "Dark_current_noise_w = 2*e*Dark_Current*Photo_BandWidth\n",
    "Dark_current_noise_dB = 10*np.log10(Dark_current_noise_w)\n",
    "\n",
    "print('DarkCurrent_Noise[w] = '+ str(Dark_current_noise_w))\n",
    "print('DarkCurrent_Noise[dB] = '+ str(Dark_current_noise_dB))"
   ]
  },
  {
   "cell_type": "markdown",
   "id": "noble-header",
   "metadata": {
    "slideshow": {
     "slide_type": "subslide"
    }
   },
   "source": [
    "### Combining uncertainties in the photodetector:\n",
    "To combine this uncertainties we use GUM"
   ]
  },
  {
   "cell_type": "code",
   "execution_count": 23,
   "id": "split-thanksgiving",
   "metadata": {
    "slideshow": {
     "slide_type": "subslide"
    }
   },
   "outputs": [
    {
     "name": "stdout",
     "output_type": "stream",
     "text": [
      "Photodetector_comb[w] = 1.2591514502694378e-10\n",
      "Photodetector_comb[dB] = -98.99922029971165\n"
     ]
    }
   ],
   "source": [
    "Photodetector_comb_w  = np.sqrt((Thermal_noise_w)**2+(Shot_noise_w)**2+(Dark_current_noise_w)**2)\n",
    "Photodetector_comb_dB = 10*np.log10(Photodetector_comb_w)  #[dB]\n",
    "\n",
    "print('Photodetector_comb[w] = '+ str(Photodetector_comb_w))\n",
    "print('Photodetector_comb[dB] = '+ str(Photodetector_comb_dB))"
   ]
  },
  {
   "cell_type": "markdown",
   "id": "instant-intake",
   "metadata": {
    "slideshow": {
     "slide_type": "subslide"
    }
   },
   "source": [
    "### **Optical amplifier**\n",
    "Optical amplifier noise is dominated and, therefore characterized by the amplified spontaneous emission (ASE)"
   ]
  },
  {
   "cell_type": "markdown",
   "id": "warming-lincoln",
   "metadata": {
    "slideshow": {
     "slide_type": "subslide"
    }
   },
   "source": [
    "Input parameters:"
   ]
  },
  {
   "cell_type": "code",
   "execution_count": 24,
   "id": "million-offset",
   "metadata": {
    "slideshow": {
     "slide_type": "subslide"
    }
   },
   "outputs": [],
   "source": [
    "FigureNoise = 1 # Degradation of the SNR in dB. Given by the manufature\n",
    "OA_Gain     = 30 #dB"
   ]
  },
  {
   "cell_type": "markdown",
   "id": "prescribed-genius",
   "metadata": {
    "slideshow": {
     "slide_type": "subslide"
    }
   },
   "source": [
    "Optical amplifier noise estimation:"
   ]
  },
  {
   "cell_type": "code",
   "execution_count": 25,
   "id": "chronic-understanding",
   "metadata": {
    "slideshow": {
     "slide_type": "subslide"
    }
   },
   "outputs": [
    {
     "name": "stdout",
     "output_type": "stream",
     "text": [
      "Optical_amplifier_noise[w] = 1.6121011096073779e-16\n",
      "Optical_amplifier_noise[dB] = -157.92607723097007\n"
     ]
    }
   ],
   "source": [
    "Optical_amplifier_noise_w  = np.array([((10**(FigureNoise/10))*h*(c/Wavelength)*10**(OA_Gain/10))]) # ASE noise --> (**Optics and Photonics) Bishnu P. Pal - Guided Wave Optical Components and Devices_ Basics, Technology, and Applications -Academic Press (2005)\n",
    "UQ_Optical_amplifier_noise_dB = np.array([10*np.log10((10**(FigureNoise/10))*h*(c/Wavelength)*10**(OA_Gain/10))]) # ASE noise --> (**Optics and Photonics) Bishnu P. Pal - Guided Wave Optical Components and Devices_ Basics, Technology, and Applications -Academic Press (2005)\n",
    "\n",
    "print('Optical_amplifier_noise[w] = '+ str(Optical_amplifier_noise_w[0]))\n",
    "print('Optical_amplifier_noise[dB] = '+ str(UQ_Optical_amplifier_noise_dB[0]))"
   ]
  },
  {
   "cell_type": "markdown",
   "id": "emerging-cassette",
   "metadata": {
    "slideshow": {
     "slide_type": "subslide"
    }
   },
   "source": [
    "### **Expanding uncertainties**\n",
    "Gum is applied to expand uncertainties and get global lidar uncertainty. The model combines noise from the different lidar modules and computes expanded uncertainty:"
   ]
  },
  {
   "cell_type": "code",
   "execution_count": 26,
   "id": "circular-renaissance",
   "metadata": {
    "slideshow": {
     "slide_type": "subslide"
    }
   },
   "outputs": [
    {
     "name": "stdout",
     "output_type": "stream",
     "text": [
      "Photonics_comb[w] = 1.2591514502704697e-10\n",
      "Photonics_comb[dB] = -98.9992202997081\n"
     ]
    }
   ],
   "source": [
    "Photonics_comb_w=np.sqrt((Photodetector_comb_w)**2+(Optical_amplifier_noise_w)**2)\n",
    "Photonics_comb_dB=10*np.log10(Photonics_comb_w)\n",
    "\n",
    "print('Photonics_comb[w] = '  + str(Photonics_comb_w[0]))\n",
    "print('Photonics_comb[dB] = ' + str(Photonics_comb_dB[0]))"
   ]
  },
  {
   "cell_type": "markdown",
   "id": "underlying-small",
   "metadata": {
    "slideshow": {
     "slide_type": "subslide"
    }
   },
   "source": [
    "### Plotting photodetector SNR"
   ]
  },
  {
   "cell_type": "code",
   "execution_count": 27,
   "id": "public-country",
   "metadata": {
    "slideshow": {
     "slide_type": "subslide"
    }
   },
   "outputs": [
    {
     "name": "stderr",
     "output_type": "stream",
     "text": [
      "C:\\Users\\fcosta\\AppData\\Local\\Continuum\\anaconda3\\envs\\QluncEnv\\lib\\site-packages\\ipykernel_launcher.py:3: RuntimeWarning: divide by zero encountered in log10\n",
      "  This is separate from the ipykernel package so we can avoid doing imports until\n",
      "C:\\Users\\fcosta\\AppData\\Local\\Continuum\\anaconda3\\envs\\QluncEnv\\lib\\site-packages\\ipykernel_launcher.py:4: RuntimeWarning: divide by zero encountered in log10\n",
      "  after removing the cwd from sys.path.\n",
      "C:\\Users\\fcosta\\AppData\\Local\\Continuum\\anaconda3\\envs\\QluncEnv\\lib\\site-packages\\ipykernel_launcher.py:5: RuntimeWarning: divide by zero encountered in log10\n",
      "  \"\"\"\n"
     ]
    },
    {
     "data": {
      "text/plain": [
       "<matplotlib.legend.Legend at 0x22a6536f308>"
      ]
     },
     "execution_count": 27,
     "metadata": {},
     "output_type": "execute_result"
    },
    {
     "data": {
      "image/png": "[encoded data removed]",
      "text/plain": [
       "<Figure size 720x432 with 1 Axes>"
      ]
     },
     "metadata": {
      "needs_background": "light"
     },
     "output_type": "display_data"
    }
   ],
   "source": [
    "plt.figure(figsize=(10,6)  )\n",
    "plt.grid(axis='both')\n",
    "plt.plot(10*np.log10(Power_interval),SNR_thermal[0],label='Thermal')\n",
    "plt.plot(10*np.log10(Power_interval),SNR_shot[0],label='Shot')\n",
    "plt.plot(10*np.log10(Power_interval),SNR_DarkCurrent[0],label='Dark current')\n",
    "plt.xlabel('Input Signal optical power [dBm]',fontsize=27)#,orientation=plot_param['tick_labelrotation'])\n",
    "plt.ylabel('SNR [dB]',fontsize=27)#,orientation=plot_param['tick_labelrotation'])\n",
    "plt.title('Lidar pointing accuracy (VAD)',fontsize=29)\n",
    "plt.legend()"
   ]
  },
  {
   "cell_type": "markdown",
   "id": "noticed-disabled",
   "metadata": {
    "slideshow": {
     "slide_type": "slide"
    }
   },
   "source": [
    "## Hosting Qlunc\n",
    "Provide a place for Qlunc's documentation"
   ]
  },
  {
   "cell_type": "markdown",
   "id": "annoying-contact",
   "metadata": {
    "slideshow": {
     "slide_type": "subslide"
    }
   },
   "source": [
    "![Sphinx4Qlunc](./Tutorial_Images/SphinxQlunc.PNG)"
   ]
  }
 ],
 "metadata": {
  "celltoolbar": "Slideshow",
  "kernelspec": {
   "display_name": "Python 3",
   "language": "python",
   "name": "python3"
  },
  "language_info": {
   "codemirror_mode": {
    "name": "ipython",
    "version": 3
   },
   "file_extension": ".py",
   "mimetype": "text/x-python",
   "name": "python",
   "nbconvert_exporter": "python",
   "pygments_lexer": "ipython3",
   "version": "3.7.9"
  }
 },
 "nbformat": 4,
 "nbformat_minor": 5
}
