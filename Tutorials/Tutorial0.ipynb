{
 "cells": [
  {
   "cell_type": "markdown",
   "id": "natural-shaft",
   "metadata": {},
   "source": [
    "# Qlunc's presentation"
   ]
  },
  {
   "cell_type": "markdown",
   "id": "differential-processing",
   "metadata": {},
   "source": [
    "Qlunc stands for **Q**uantification of **l**idar **unc**ertainty. It is stored as a public SWE [repository](https://github.com/SWE-UniStuttgart/Qlunc)."
   ]
  },
  {
   "cell_type": "markdown",
   "id": "amazing-gathering",
   "metadata": {},
   "source": [
    "1. Install [anaconda](https://anaconda.org/anaconda/conda)"
   ]
  },
  {
   "cell_type": "markdown",
   "id": "danish-facing",
   "metadata": {},
   "source": [
    "2. Download or [clone](https://github.com/SWE-UniStuttgart/Qlunc.git) Qlunc´s repository"
   ]
  },
  {
   "cell_type": "markdown",
   "id": "indian-world",
   "metadata": {},
   "source": [
    "3. Create an environment and install dependencies\n",
    "\n",
    "Anaconda prompt:\n",
    "\n",
    "> conda env create -f environment.yml\n",
    "\n",
    "> conda activate <environment name> (by default Qlunc_Env)\n",
    "    \n",
    "\n",
    "    "
   ]
  },
  {
   "cell_type": "markdown",
   "id": "major-chicken",
   "metadata": {},
   "source": [
    "## Creating objects as python classes (*Qlunc_Classes.py*)"
   ]
  },
  {
   "cell_type": "markdown",
   "id": "mobile-hungary",
   "metadata": {},
   "source": [
    "The goal is to create a lidar digital twin to assess the uncertainty of an actual one, before it is built. First we create the lidar components by using python classes. We give some parameter values to these classes, characterizing the components, inculding a function (`uncertainty`), which computes the uncertainty of each \"object\" . For instance, you might want to create three components with some characteristics defining them and a fucntion describing each one's uncertainty:"
   ]
  },
  {
   "cell_type": "code",
   "execution_count": 1,
   "id": "fundamental-bacteria",
   "metadata": {},
   "outputs": [],
   "source": [
    "# Component 1:\n",
    "class component1():\n",
    "    def __init__(self, name, param1, param2, comp1_uncertainty):\n",
    "        self.name              = name\n",
    "        self.param1            = param1\n",
    "        self.param2            = param2\n",
    "        self.uncertainty       = comp1_uncertainty # python module computing uncertainty of componentA. Defined by the user.\n",
    "\n",
    "# Component 2:\n",
    "class component2():\n",
    "    def __init__(self, name, param1, param2, comp2_uncertainty):\n",
    "        self.name              = name\n",
    "        self.param1            = param1\n",
    "        self.param2            = param2\n",
    "        self.uncertainty       = comp2_uncertainty # python module computing uncertainty of componentB. Defined by the user.\n",
    "\n",
    "# Component 3:\n",
    "class component3():\n",
    "    def __init__(self, name, param1, param2,param3 ,comp3_uncertainty):\n",
    "        self.name              = name\n",
    "        self.param1            = param1\n",
    "        self.param2            = param2\n",
    "        self.param3            = param3\n",
    "        self.uncertainty       = comp3_uncertainty # python module computing uncertainty of componentC. Defined by the user."
   ]
  },
  {
   "cell_type": "markdown",
   "id": "australian-professional",
   "metadata": {},
   "source": [
    "Then, this \"virtual objects\", representing the actual lidar components, are encapsulated into another python class representing the actual lidar module. So, having the components we can create 2 different modules; `module1` and `module2`, each of them containing two and one of the components created above, respectively. They also contain a uncertainty function which computes uncertainty expansion among the lidar components we include in the module.\n"
   ]
  },
  {
   "cell_type": "code",
   "execution_count": 2,
   "id": "economic-typing",
   "metadata": {},
   "outputs": [],
   "source": [
    "# Module 1:\n",
    "class module1():\n",
    "    def __init__(self,name,component1,component2,mod1_uncertainty):\n",
    "        self.name             = name\n",
    "        self.component1       = Component1 # here should have the name of the component instance\n",
    "        self.component2       = Component2 # here should have the name of the component instance\n",
    "        self.uncertainty      = mod1_uncertainty # python module computing uncertainty of module1. Defined by the user.\n",
    "\n",
    "# Module 2:\n",
    "class module2():\n",
    "    def __init__(self,name,component1,mod2_uncertainty):\n",
    "        self.name             = name\n",
    "        self.component1       = Component3 # here should have the name of the component instance\n",
    "        self.uncertainty      = mod2_uncertainty # python module computing uncertainty of module2. Defined by the user. GUM"
   ]
  },
  {
   "cell_type": "markdown",
   "id": "labeled-arrow",
   "metadata": {},
   "source": [
    "Once the modules are built up, we can encapsulate them into the lidar class, representing the lidar device:"
   ]
  },
  {
   "cell_type": "code",
   "execution_count": 3,
   "id": "blank-favor",
   "metadata": {},
   "outputs": [],
   "source": [
    "# Lidar object:\n",
    "class lidar():\n",
    "    def __init__(self, name,module1, module2, lidar_uncertainty):\n",
    "        self.name        = name\n",
    "        self.module1     = module1 # here should have the name of the module instance\n",
    "        self.module2     = module2 # here should have the name of the module instance\n",
    "        self.uncertainty = lidar_uncertainty # python module computing uncertainty of lidar device. Defined by the user. GUM"
   ]
  },
  {
   "cell_type": "markdown",
   "id": "defined-wedding",
   "metadata": {},
   "source": [
    "## Instantianting process (*Qlunc_Instantiate.py*):\n",
    "We've created so far an empty structure of a lidar. Now we fill in the components, modules and the lidar itself by giving values to the variables and instantiating the corresponding classes.\n",
    "\n",
    "All the parameters values are inputted through a yaml file (*Qlunc_inputs.yml*). We do this manually here to show the process:\n",
    "### Components"
   ]
  },
  {
   "cell_type": "code",
   "execution_count": 4,
   "id": "heavy-database",
   "metadata": {},
   "outputs": [],
   "source": [
    "Component1=component1(name              = 'Comp1',\n",
    "                      param1            = 'parameter1_Comp1',\n",
    "                      param2            = 'parameter2_Comp1',\n",
    "                      comp1_uncertainty = 'unc_func_Comp1')\n",
    "\n",
    "Component2=component2(name              = 'Comp2',\n",
    "                      param1            = 'parameter1_Comp2',\n",
    "                      param2            = 'parameter2_Comp2',\n",
    "                      comp2_uncertainty = 'unc_func_Comp2')\n",
    "\n",
    "Component3=component3(name              = 'Comp3',\n",
    "                      param1            = 'parameter1_Comp3',\n",
    "                      param2            = 'parameter2_Comp3',\n",
    "                      param3            = 'parameter3_Comp3',\n",
    "                      comp3_uncertainty = 'unc_func_Comp3')"
   ]
  },
  {
   "cell_type": "code",
   "execution_count": 5,
   "id": "infectious-family",
   "metadata": {},
   "outputs": [
    {
     "name": "stdout",
     "output_type": "stream",
     "text": [
      "Comp1\n",
      "parameter1_Comp1\n",
      "parameter2_Comp2\n",
      "unc_func_Comp3\n"
     ]
    }
   ],
   "source": [
    "print(Component1.name)\n",
    "print(Component1.param1)\n",
    "print(Component2.param2)\n",
    "print(Component3.uncertainty)\n"
   ]
  },
  {
   "cell_type": "markdown",
   "id": "behind-november",
   "metadata": {},
   "source": [
    "### Modules"
   ]
  },
  {
   "cell_type": "code",
   "execution_count": 6,
   "id": "interim-prompt",
   "metadata": {},
   "outputs": [],
   "source": [
    "Module1 = module1(name             = 'Mod1',\n",
    "                  component1       = Component1,\n",
    "                  component2       = Component2,\n",
    "                  mod1_uncertainty ='unc_func_Mod1')\n",
    "Module2 = module2(name             = 'Mod2',\n",
    "                component1         = Component3,\n",
    "                mod2_uncertainty   = 'unc_func_Mod2')"
   ]
  },
  {
   "cell_type": "code",
   "execution_count": 7,
   "id": "soviet-precipitation",
   "metadata": {},
   "outputs": [
    {
     "name": "stdout",
     "output_type": "stream",
     "text": [
      "parameter1_Comp1\n",
      "parameter3_Comp3\n"
     ]
    }
   ],
   "source": [
    "print(Module1.component1.param1)\n",
    "print(Module2.component1.param3)"
   ]
  },
  {
   "cell_type": "markdown",
   "id": "domestic-trustee",
   "metadata": {},
   "source": [
    "### Lidar"
   ]
  },
  {
   "cell_type": "code",
   "execution_count": 8,
   "id": "dedicated-merchant",
   "metadata": {},
   "outputs": [],
   "source": [
    "Lidar= lidar(name='Caixa1', module1=Module1,module2=Module2,lidar_uncertainty='Lidar_unc_func')"
   ]
  },
  {
   "cell_type": "code",
   "execution_count": 9,
   "id": "printable-indie",
   "metadata": {},
   "outputs": [
    {
     "name": "stdout",
     "output_type": "stream",
     "text": [
      "Lidar_unc_func\n"
     ]
    }
   ],
   "source": [
    "print(Lidar.uncertainty)"
   ]
  },
  {
   "cell_type": "markdown",
   "id": "qualified-universal",
   "metadata": {},
   "source": [
    "## How do we compute uncertainties\n",
    "Import the functions calculating uncertainties:"
   ]
  },
  {
   "cell_type": "code",
   "execution_count": 10,
   "id": "super-information",
   "metadata": {},
   "outputs": [],
   "source": [
    "import os\n",
    "#os.chdir('../')\n",
    "# importing  uncertainty functions\n",
    "#import UQ_Functions.UQ_Photonics_Classes as uphc,UQ_Functions.UQ_Optics_Classes as uopc, UQ_Functions.UQ_Power_Classes as upwc,UQ_Functions.UQ_Lidar_Classes as ulc\n",
    "#from Utils.Qlunc_ImportModules import *"
   ]
  },
  {
   "cell_type": "code",
   "execution_count": 11,
   "id": "deadly-numbers",
   "metadata": {},
   "outputs": [
    {
     "name": "stdout",
     "output_type": "stream",
     "text": [
      " Volume in drive C has no label.\n",
      " Volume Serial Number is 0C54-9785\n",
      "\n",
      " Directory of C:\\Users\\fcosta\\SWE_LOCAL\\GIT_Qlunc\\Tutorials\n",
      "\n",
      "01.05.2021  22:10    <DIR>          .\n",
      "01.05.2021  22:10    <DIR>          ..\n",
      "01.05.2021  22:05    <DIR>          .ipynb_checkpoints\n",
      "01.05.2021  22:06            15.590 Qlunc_Instantiate_Tutorial.py\n",
      "30.03.2021  02:01             1.045 readme.md\n",
      "01.05.2021  22:10            15.324 Tutorial0.ipynb\n",
      "01.05.2021  15:04           210.033 Tutorial1.ipynb\n",
      "01.05.2021  15:20            87.280 Tutorial2.ipynb\n",
      "30.04.2021  13:39            10.273 WorkingExample_Tutorial.py\n",
      "01.05.2021  15:02             4.941 yaml_inputs_file_1.yml\n",
      "01.05.2021  20:49             4.950 yaml_inputs_file_2_1.yml\n",
      "01.05.2021  14:47             4.953 yaml_inputs_file_2_2.yml\n",
      "               9 File(s)        354.389 bytes\n",
      "               3 Dir(s)  157.167.747.072 bytes free\n"
     ]
    }
   ],
   "source": [
    "!dir"
   ]
  },
  {
   "cell_type": "code",
   "execution_count": 12,
   "id": "offensive-potato",
   "metadata": {},
   "outputs": [],
   "source": [
    "# Obtain data from .yaml file:\n",
    "os.chdir('../Utils')"
   ]
  },
  {
   "cell_type": "code",
   "execution_count": 13,
   "id": "based-subsection",
   "metadata": {},
   "outputs": [],
   "source": [
    "from Qlunc_ImportModules import *\n",
    "os.chdir('../')"
   ]
  },
  {
   "cell_type": "code",
   "execution_count": null,
   "id": "tutorial-edgar",
   "metadata": {},
   "outputs": [],
   "source": [
    "!dir"
   ]
  },
  {
   "cell_type": "code",
   "execution_count": 16,
   "id": "wireless-signal",
   "metadata": {},
   "outputs": [
    {
     "name": "stdout",
     "output_type": "stream",
     "text": [
      "> \u001b[1;32m<string>\u001b[0m(29)\u001b[0;36m<module>\u001b[1;34m()\u001b[0m\n",
      "\n"
     ]
    },
    {
     "name": "stdin",
     "output_type": "stream",
     "text": [
      "ipdb>  c\n"
     ]
    },
    {
     "ename": "FileNotFoundError",
     "evalue": "[Errno 2] No such file or directory: './Tutorials/yaml_inputs_file1.yml'",
     "output_type": "error",
     "traceback": [
      "\u001b[1;31m---------------------------------------------------------------------------\u001b[0m",
      "\u001b[1;31mFileNotFoundError\u001b[0m                         Traceback (most recent call last)",
      "\u001b[1;32m<ipython-input-16-29472513e7de>\u001b[0m in \u001b[0;36m<module>\u001b[1;34m\u001b[0m\n\u001b[0;32m      1\u001b[0m \u001b[1;31m# Execute Qlunc_Classes.py (creating classes for lidar 'objects'):\u001b[0m\u001b[1;33m\u001b[0m\u001b[1;33m\u001b[0m\u001b[1;33m\u001b[0m\u001b[0m\n\u001b[1;32m----> 2\u001b[1;33m \u001b[0mexec\u001b[0m\u001b[1;33m(\u001b[0m\u001b[0mopen\u001b[0m\u001b[1;33m(\u001b[0m\u001b[1;34m'./Tutorials/Qlunc_Instantiate_Tutorial.py'\u001b[0m\u001b[1;33m)\u001b[0m\u001b[1;33m.\u001b[0m\u001b[0mread\u001b[0m\u001b[1;33m(\u001b[0m\u001b[1;33m)\u001b[0m\u001b[1;33m)\u001b[0m\u001b[1;33m\u001b[0m\u001b[1;33m\u001b[0m\u001b[0m\n\u001b[0m",
      "\u001b[1;32m<string>\u001b[0m in \u001b[0;36m<module>\u001b[1;34m\u001b[0m\n",
      "\u001b[1;31mFileNotFoundError\u001b[0m: [Errno 2] No such file or directory: './Tutorials/yaml_inputs_file1.yml'"
     ]
    }
   ],
   "source": [
    "# Execute Qlunc_Classes.py (creating classes for lidar 'objects'):\n",
    "exec(open('./Tutorials/Qlunc_Instantiate_Tutorial.py').read())"
   ]
  },
  {
   "cell_type": "code",
   "execution_count": null,
   "id": "hollow-margin",
   "metadata": {},
   "outputs": [],
   "source": [
    "Qlunc_yaml_inputs['Main_directory']"
   ]
  },
  {
   "cell_type": "markdown",
   "id": "sustainable-colony",
   "metadata": {},
   "source": [
    "### Photodetector\n",
    "Different noise contributions are taken into account. Shot noise, thermal noise and dark current noise are computed. An option including TIA noise is also given."
   ]
  }
 ],
 "metadata": {
  "kernelspec": {
   "display_name": "Python 3",
   "language": "python",
   "name": "python3"
  },
  "language_info": {
   "codemirror_mode": {
    "name": "ipython",
    "version": 3
   },
   "file_extension": ".py",
   "mimetype": "text/x-python",
   "name": "python",
   "nbconvert_exporter": "python",
   "pygments_lexer": "ipython3",
   "version": "3.7.9"
  }
 },
 "nbformat": 4,
 "nbformat_minor": 5
}
