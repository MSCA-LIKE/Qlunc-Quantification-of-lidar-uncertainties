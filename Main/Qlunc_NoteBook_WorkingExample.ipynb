{
 "cells": [
  {
   "cell_type": "markdown",
   "metadata": {},
   "source": [
    "#### Qlunc inputs tutorial by Francisco Costa\n",
    "# Qlunc (Quantification lidar uncertainties) \n",
    "Toolbox to assess uncertainties related with lidar hardware and lidar data processing\n",
    "In this tutorial you will get "
   ]
  },
  {
   "cell_type": "markdown",
   "metadata": {},
   "source": [
    "**Missing here: steps downloading the repository and the first steps, CPU requirements, software versions...**"
   ]
  },
  {
   "cell_type": "markdown",
   "metadata": {},
   "source": [
    "Importing some packages is always needed:"
   ]
  },
  {
   "cell_type": "code",
   "execution_count": 1,
   "metadata": {},
   "outputs": [],
   "source": [
    "import pandas as pd\n",
    "import sys,inspect\n",
    "from functools import reduce\n",
    "from operator import getitem\n",
    "import yaml\n",
    "import os\n",
    "import sys\n",
    "import yaml"
   ]
  },
  {
   "cell_type": "markdown",
   "metadata": {},
   "source": [
    "## Importing data from Yaml file"
   ]
  },
  {
   "cell_type": "markdown",
   "metadata": {},
   "source": [
    "First step is to fill the yaml file. We can find it in _Qlunc-V0.9/TestFiles_Qlunc/Working_example_yaml_inputs_file.yml_.\n",
    "You can open it with your preferred text editor and fill up the lidar parameters. Once all fields are filled, python offers a way to read data from a yaml file."
   ]
  },
  {
   "cell_type": "code",
   "execution_count": 2,
   "metadata": {},
   "outputs": [],
   "source": [
    "#Obtain data from _.yaml_ file:\n",
    "\n",
    "with open (r'../TestFiles_Qlunc/Working_example_yaml_inputs_file.yml','r') as file:\n",
    "    Qlunc_yaml_inputs={}\n",
    "    docs = yaml.load_all(file, Loader=yaml.FullLoader)\n",
    "    for doc in docs:      \n",
    "        for k, v in doc.items():     \n",
    "            Qlunc_yaml_inputs.setdefault(k,v)"
   ]
  },
  {
   "cell_type": "markdown",
   "metadata": {},
   "source": [
    "We obtain a dictionary, a well-known object in python, with all the data introduced in the yaml file"
   ]
  },
  {
   "cell_type": "code",
   "execution_count": 3,
   "metadata": {},
   "outputs": [
    {
     "data": {
      "text/plain": [
       "{'Main_directory': '../Main',\n",
       " 'Components': {'Scanner': {'Name': 'Scanner_Yaml',\n",
       "   'Origin': [0, 0, 0],\n",
       "   'Sample rate': 0,\n",
       "   'Focus distance': [68],\n",
       "   'Cone angle': [30],\n",
       "   'Azimuth': [0, 360, 15],\n",
       "   'stdv focus distance': 1,\n",
       "   'stdv Cone angle': 0.6,\n",
       "   'stdv Azimuth': 0.8,\n",
       "   'Uncertainty function': 'uopc.UQ_Scanner'},\n",
       "  'Optical Circulator': {'Name': 'OC_Yaml',\n",
       "   'Insertion loss': 2.1,\n",
       "   'Uncertainty function': 'uopc.UQ_OpticalCirculator'},\n",
       "  'Optical Amplifier': {'Name': 'OA_Yaml',\n",
       "   'Optical amplifier noise figure': '../metadata/NoiseFigure.csv',\n",
       "   'Optical amplifier gain': 30,\n",
       "   'Uncertainty function': 'uphc.UQ_Optical_amplifier'},\n",
       "  'Photodetector': {'Name': 'Photodetector_YAML',\n",
       "   'Photodetector BandWidth': 380000000.0,\n",
       "   'Load resistor': 50,\n",
       "   'Photodetector efficiency': 0.85,\n",
       "   'Dark current': 5e-09,\n",
       "   'Photodetector signalP': 0.001,\n",
       "   'Power interval': [0, 1000, 0.001],\n",
       "   'Gain TIA': 5000.0,\n",
       "   'V Noise TIA': 0.00016,\n",
       "   'Uncertainty function': 'uphc.UQ_Photodetector'},\n",
       "  'Lidar general inputs': {'Name': 'Lidar general inputs',\n",
       "   'Wavelength': 1.55e-06,\n",
       "   'Sample rate': 1,\n",
       "   'Yaw error': 0,\n",
       "   'Pitch error': 0,\n",
       "   'Roll error': 0}},\n",
       " 'Modules': {'Optics Module': {'Name': 'Optics module Yaml',\n",
       "   'Scanner': 'Scanner',\n",
       "   'Optical circulator': 'Optical_circulator',\n",
       "   'Laser': 'None',\n",
       "   'Uncertainty function': 'uopc.sum_unc_optics'},\n",
       "  'Photonics Module': {'Name': 'Photonics module',\n",
       "   'Photodetector': 'Photodetector',\n",
       "   'Optical amplifier': 'Optical_Amplifier',\n",
       "   'Uncertainty function': 'uphc.sum_unc_photonics'}},\n",
       " 'Lidar': {'Name': 'Caixa1',\n",
       "  'Photonics module': 'Photonics_Module',\n",
       "  'Optics module': 'Optics_Module',\n",
       "  'Power module': 'None',\n",
       "  'Lidar inputs': 'Lidar_inputs',\n",
       "  'Uncertainty function': 'ulc.sum_unc_lidar'},\n",
       " 'Atmospheric_inputs': {'TimeSeries': False,\n",
       "  'Atmos_TS_FILE': 'AtmosphericScenarios.csv',\n",
       "  'Temperature': [300],\n",
       "  'Humidity': [12],\n",
       "  'Rain': True,\n",
       "  'Fog': False},\n",
       " 'Flags': {'Pointing accuracy uncertainty': False,\n",
       "  'Scanning Pattern': True,\n",
       "  'Photodetector noise': True}}"
      ]
     },
     "execution_count": 3,
     "metadata": {},
     "output_type": "execute_result"
    }
   ],
   "source": [
    "Qlunc_yaml_inputs"
   ]
  },
  {
   "cell_type": "markdown",
   "metadata": {},
   "source": [
    "## Creating the lidar classes:"
   ]
  },
  {
   "cell_type": "markdown",
   "metadata": {},
   "source": [
    "Now, we want to create a virtual-twin lidar device by using python object oriented programming features. For that a for each, component, module and even lidar itself is created. We will instantiate those classes once we've created them, so:"
   ]
  },
  {
   "cell_type": "code",
   "execution_count": 4,
   "metadata": {},
   "outputs": [],
   "source": [
    "# Execute Qlunc_Classes.py (creating classes for lidar 'objects'):\n",
    "exec(open(Qlunc_yaml_inputs['Main_directory']+'/Qlunc_Classes.py').read())   "
   ]
  },
  {
   "cell_type": "markdown",
   "metadata": {},
   "source": [
    "Reading flags from yaml file (selecting what you want to plot):"
   ]
  },
  {
   "cell_type": "code",
   "execution_count": 5,
   "metadata": {},
   "outputs": [],
   "source": [
    "# Pointing accuracy uncertainty - Keep False\n",
    "flags.flag_plot_pointing_accuracy_unc    = Qlunc_yaml_inputs['Flags']['Pointing accuracy uncertainty']   \n",
    "# Pattern of measuring points\n",
    "flags.flag_plot_measuring_points_pattern = Qlunc_yaml_inputs['Flags']['Scanning Pattern']\n",
    "# Photodetector noise: shot noise, dark current noise, thermal noise as a function of the photodetector input signal power.\n",
    "flags.flag_plot_photodetector_noise      = Qlunc_yaml_inputs['Flags']['Photodetector noise']  "
   ]
  },
  {
   "cell_type": "markdown",
   "metadata": {},
   "source": [
    "## Creating the lidar digital twin:"
   ]
  },
  {
   "cell_type": "markdown",
   "metadata": {},
   "source": [
    "We can now begin building up the lidar device and we will do it modularly. \n",
    "### Scanner digital twin:\n",
    "Will begin with the optics module and want to include in here two components: a scanner and an optical circulator, wich characteristics has been introduced in the yaml file.\n",
    "\n",
    "Then, we can instance the class _scanner_ and the class _optical_circulator_ to build up an _optics_module_, wich at the same time is created by instantiating the class _optics_module_.\n",
    "\n",
    "Let's instantiate the class _scanner_ to \"create\" the scanner object:"
   ]
  },
  {
   "cell_type": "code",
   "execution_count": 6,
   "metadata": {},
   "outputs": [
    {
     "name": "stdout",
     "output_type": "stream",
     "text": [
      "Created new scanner: Scanner_Yaml\n"
     ]
    }
   ],
   "source": [
    "# Instantiating scanner class to create a Scanner virtual-twin\n",
    "\n",
    "Scanner = scanner(name           = Qlunc_yaml_inputs['Components']['Scanner']['Name'],           \n",
    "               origin            = Qlunc_yaml_inputs['Components']['Scanner']['Origin'],         \n",
    "               sample_rate       = Qlunc_yaml_inputs['Components']['Scanner']['Sample rate'],    \n",
    "               focus_dist        = np.array(Qlunc_yaml_inputs['Components']['Scanner']['Focus distance']*int(Qlunc_yaml_inputs['Components']['Scanner']['Azimuth'][1]/Qlunc_yaml_inputs['Components']['Scanner']['Azimuth'][2])),                                       \n",
    "               cone_angle        = np.array(Qlunc_yaml_inputs['Components']['Scanner']['Cone angle']*int(Qlunc_yaml_inputs['Components']['Scanner']['Azimuth'][1]/Qlunc_yaml_inputs['Components']['Scanner']['Azimuth'][2])),\n",
    "               azimuth           = np.array(np.arange(Qlunc_yaml_inputs['Components']['Scanner']['Azimuth'][0],\n",
    "                                                    Qlunc_yaml_inputs['Components']['Scanner']['Azimuth'][1],\n",
    "                                                    Qlunc_yaml_inputs['Components']['Scanner']['Azimuth'][2])),                           \n",
    "               stdv_focus_dist   = Qlunc_yaml_inputs['Components']['Scanner']['stdv focus distance'],                \n",
    "               stdv_cone_angle   = Qlunc_yaml_inputs['Components']['Scanner']['stdv Cone angle'],       \n",
    "               stdv_azimuth      = Qlunc_yaml_inputs['Components']['Scanner']['stdv Azimuth'],\n",
    "               unc_func          = eval(Qlunc_yaml_inputs['Components']['Scanner']['Uncertainty function']) ) \n",
    "\n"
   ]
  },
  {
   "cell_type": "markdown",
   "metadata": {},
   "source": [
    "The label \"Yaml\" in the name of the device informs us that the data was taken from a yaml file and not manually instantiating the class in question.\n",
    "\n",
    "### Optical circulator digital twin:\n",
    "Then we can create the optical circulator by instantiating the optical_circulator class as follows:"
   ]
  },
  {
   "cell_type": "code",
   "execution_count": null,
   "metadata": {},
   "outputs": [],
   "source": [
    "#Optical Circulator:\n",
    "\n",
    "Optical_circulator = optical_circulator (name           = Qlunc_yaml_inputs['Components']['Optical Circulator']['Name'],\n",
    "                                         insertion_loss = Qlunc_yaml_inputs['Components']['Optical Circulator']['Insertion loss'],              \n",
    "                                         unc_func       = eval(Qlunc_yaml_inputs['Components']['Optical Circulator']['Uncertainty function']))  "
   ]
  },
  {
   "cell_type": "markdown",
   "metadata": {},
   "source": [
    "### Optics module digital twin: \n",
    "Then we create the optics module by puting all optic components created so far (_Scanner_ and _Optical_circulator_) together"
   ]
  },
  {
   "cell_type": "code",
   "execution_count": null,
   "metadata": {},
   "outputs": [],
   "source": [
    "# Optics Module:\n",
    "\n",
    "Optics_Module =  optics (name               = Qlunc_yaml_inputs['Modules']['Optics Module']['Name'],     # Introduce your Optics Module name.\n",
    "                         scanner            = eval(Qlunc_yaml_inputs['Modules']['Optics Module']['Scanner']),             # Scanner instance (in this example \"Scanner\") or \"None\". \"None\" means that you don´t want to include Scanner in Optics Module, either in uncertainty calculations.\n",
    "                         optical_circulator = eval(Qlunc_yaml_inputs['Modules']['Optics Module']['Optical circulator']),  # Optical Circulator instance (in this example \"Optical_circulator\") or \"None\". \"None\" means that you don´t want to include Optical circulator in Optics Module, either in uncertainty calculations.\n",
    "                         laser              = eval(Qlunc_yaml_inputs['Modules']['Optics Module']['Laser']),\n",
    "                         unc_func           = eval(Qlunc_yaml_inputs['Modules']['Optics Module']['Uncertainty function']))"
   ]
  },
  {
   "cell_type": "markdown",
   "metadata": {},
   "source": [
    "### Parameters access (dot notation):"
   ]
  },
  {
   "cell_type": "markdown",
   "metadata": {},
   "source": [
    "If want to access to any parameter, follow dot notation:"
   ]
  },
  {
   "cell_type": "code",
   "execution_count": null,
   "metadata": {},
   "outputs": [],
   "source": [
    "print(Scanner.focus_dist)\n",
    "print(Optical_circulator.insertion_loss)\n",
    "print (Optical_circulator.Optical_CirculatorID)"
   ]
  },
  {
   "cell_type": "code",
   "execution_count": null,
   "metadata": {},
   "outputs": [],
   "source": []
  },
  {
   "cell_type": "markdown",
   "metadata": {},
   "source": [
    "We have already created the optics module. Follow the same method we can create the rest of the components and modules by instantiating their corresponding classes.\n",
    "\n",
    "### Optical amplifier digital twin:\n",
    "Let's create the photonics module. First we do instantiate its components namely, photodetector and optical amplifier."
   ]
  },
  {
   "cell_type": "code",
   "execution_count": null,
   "metadata": {},
   "outputs": [],
   "source": [
    "# Instantiating optical amplifier:\n",
    "Optical_Amplifier = optical_amplifier(name    = Qlunc_yaml_inputs['Components']['Optical Amplifier']['Name'],        # Introduce your scanner name.\n",
    "                                     OA_NF    = Qlunc_yaml_inputs['Components']['Optical Amplifier']['Optical amplifier noise figure'],          # In [dB]. Can introduce it as a table from manufactures (in this example the data is taken from Thorlabs.com, in section EDFA\\Graps) or introduce a single well-known value\n",
    "                                     OA_Gain  = Qlunc_yaml_inputs['Components']['Optical Amplifier']['Optical amplifier gain'],                         # In [dB]. (in this example the data is taken from Thorlabs.com, in section EDFA\\Specs)\n",
    "                                     unc_func = eval(Qlunc_yaml_inputs['Components']['Optical Amplifier']['Uncertainty function']))  # Function describing Optical Amplifier uncertainty. Further informaion in \"UQ_Photonics_Classes.py\" comments.\n"
   ]
  },
  {
   "cell_type": "markdown",
   "metadata": {},
   "source": [
    "### Photodetector digital twin:"
   ]
  },
  {
   "cell_type": "code",
   "execution_count": null,
   "metadata": {},
   "outputs": [],
   "source": [
    "# Instantiating Photodetector:\n",
    "Photodetector    = photodetector(name             = Qlunc_yaml_inputs['Components']['Photodetector']['Name'],               # Introduce your photodetector name.\n",
    "                                 Photo_BandWidth  = Qlunc_yaml_inputs['Components']['Photodetector']['Photodetector BandWidth'],                  # In[]. Photodetector bandwidth\n",
    "                                 Load_Resistor    = Qlunc_yaml_inputs['Components']['Photodetector']['Load resistor'],                     # In [ohms]\n",
    "                                 Photo_efficiency = Qlunc_yaml_inputs['Components']['Photodetector']['Photodetector efficiency'],                    # Photodetector efficiency [-]\n",
    "                                 Dark_Current     = Qlunc_yaml_inputs['Components']['Photodetector']['Dark current'],                   #  In [A]. Dark current in the photodetector.\n",
    "                                 Photo_SignalP    = Qlunc_yaml_inputs['Components']['Photodetector']['Photodetector signalP'],\n",
    "                                 Power_interval   = np.array(np.arange(Qlunc_yaml_inputs['Components']['Photodetector']['Power interval'][0],\n",
    "                                                                       Qlunc_yaml_inputs['Components']['Photodetector']['Power interval'][1],\n",
    "                                                                       Qlunc_yaml_inputs['Components']['Photodetector']['Power interval'][2])),#np.arange(Qlunc_yaml_inputs['Components']['Photodetector']['Power interval']), # In [w]. Power interval for the photodetector domain in photodetector SNR plot. \n",
    "                                 Gain_TIA         = Qlunc_yaml_inputs['Components']['Photodetector']['Gain TIA'],                    # In [dB]. If there is a transimpedance amplifier.\n",
    "                                 V_Noise_TIA      = Qlunc_yaml_inputs['Components']['Photodetector']['V Noise TIA'],                 # In [V]. If there is a transimpedance amplifier.\n",
    "                                 unc_func         = eval(Qlunc_yaml_inputs['Components']['Photodetector']['Uncertainty function']))  # Function describing Photodetector uncertainty. Further informaion in \"UQ_Photonics_Classes.py\" comments.\n"
   ]
  },
  {
   "cell_type": "markdown",
   "metadata": {},
   "source": [
    "### Photonics module digital twin:\n",
    "And finally the Photonics module:"
   ]
  },
  {
   "cell_type": "code",
   "execution_count": null,
   "metadata": {},
   "outputs": [],
   "source": [
    "# Instantiating Photonics module:\n",
    "Photonics_Module = photonics(name              = Qlunc_yaml_inputs['Modules']['Photonics Module']['Name'],        # Introduce your Photonics module name\n",
    "                             photodetector     = eval(Qlunc_yaml_inputs['Modules']['Photonics Module']['Photodetector']),             # Photodetector instance (in this example \"Photodetector\") or \"None\". \"None\" means that you don´t want to include photodetector in Photonics Module, either in uncertainty calculations.\n",
    "                             optical_amplifier = eval(Qlunc_yaml_inputs['Modules']['Photonics Module']['Optical amplifier']),         # Scanner instance (in this example \"OpticalAmplifier\") or \"None\". \"None\" means that you don´t want to include Optical Amplifier in Photonics Module, either in uncertainty calculations.\n",
    "                             unc_func          = eval(Qlunc_yaml_inputs['Modules']['Photonics Module']['Uncertainty function']))\n"
   ]
  },
  {
   "cell_type": "markdown",
   "metadata": {},
   "source": [
    "### Lidar general inputs:"
   ]
  },
  {
   "cell_type": "code",
   "execution_count": null,
   "metadata": {},
   "outputs": [],
   "source": [
    "Lidar_inputs = lidar_gral_inp(name        = Qlunc_yaml_inputs['Components']['Lidar general inputs']['Name'],      # Introduce the name of your lidar data folder.\n",
    "                              wave        = Qlunc_yaml_inputs['Components']['Lidar general inputs']['Wavelength'],                    # In [m]. Lidar wavelength.\n",
    "                              sample_rate = Qlunc_yaml_inputs['Components']['Lidar general inputs']['Sample rate'],                          # In [Hz]\n",
    "                              yaw_error   = Qlunc_yaml_inputs['Components']['Lidar general inputs']['Yaw error'],                          # In [°]. Degrees of rotation around z axis because of inclinometer errors\n",
    "                              pitch_error = Qlunc_yaml_inputs['Components']['Lidar general inputs']['Pitch error'],                          # In [°]. Degrees of rotation around y axis\n",
    "                              roll_error  = Qlunc_yaml_inputs['Components']['Lidar general inputs']['Roll error'])                          # In [°]. Degrees of rotation around z axis.\n"
   ]
  }
 ],
 "metadata": {
  "kernelspec": {
   "display_name": "Python 3",
   "language": "python",
   "name": "python3"
  },
  "language_info": {
   "codemirror_mode": {
    "name": "ipython",
    "version": 3
   },
   "file_extension": ".py",
   "mimetype": "text/x-python",
   "name": "python",
   "nbconvert_exporter": "python",
   "pygments_lexer": "ipython3",
   "version": "3.7.4"
  }
 },
 "nbformat": 4,
 "nbformat_minor": 4
}
